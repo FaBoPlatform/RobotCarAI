{
 "cells": [
  {
   "cell_type": "code",
   "execution_count": 1,
   "metadata": {},
   "outputs": [
    {
     "name": "stdout",
     "output_type": "stream",
     "text": [
      "start\n",
      "END\n"
     ]
    }
   ],
   "source": [
    "#!/usr/bin/python\n",
    "# coding: utf-8 \n",
    "\n",
    "from __future__ import division\n",
    "import time\n",
    "import Adafruit_PCA9685\n",
    "\n",
    "print(\"start\")\n",
    "\n",
    "pwm = Adafruit_PCA9685.PCA9685()\n",
    "pwm.set_pwm_freq(60)\n",
    "\n",
    "CALIBRATION = 4 # フロントタイヤがまっすぐになりそうな角度に調整\n",
    "HANDLE_NUTRAL = 375 + CALIBRATION # フロントタイヤがまっすぐの時のサーボ位置\n",
    "MAX_HANDLE_RIGHT = 150\n",
    "MAX_HANDLE_LEFT = 600\n",
    "\n",
    "MAX_HANDLE_ANGLE = 45 # フロントタイヤの左右最大角のサーボ位置\n",
    "HANDLE_RIGHT = HANDLE_NUTRAL + MAX_HANDLE_ANGLE\n",
    "HANDLE_LEFT = HANDLE_NUTRAL - MAX_HANDLE_ANGLE\n",
    "\n",
    "def main():\n",
    "    try:\n",
    "        while True:\n",
    "            # 人力確認\n",
    "            #ANGLE = int(raw_input('Enter angle: '))\n",
    "            #HANDLE_RIGHT = HANDLE_NUTRAL + ANGLE\n",
    "            #HANDLE_LEFT = HANDLE_NUTRAL - ANGLE\n",
    "\n",
    "            channel = 0\n",
    "            pwm.set_pwm(channel, 0, HANDLE_RIGHT)\n",
    "            time.sleep(1)\n",
    "            pwm.set_pwm(channel, 0, HANDLE_NUTRAL)\n",
    "            time.sleep(1)\n",
    "            pwm.set_pwm(channel, 0, HANDLE_LEFT)\n",
    "            time.sleep(1)\n",
    "            pwm.set_pwm(channel, 0, HANDLE_NUTRAL)\n",
    "            time.sleep(5)\n",
    "\n",
    "\n",
    "    except KeyboardInterrupt:\n",
    "        pass\n",
    "\n",
    "main()\n",
    "\n",
    "pwm.set_pwm(0, 0, HANDLE_NUTRAL)\n",
    "time.sleep(1)\n",
    "print(\"END\")\n"
   ]
  },
  {
   "cell_type": "code",
   "execution_count": null,
   "metadata": {
    "collapsed": true
   },
   "outputs": [],
   "source": []
  }
 ],
 "metadata": {
  "kernelspec": {
   "display_name": "Python 2",
   "language": "python",
   "name": "python2"
  },
  "language_info": {
   "codemirror_mode": {
    "name": "ipython",
    "version": 2
   },
   "file_extension": ".py",
   "mimetype": "text/x-python",
   "name": "python",
   "nbconvert_exporter": "python",
   "pygments_lexer": "ipython2",
   "version": "2.7.12"
  }
 },
 "nbformat": 4,
 "nbformat_minor": 2
}
