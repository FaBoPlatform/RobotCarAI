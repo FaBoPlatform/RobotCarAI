{
 "cells": [
  {
   "cell_type": "code",
   "execution_count": null,
   "metadata": {
    "collapsed": true
   },
   "outputs": [],
   "source": [
    "Lidar Lite v3のケーブルを一本だけ接続します。\n",
    "Lidarはアドレス0x62で起動します。\n",
    "このアドレスを0x64に変更してセンサー値を取得できることを確認します。"
   ]
  },
  {
   "cell_type": "code",
   "execution_count": null,
   "metadata": {
    "scrolled": true
   },
   "outputs": [],
   "source": [
    "import sys\n",
    "import time\n",
    "from __future__ import print_function\n",
    "import LidarLiteV3\n",
    "lidar = LidarLiteV3.Connect(0x62)\n",
    "\n",
    "lidar.changeAddress(0x52)\n",
    "\n",
    "for i in range(300):\n",
    "    distance = lidar.getDistance()\n",
    "    print(\"Distance to target = \"+str(distance), \"   \\r\", end=\"\")\n",
    "    sys.stdout.flush()\n",
    "    time.sleep(0.022)\n",
    "print(\"\")\n",
    "sys.stdout.flush()\n",
    "print(\"end\")"
   ]
  },
  {
   "cell_type": "code",
   "execution_count": null,
   "metadata": {
    "collapsed": true
   },
   "outputs": [],
   "source": [
    "Lidar Lite v3の2個目のケーブルを接続します。\n",
    "Lidarはアドレス0x62で起動します。\n",
    "このアドレスを0x66に変更してセンサー値を取得できることを確認します。"
   ]
  },
  {
   "cell_type": "code",
   "execution_count": null,
   "metadata": {},
   "outputs": [],
   "source": [
    "import sys\n",
    "import time\n",
    "from __future__ import print_function\n",
    "import LidarLiteV3\n",
    "lidar2 = LidarLiteV3.Connect(0x62)\n",
    "\n",
    "lidar2.changeAddress(0x54)\n",
    "\n",
    "for i in range(300):\n",
    "    distance2 = lidar2.getDistance()\n",
    "    print(\"Distance to target = \"+str(distance2), \"   \\r\", end=\"\")\n",
    "    sys.stdout.flush()\n",
    "    time.sleep(0.022)\n",
    "print(\"\")\n",
    "sys.stdout.flush()\n",
    "print(\"end\")"
   ]
  },
  {
   "cell_type": "code",
   "execution_count": null,
   "metadata": {
    "collapsed": true
   },
   "outputs": [],
   "source": [
    "Lidar Lite v3の3個目のケーブルを接続します。\n",
    "Lidarはアドレス0x62で起動します。\n",
    "このアドレスを0x68に変更してセンサー値を取得できることを確認します。"
   ]
  },
  {
   "cell_type": "code",
   "execution_count": null,
   "metadata": {},
   "outputs": [],
   "source": [
    "import sys\n",
    "import time\n",
    "from __future__ import print_function\n",
    "import LidarLiteV3\n",
    "lidar3 = LidarLiteV3.Connect(0x62)\n",
    "\n",
    "lidar3.changeAddress(0x56)\n",
    "\n",
    "for i in range(300):\n",
    "    distance3 = lidar3.getDistance()\n",
    "    print(\"Distance to target = \"+str(distance3), \"   \\r\", end=\"\")\n",
    "    sys.stdout.flush()\n",
    "    time.sleep(0.022)\n",
    "print(\"\")\n",
    "sys.stdout.flush()\n",
    "print(\"end\")"
   ]
  },
  {
   "cell_type": "code",
   "execution_count": null,
   "metadata": {
    "collapsed": true
   },
   "outputs": [],
   "source": [
    "3個のLidar Lite v3がそれぞれ値取得出来ていることを確認します。"
   ]
  },
  {
   "cell_type": "code",
   "execution_count": null,
   "metadata": {
    "scrolled": true
   },
   "outputs": [],
   "source": [
    "for i in range(300):\n",
    "    distance = lidar.getDistance()\n",
    "    distance2 = lidar2.getDistance()\n",
    "    distance3 = lidar3.getDistance()\n",
    "    print(\"Distance to target = \"+str(distance)+\", \"+str(distance2)+\", \"+str(distance3), \"         \\r\", end=\"\")\n",
    "    sys.stdout.flush()\n",
    "    time.sleep(0.022)\n",
    "print(\"\")\n",
    "sys.stdout.flush()\n",
    "print(\"end\")"
   ]
  },
  {
   "cell_type": "code",
   "execution_count": null,
   "metadata": {
    "collapsed": true
   },
   "outputs": [],
   "source": []
  }
 ],
 "metadata": {
  "kernelspec": {
   "display_name": "Python 2",
   "language": "python",
   "name": "python2"
  },
  "language_info": {
   "codemirror_mode": {
    "name": "ipython",
    "version": 2
   },
   "file_extension": ".py",
   "mimetype": "text/x-python",
   "name": "python",
   "nbconvert_exporter": "python",
   "pygments_lexer": "ipython2",
   "version": "2.7.12"
  }
 },
 "nbformat": 4,
 "nbformat_minor": 2
}
