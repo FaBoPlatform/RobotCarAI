{
 "cells": [
  {
   "cell_type": "code",
   "execution_count": 1,
   "metadata": {},
   "outputs": [
    {
     "name": "stderr",
     "output_type": "stream",
     "text": [
      "[DEBUG] time:1496114593.96136999 pid:28091 pn:Process-2  tid:1996107776 tn:MainThread fn:do_control enter\n",
      "[DEBUG] time:1496114593.96842408 pid:28092 pn:Process-3  tid:1996107776 tn:MainThread fn:do_prediction enter\n",
      "[DEBUG] time:1496114593.99765801 pid:28091 pn:Process-2  tid:1996107776 tn:MainThread fn:write8     Wrote 0x00 to register 0xFA\n",
      "[DEBUG] time:1496114594.00250196 pid:28091 pn:Process-2  tid:1996107776 tn:MainThread fn:write8     Wrote 0x00 to register 0xFB\n",
      "[DEBUG] time:1496114594.02501106 pid:28091 pn:Process-2  tid:1996107776 tn:MainThread fn:write8     Wrote 0x00 to register 0xFC\n",
      "[DEBUG] time:1496114594.03811193 pid:28091 pn:Process-2  tid:1996107776 tn:MainThread fn:write8     Wrote 0x00 to register 0xFD\n",
      "[DEBUG] time:1496114594.04474998 pid:28091 pn:Process-2  tid:1996107776 tn:MainThread fn:write8     Wrote 0x04 to register 0x01\n",
      "[DEBUG] time:1496114594.05090499 pid:28091 pn:Process-2  tid:1996107776 tn:MainThread fn:write8     Wrote 0x01 to register 0x00\n",
      "[DEBUG] time:1496114594.06285310 pid:28091 pn:Process-2  tid:1996107776 tn:MainThread fn:readU8     Read 0x01 from register 0x00\n",
      "[DEBUG] time:1496114594.06902194 pid:28091 pn:Process-2  tid:1996107776 tn:MainThread fn:write8     Wrote 0x01 to register 0x00\n",
      "[DEBUG] time:1496114594.08000994 pid:28091 pn:Process-2  tid:1996107776 tn:MainThread fn:set_pwm_freq Setting PWM frequency to 60 Hz\n",
      "[DEBUG] time:1496114594.08426905 pid:28091 pn:Process-2  tid:1996107776 tn:MainThread fn:set_pwm_freq Estimated pre-scale: 100.725260417\n",
      "[DEBUG] time:1496114594.08834410 pid:28091 pn:Process-2  tid:1996107776 tn:MainThread fn:set_pwm_freq Final pre-scale: 101\n",
      "[DEBUG] time:1496114594.09310794 pid:28091 pn:Process-2  tid:1996107776 tn:MainThread fn:readU8     Read 0x01 from register 0x00\n",
      "[DEBUG] time:1496114594.09762192 pid:28091 pn:Process-2  tid:1996107776 tn:MainThread fn:write8     Wrote 0x11 to register 0x00\n",
      "[DEBUG] time:1496114594.10202789 pid:28091 pn:Process-2  tid:1996107776 tn:MainThread fn:write8     Wrote 0x65 to register 0xFE\n",
      "[DEBUG] time:1496114594.10664701 pid:28091 pn:Process-2  tid:1996107776 tn:MainThread fn:write8     Wrote 0x01 to register 0x00\n",
      "[DEBUG] time:1496114594.11632204 pid:28091 pn:Process-2  tid:1996107776 tn:MainThread fn:write8     Wrote 0x81 to register 0x00\n",
      "[DEBUG] time:1496114594.12105894 pid:28091 pn:Process-2  tid:1996107776 tn:MainThread fn:write8     Wrote 0x00 to register 0x06\n",
      "[DEBUG] time:1496114594.12557197 pid:28091 pn:Process-2  tid:1996107776 tn:MainThread fn:write8     Wrote 0x00 to register 0x07\n",
      "[DEBUG] time:1496114594.13000798 pid:28091 pn:Process-2  tid:1996107776 tn:MainThread fn:write8     Wrote 0x77 to register 0x08\n",
      "[DEBUG] time:1496114594.13505411 pid:28091 pn:Process-2  tid:1996107776 tn:MainThread fn:write8     Wrote 0x01 to register 0x09\n"
     ]
    },
    {
     "name": "stdout",
     "output_type": "stream",
     "text": [
      "('control: ', 0)\n"
     ]
    },
    {
     "name": "stderr",
     "output_type": "stream",
     "text": [
      "[DEBUG] time:1496114594.14470005 pid:28091 pn:Process-2  tid:1996107776 tn:MainThread fn:write8     Wrote 0x00 to register 0x06\n",
      "[DEBUG] time:1496114594.14906001 pid:28091 pn:Process-2  tid:1996107776 tn:MainThread fn:write8     Wrote 0x00 to register 0x07\n",
      "[DEBUG] time:1496114594.15367508 pid:28091 pn:Process-2  tid:1996107776 tn:MainThread fn:write8     Wrote 0x77 to register 0x08\n",
      "[DEBUG] time:1496114594.15852499 pid:28091 pn:Process-2  tid:1996107776 tn:MainThread fn:write8     Wrote 0x01 to register 0x09\n"
     ]
    },
    {
     "name": "stdout",
     "output_type": "stream",
     "text": [
      "('control: ', 0)\n"
     ]
    },
    {
     "name": "stderr",
     "output_type": "stream",
     "text": [
      "[DEBUG] time:1496114594.21954393 pid:28091 pn:Process-2  tid:1996107776 tn:MainThread fn:write8     Wrote 0x00 to register 0x06\n",
      "[DEBUG] time:1496114594.22478890 pid:28091 pn:Process-2  tid:1996107776 tn:MainThread fn:write8     Wrote 0x00 to register 0x07\n",
      "[DEBUG] time:1496114594.22981310 pid:28091 pn:Process-2  tid:1996107776 tn:MainThread fn:write8     Wrote 0x77 to register 0x08\n",
      "[DEBUG] time:1496114594.23507500 pid:28091 pn:Process-2  tid:1996107776 tn:MainThread fn:write8     Wrote 0x01 to register 0x09\n"
     ]
    },
    {
     "name": "stdout",
     "output_type": "stream",
     "text": [
      "('control: ', 0)\n"
     ]
    },
    {
     "name": "stderr",
     "output_type": "stream",
     "text": [
      "[DEBUG] time:1496114594.29621696 pid:28091 pn:Process-2  tid:1996107776 tn:MainThread fn:write8     Wrote 0x00 to register 0x06\n",
      "[DEBUG] time:1496114594.30115604 pid:28091 pn:Process-2  tid:1996107776 tn:MainThread fn:write8     Wrote 0x00 to register 0x07\n",
      "[DEBUG] time:1496114594.31590796 pid:28091 pn:Process-2  tid:1996107776 tn:MainThread fn:write8     Wrote 0x77 to register 0x08\n",
      "[DEBUG] time:1496114594.32108688 pid:28091 pn:Process-2  tid:1996107776 tn:MainThread fn:write8     Wrote 0x01 to register 0x09\n"
     ]
    },
    {
     "name": "stdout",
     "output_type": "stream",
     "text": [
      "('control: ', 0)\n"
     ]
    },
    {
     "name": "stderr",
     "output_type": "stream",
     "text": [
      "[DEBUG] time:1496114594.38896489 pid:28091 pn:Process-2  tid:1996107776 tn:MainThread fn:write8     Wrote 0x00 to register 0x06\n",
      "[DEBUG] time:1496114594.39435697 pid:28091 pn:Process-2  tid:1996107776 tn:MainThread fn:write8     Wrote 0x00 to register 0x07\n",
      "[DEBUG] time:1496114594.39901495 pid:28091 pn:Process-2  tid:1996107776 tn:MainThread fn:write8     Wrote 0x77 to register 0x08\n",
      "[DEBUG] time:1496114594.40395308 pid:28091 pn:Process-2  tid:1996107776 tn:MainThread fn:write8     Wrote 0x01 to register 0x09\n"
     ]
    },
    {
     "name": "stdout",
     "output_type": "stream",
     "text": [
      "('control: ', 0)\n"
     ]
    },
    {
     "name": "stderr",
     "output_type": "stream",
     "text": [
      "[DEBUG] time:1496114594.47407889 pid:28091 pn:Process-2  tid:1996107776 tn:MainThread fn:write8     Wrote 0x00 to register 0x06\n",
      "[DEBUG] time:1496114594.47935700 pid:28091 pn:Process-2  tid:1996107776 tn:MainThread fn:write8     Wrote 0x00 to register 0x07\n",
      "[DEBUG] time:1496114594.48424292 pid:28091 pn:Process-2  tid:1996107776 tn:MainThread fn:write8     Wrote 0x77 to register 0x08\n",
      "[DEBUG] time:1496114594.48911691 pid:28091 pn:Process-2  tid:1996107776 tn:MainThread fn:write8     Wrote 0x01 to register 0x09\n"
     ]
    },
    {
     "name": "stdout",
     "output_type": "stream",
     "text": [
      "('control: ', 0)\n"
     ]
    },
    {
     "name": "stderr",
     "output_type": "stream",
     "text": [
      "[DEBUG] time:1496114594.55031490 pid:28091 pn:Process-2  tid:1996107776 tn:MainThread fn:write8     Wrote 0x00 to register 0x06\n",
      "[DEBUG] time:1496114594.55540609 pid:28091 pn:Process-2  tid:1996107776 tn:MainThread fn:write8     Wrote 0x00 to register 0x07\n",
      "[DEBUG] time:1496114594.56117010 pid:28091 pn:Process-2  tid:1996107776 tn:MainThread fn:write8     Wrote 0x77 to register 0x08\n",
      "[DEBUG] time:1496114594.56626701 pid:28091 pn:Process-2  tid:1996107776 tn:MainThread fn:write8     Wrote 0x01 to register 0x09\n"
     ]
    },
    {
     "name": "stdout",
     "output_type": "stream",
     "text": [
      "('control: ', 2)\n"
     ]
    },
    {
     "name": "stderr",
     "output_type": "stream",
     "text": [
      "[DEBUG] time:1496114594.62885499 pid:28091 pn:Process-2  tid:1996107776 tn:MainThread fn:write8     Wrote 0x00 to register 0x06\n",
      "[DEBUG] time:1496114594.63455296 pid:28091 pn:Process-2  tid:1996107776 tn:MainThread fn:write8     Wrote 0x00 to register 0x07\n",
      "[DEBUG] time:1496114594.63984299 pid:28091 pn:Process-2  tid:1996107776 tn:MainThread fn:write8     Wrote 0x77 to register 0x08\n",
      "[DEBUG] time:1496114594.64512801 pid:28091 pn:Process-2  tid:1996107776 tn:MainThread fn:write8     Wrote 0x01 to register 0x09\n"
     ]
    },
    {
     "name": "stdout",
     "output_type": "stream",
     "text": [
      "('control: ', 2)\n"
     ]
    },
    {
     "name": "stderr",
     "output_type": "stream",
     "text": [
      "[DEBUG] time:1496114594.71358395 pid:28091 pn:Process-2  tid:1996107776 tn:MainThread fn:write8     Wrote 0x00 to register 0x06\n",
      "[DEBUG] time:1496114594.71908689 pid:28091 pn:Process-2  tid:1996107776 tn:MainThread fn:write8     Wrote 0x00 to register 0x07\n",
      "[DEBUG] time:1496114594.72996402 pid:28091 pn:Process-2  tid:1996107776 tn:MainThread fn:write8     Wrote 0x77 to register 0x08\n",
      "[DEBUG] time:1496114594.73434711 pid:28091 pn:Process-2  tid:1996107776 tn:MainThread fn:write8     Wrote 0x01 to register 0x09\n"
     ]
    },
    {
     "name": "stdout",
     "output_type": "stream",
     "text": [
      "('control: ', 2)\n"
     ]
    },
    {
     "name": "stderr",
     "output_type": "stream",
     "text": [
      "[DEBUG] time:1496114594.80385089 pid:28091 pn:Process-2  tid:1996107776 tn:MainThread fn:write8     Wrote 0x00 to register 0x06\n",
      "[DEBUG] time:1496114594.80826306 pid:28091 pn:Process-2  tid:1996107776 tn:MainThread fn:write8     Wrote 0x00 to register 0x07\n",
      "[DEBUG] time:1496114594.81326699 pid:28091 pn:Process-2  tid:1996107776 tn:MainThread fn:write8     Wrote 0x77 to register 0x08\n",
      "[DEBUG] time:1496114594.81851196 pid:28091 pn:Process-2  tid:1996107776 tn:MainThread fn:write8     Wrote 0x01 to register 0x09\n"
     ]
    },
    {
     "name": "stdout",
     "output_type": "stream",
     "text": [
      "('control: ', 2)\n"
     ]
    },
    {
     "name": "stderr",
     "output_type": "stream",
     "text": [
      "[DEBUG] time:1496114594.87965703 pid:28091 pn:Process-2  tid:1996107776 tn:MainThread fn:write8     Wrote 0x00 to register 0x06\n",
      "[DEBUG] time:1496114594.88485289 pid:28091 pn:Process-2  tid:1996107776 tn:MainThread fn:write8     Wrote 0x00 to register 0x07\n",
      "[DEBUG] time:1496114594.88979793 pid:28091 pn:Process-2  tid:1996107776 tn:MainThread fn:write8     Wrote 0x77 to register 0x08\n",
      "[DEBUG] time:1496114594.89422011 pid:28091 pn:Process-2  tid:1996107776 tn:MainThread fn:write8     Wrote 0x01 to register 0x09\n"
     ]
    },
    {
     "name": "stdout",
     "output_type": "stream",
     "text": [
      "('control: ', 2)\n"
     ]
    },
    {
     "name": "stderr",
     "output_type": "stream",
     "text": [
      "[DEBUG] time:1496114594.95558906 pid:28091 pn:Process-2  tid:1996107776 tn:MainThread fn:write8     Wrote 0x00 to register 0x06\n",
      "[DEBUG] time:1496114594.95987391 pid:28091 pn:Process-2  tid:1996107776 tn:MainThread fn:write8     Wrote 0x00 to register 0x07\n",
      "[DEBUG] time:1496114594.96422505 pid:28091 pn:Process-2  tid:1996107776 tn:MainThread fn:write8     Wrote 0x77 to register 0x08\n",
      "[DEBUG] time:1496114594.96897602 pid:28091 pn:Process-2  tid:1996107776 tn:MainThread fn:write8     Wrote 0x01 to register 0x09\n"
     ]
    },
    {
     "name": "stdout",
     "output_type": "stream",
     "text": [
      "('control: ', 2)\n"
     ]
    },
    {
     "name": "stderr",
     "output_type": "stream",
     "text": [
      "[DEBUG] time:1496114595.03039193 pid:28091 pn:Process-2  tid:1996107776 tn:MainThread fn:write8     Wrote 0x00 to register 0x06\n",
      "[DEBUG] time:1496114595.03474212 pid:28091 pn:Process-2  tid:1996107776 tn:MainThread fn:write8     Wrote 0x00 to register 0x07\n",
      "[DEBUG] time:1496114595.03996301 pid:28091 pn:Process-2  tid:1996107776 tn:MainThread fn:write8     Wrote 0x77 to register 0x08\n",
      "[DEBUG] time:1496114595.04424191 pid:28091 pn:Process-2  tid:1996107776 tn:MainThread fn:write8     Wrote 0x01 to register 0x09\n"
     ]
    },
    {
     "name": "stdout",
     "output_type": "stream",
     "text": [
      "('control: ', 2)\n"
     ]
    },
    {
     "name": "stderr",
     "output_type": "stream",
     "text": [
      "[DEBUG] time:1496114595.10533094 pid:28091 pn:Process-2  tid:1996107776 tn:MainThread fn:write8     Wrote 0x00 to register 0x06\n",
      "[DEBUG] time:1496114595.10958099 pid:28091 pn:Process-2  tid:1996107776 tn:MainThread fn:write8     Wrote 0x00 to register 0x07\n",
      "[DEBUG] time:1496114595.11485600 pid:28091 pn:Process-2  tid:1996107776 tn:MainThread fn:write8     Wrote 0x77 to register 0x08\n",
      "[DEBUG] time:1496114595.11977696 pid:28091 pn:Process-2  tid:1996107776 tn:MainThread fn:write8     Wrote 0x01 to register 0x09\n"
     ]
    },
    {
     "name": "stdout",
     "output_type": "stream",
     "text": [
      "('control: ', 2)\n"
     ]
    },
    {
     "name": "stderr",
     "output_type": "stream",
     "text": [
      "[DEBUG] time:1496114595.18168306 pid:28091 pn:Process-2  tid:1996107776 tn:MainThread fn:write8     Wrote 0x00 to register 0x06\n",
      "[DEBUG] time:1496114595.18665099 pid:28091 pn:Process-2  tid:1996107776 tn:MainThread fn:write8     Wrote 0x00 to register 0x07\n",
      "[DEBUG] time:1496114595.19091606 pid:28091 pn:Process-2  tid:1996107776 tn:MainThread fn:write8     Wrote 0x77 to register 0x08\n",
      "[DEBUG] time:1496114595.19569898 pid:28091 pn:Process-2  tid:1996107776 tn:MainThread fn:write8     Wrote 0x01 to register 0x09\n"
     ]
    },
    {
     "name": "stdout",
     "output_type": "stream",
     "text": [
      "('control: ', 2)\n"
     ]
    },
    {
     "name": "stderr",
     "output_type": "stream",
     "text": [
      "[DEBUG] time:1496114595.25632811 pid:28091 pn:Process-2  tid:1996107776 tn:MainThread fn:write8     Wrote 0x00 to register 0x06\n",
      "[DEBUG] time:1496114595.26151109 pid:28091 pn:Process-2  tid:1996107776 tn:MainThread fn:write8     Wrote 0x00 to register 0x07\n",
      "[DEBUG] time:1496114595.26585102 pid:28091 pn:Process-2  tid:1996107776 tn:MainThread fn:write8     Wrote 0x77 to register 0x08\n",
      "[DEBUG] time:1496114595.27113104 pid:28091 pn:Process-2  tid:1996107776 tn:MainThread fn:write8     Wrote 0x01 to register 0x09\n"
     ]
    },
    {
     "name": "stdout",
     "output_type": "stream",
     "text": [
      "('control: ', 2)\n"
     ]
    },
    {
     "name": "stderr",
     "output_type": "stream",
     "text": [
      "[DEBUG] time:1496114595.33225799 pid:28091 pn:Process-2  tid:1996107776 tn:MainThread fn:write8     Wrote 0x00 to register 0x06\n",
      "[DEBUG] time:1496114595.33664393 pid:28091 pn:Process-2  tid:1996107776 tn:MainThread fn:write8     Wrote 0x00 to register 0x07\n",
      "[DEBUG] time:1496114595.34090996 pid:28091 pn:Process-2  tid:1996107776 tn:MainThread fn:write8     Wrote 0x77 to register 0x08\n",
      "[DEBUG] time:1496114595.34554195 pid:28091 pn:Process-2  tid:1996107776 tn:MainThread fn:write8     Wrote 0x01 to register 0x09\n"
     ]
    },
    {
     "name": "stdout",
     "output_type": "stream",
     "text": [
      "('control: ', 2)\n"
     ]
    },
    {
     "name": "stderr",
     "output_type": "stream",
     "text": [
      "[DEBUG] time:1496114595.40711594 pid:28091 pn:Process-2  tid:1996107776 tn:MainThread fn:write8     Wrote 0x00 to register 0x06\n",
      "[DEBUG] time:1496114595.41223097 pid:28091 pn:Process-2  tid:1996107776 tn:MainThread fn:write8     Wrote 0x00 to register 0x07\n",
      "[DEBUG] time:1496114595.41754007 pid:28091 pn:Process-2  tid:1996107776 tn:MainThread fn:write8     Wrote 0x77 to register 0x08\n",
      "[DEBUG] time:1496114595.42231107 pid:28091 pn:Process-2  tid:1996107776 tn:MainThread fn:write8     Wrote 0x01 to register 0x09\n"
     ]
    },
    {
     "name": "stdout",
     "output_type": "stream",
     "text": [
      "('control: ', 2)\n"
     ]
    },
    {
     "name": "stderr",
     "output_type": "stream",
     "text": [
      "[DEBUG] time:1496114595.48378706 pid:28091 pn:Process-2  tid:1996107776 tn:MainThread fn:write8     Wrote 0x00 to register 0x06\n",
      "[DEBUG] time:1496114595.48808599 pid:28091 pn:Process-2  tid:1996107776 tn:MainThread fn:write8     Wrote 0x00 to register 0x07\n",
      "[DEBUG] time:1496114595.49372506 pid:28091 pn:Process-2  tid:1996107776 tn:MainThread fn:write8     Wrote 0x77 to register 0x08\n",
      "[DEBUG] time:1496114595.49928689 pid:28091 pn:Process-2  tid:1996107776 tn:MainThread fn:write8     Wrote 0x01 to register 0x09\n"
     ]
    },
    {
     "name": "stdout",
     "output_type": "stream",
     "text": [
      "('control: ', 2)\n"
     ]
    },
    {
     "name": "stderr",
     "output_type": "stream",
     "text": [
      "[DEBUG] time:1496114595.56042099 pid:28091 pn:Process-2  tid:1996107776 tn:MainThread fn:write8     Wrote 0x00 to register 0x06\n",
      "[DEBUG] time:1496114595.56656504 pid:28091 pn:Process-2  tid:1996107776 tn:MainThread fn:write8     Wrote 0x00 to register 0x07\n",
      "[DEBUG] time:1496114595.57101297 pid:28091 pn:Process-2  tid:1996107776 tn:MainThread fn:write8     Wrote 0x77 to register 0x08\n",
      "[DEBUG] time:1496114595.57669997 pid:28091 pn:Process-2  tid:1996107776 tn:MainThread fn:write8     Wrote 0x01 to register 0x09\n"
     ]
    },
    {
     "name": "stdout",
     "output_type": "stream",
     "text": [
      "('control: ', 2)\n"
     ]
    },
    {
     "name": "stderr",
     "output_type": "stream",
     "text": [
      "[DEBUG] time:1496114595.64348888 pid:28091 pn:Process-2  tid:1996107776 tn:MainThread fn:write8     Wrote 0x00 to register 0x06\n",
      "[DEBUG] time:1496114595.64858508 pid:28091 pn:Process-2  tid:1996107776 tn:MainThread fn:write8     Wrote 0x00 to register 0x07\n",
      "[DEBUG] time:1496114595.65993595 pid:28091 pn:Process-2  tid:1996107776 tn:MainThread fn:write8     Wrote 0x77 to register 0x08\n",
      "[DEBUG] time:1496114595.66433692 pid:28091 pn:Process-2  tid:1996107776 tn:MainThread fn:write8     Wrote 0x01 to register 0x09\n"
     ]
    },
    {
     "name": "stdout",
     "output_type": "stream",
     "text": [
      "('control: ', 2)\n"
     ]
    },
    {
     "name": "stderr",
     "output_type": "stream",
     "text": [
      "[DEBUG] time:1496114595.73023391 pid:28091 pn:Process-2  tid:1996107776 tn:MainThread fn:write8     Wrote 0x00 to register 0x06\n",
      "[DEBUG] time:1496114595.73549390 pid:28091 pn:Process-2  tid:1996107776 tn:MainThread fn:write8     Wrote 0x00 to register 0x07\n",
      "[DEBUG] time:1496114595.73975706 pid:28091 pn:Process-2  tid:1996107776 tn:MainThread fn:write8     Wrote 0x77 to register 0x08\n",
      "[DEBUG] time:1496114595.74456310 pid:28091 pn:Process-2  tid:1996107776 tn:MainThread fn:write8     Wrote 0x01 to register 0x09\n"
     ]
    },
    {
     "name": "stdout",
     "output_type": "stream",
     "text": [
      "('control: ', 2)\n"
     ]
    },
    {
     "name": "stderr",
     "output_type": "stream",
     "text": [
      "[DEBUG] time:1496114595.80510902 pid:28091 pn:Process-2  tid:1996107776 tn:MainThread fn:write8     Wrote 0x00 to register 0x06\n",
      "[DEBUG] time:1496114595.80936098 pid:28091 pn:Process-2  tid:1996107776 tn:MainThread fn:write8     Wrote 0x00 to register 0x07\n",
      "[DEBUG] time:1496114595.81383395 pid:28091 pn:Process-2  tid:1996107776 tn:MainThread fn:write8     Wrote 0x77 to register 0x08\n",
      "[DEBUG] time:1496114595.81838608 pid:28091 pn:Process-2  tid:1996107776 tn:MainThread fn:write8     Wrote 0x01 to register 0x09\n"
     ]
    },
    {
     "name": "stdout",
     "output_type": "stream",
     "text": [
      "('control: ', 2)\n"
     ]
    },
    {
     "name": "stderr",
     "output_type": "stream",
     "text": [
      "[DEBUG] time:1496114595.87891889 pid:28091 pn:Process-2  tid:1996107776 tn:MainThread fn:write8     Wrote 0x00 to register 0x06\n",
      "[DEBUG] time:1496114595.88323689 pid:28091 pn:Process-2  tid:1996107776 tn:MainThread fn:write8     Wrote 0x00 to register 0x07\n",
      "[DEBUG] time:1496114595.88757992 pid:28091 pn:Process-2  tid:1996107776 tn:MainThread fn:write8     Wrote 0x77 to register 0x08\n",
      "[DEBUG] time:1496114595.89328098 pid:28091 pn:Process-2  tid:1996107776 tn:MainThread fn:write8     Wrote 0x01 to register 0x09\n"
     ]
    },
    {
     "name": "stdout",
     "output_type": "stream",
     "text": [
      "('control: ', 2)\n"
     ]
    },
    {
     "name": "stderr",
     "output_type": "stream",
     "text": [
      "[DEBUG] time:1496114595.95498610 pid:28091 pn:Process-2  tid:1996107776 tn:MainThread fn:write8     Wrote 0x00 to register 0x06\n",
      "[DEBUG] time:1496114595.95929289 pid:28091 pn:Process-2  tid:1996107776 tn:MainThread fn:write8     Wrote 0x00 to register 0x07\n",
      "[DEBUG] time:1496114595.96367788 pid:28091 pn:Process-2  tid:1996107776 tn:MainThread fn:write8     Wrote 0x77 to register 0x08\n",
      "[DEBUG] time:1496114595.96800494 pid:28091 pn:Process-2  tid:1996107776 tn:MainThread fn:write8     Wrote 0x01 to register 0x09\n"
     ]
    },
    {
     "name": "stdout",
     "output_type": "stream",
     "text": [
      "('control: ', 2)\n"
     ]
    },
    {
     "name": "stderr",
     "output_type": "stream",
     "text": [
      "[DEBUG] time:1496114596.02838802 pid:28091 pn:Process-2  tid:1996107776 tn:MainThread fn:write8     Wrote 0x00 to register 0x06\n",
      "[DEBUG] time:1496114596.03361297 pid:28091 pn:Process-2  tid:1996107776 tn:MainThread fn:write8     Wrote 0x00 to register 0x07\n",
      "[DEBUG] time:1496114596.03875589 pid:28091 pn:Process-2  tid:1996107776 tn:MainThread fn:write8     Wrote 0x77 to register 0x08\n",
      "[DEBUG] time:1496114596.04401302 pid:28091 pn:Process-2  tid:1996107776 tn:MainThread fn:write8     Wrote 0x01 to register 0x09\n"
     ]
    },
    {
     "name": "stdout",
     "output_type": "stream",
     "text": [
      "('control: ', 2)\n"
     ]
    },
    {
     "name": "stderr",
     "output_type": "stream",
     "text": [
      "[DEBUG] time:1496114596.10521102 pid:28091 pn:Process-2  tid:1996107776 tn:MainThread fn:write8     Wrote 0x00 to register 0x06\n",
      "[DEBUG] time:1496114596.10947800 pid:28091 pn:Process-2  tid:1996107776 tn:MainThread fn:write8     Wrote 0x00 to register 0x07\n",
      "[DEBUG] time:1496114596.11475205 pid:28091 pn:Process-2  tid:1996107776 tn:MainThread fn:write8     Wrote 0x77 to register 0x08\n",
      "[DEBUG] time:1496114596.11916494 pid:28091 pn:Process-2  tid:1996107776 tn:MainThread fn:write8     Wrote 0x01 to register 0x09\n"
     ]
    },
    {
     "name": "stdout",
     "output_type": "stream",
     "text": [
      "('control: ', 3)\n"
     ]
    },
    {
     "name": "stderr",
     "output_type": "stream",
     "text": [
      "[DEBUG] time:1496114596.17998195 pid:28091 pn:Process-2  tid:1996107776 tn:MainThread fn:write8     Wrote 0x00 to register 0x06\n",
      "[DEBUG] time:1496114596.18434501 pid:28091 pn:Process-2  tid:1996107776 tn:MainThread fn:write8     Wrote 0x00 to register 0x07\n",
      "[DEBUG] time:1496114596.18863392 pid:28091 pn:Process-2  tid:1996107776 tn:MainThread fn:write8     Wrote 0xA4 to register 0x08\n",
      "[DEBUG] time:1496114596.19292688 pid:28091 pn:Process-2  tid:1996107776 tn:MainThread fn:write8     Wrote 0x01 to register 0x09\n"
     ]
    },
    {
     "name": "stdout",
     "output_type": "stream",
     "text": [
      "('control: ', 3)\n"
     ]
    },
    {
     "name": "stderr",
     "output_type": "stream",
     "text": [
      "[DEBUG] time:1496114596.25319791 pid:28091 pn:Process-2  tid:1996107776 tn:MainThread fn:write8     Wrote 0x00 to register 0x06\n",
      "[DEBUG] time:1496114596.25745606 pid:28091 pn:Process-2  tid:1996107776 tn:MainThread fn:write8     Wrote 0x00 to register 0x07\n",
      "[DEBUG] time:1496114596.26267290 pid:28091 pn:Process-2  tid:1996107776 tn:MainThread fn:write8     Wrote 0xA4 to register 0x08\n",
      "[DEBUG] time:1496114596.26699209 pid:28091 pn:Process-2  tid:1996107776 tn:MainThread fn:write8     Wrote 0x01 to register 0x09\n"
     ]
    },
    {
     "name": "stdout",
     "output_type": "stream",
     "text": [
      "('control: ', 3)\n"
     ]
    },
    {
     "name": "stderr",
     "output_type": "stream",
     "text": [
      "[DEBUG] time:1496114596.32750797 pid:28091 pn:Process-2  tid:1996107776 tn:MainThread fn:write8     Wrote 0x00 to register 0x06\n",
      "[DEBUG] time:1496114596.33176899 pid:28091 pn:Process-2  tid:1996107776 tn:MainThread fn:write8     Wrote 0x00 to register 0x07\n",
      "[DEBUG] time:1496114596.33683610 pid:28091 pn:Process-2  tid:1996107776 tn:MainThread fn:write8     Wrote 0xA4 to register 0x08\n",
      "[DEBUG] time:1496114596.34196496 pid:28091 pn:Process-2  tid:1996107776 tn:MainThread fn:write8     Wrote 0x01 to register 0x09\n"
     ]
    },
    {
     "name": "stdout",
     "output_type": "stream",
     "text": [
      "('control: ', 3)\n"
     ]
    },
    {
     "name": "stderr",
     "output_type": "stream",
     "text": [
      "[DEBUG] time:1496114596.40309095 pid:28091 pn:Process-2  tid:1996107776 tn:MainThread fn:write8     Wrote 0x00 to register 0x06\n",
      "[DEBUG] time:1496114596.40746903 pid:28091 pn:Process-2  tid:1996107776 tn:MainThread fn:write8     Wrote 0x00 to register 0x07\n",
      "[DEBUG] time:1496114596.41175008 pid:28091 pn:Process-2  tid:1996107776 tn:MainThread fn:write8     Wrote 0xA4 to register 0x08\n",
      "[DEBUG] time:1496114596.41703892 pid:28091 pn:Process-2  tid:1996107776 tn:MainThread fn:write8     Wrote 0x01 to register 0x09\n"
     ]
    },
    {
     "name": "stdout",
     "output_type": "stream",
     "text": [
      "('control: ', 3)\n"
     ]
    },
    {
     "name": "stderr",
     "output_type": "stream",
     "text": [
      "[DEBUG] time:1496114596.47822499 pid:28091 pn:Process-2  tid:1996107776 tn:MainThread fn:write8     Wrote 0x00 to register 0x06\n",
      "[DEBUG] time:1496114596.48342299 pid:28091 pn:Process-2  tid:1996107776 tn:MainThread fn:write8     Wrote 0x00 to register 0x07\n",
      "[DEBUG] time:1496114596.48775005 pid:28091 pn:Process-2  tid:1996107776 tn:MainThread fn:write8     Wrote 0xA4 to register 0x08\n",
      "[DEBUG] time:1496114596.49253798 pid:28091 pn:Process-2  tid:1996107776 tn:MainThread fn:write8     Wrote 0x01 to register 0x09\n"
     ]
    },
    {
     "name": "stdout",
     "output_type": "stream",
     "text": [
      "('control: ', 3)\n"
     ]
    },
    {
     "name": "stderr",
     "output_type": "stream",
     "text": [
      "[DEBUG] time:1496114596.55289006 pid:28091 pn:Process-2  tid:1996107776 tn:MainThread fn:write8     Wrote 0x00 to register 0x06\n",
      "[DEBUG] time:1496114596.55722189 pid:28091 pn:Process-2  tid:1996107776 tn:MainThread fn:write8     Wrote 0x00 to register 0x07\n",
      "[DEBUG] time:1496114596.56262898 pid:28091 pn:Process-2  tid:1996107776 tn:MainThread fn:write8     Wrote 0xA4 to register 0x08\n",
      "[DEBUG] time:1496114596.56706500 pid:28091 pn:Process-2  tid:1996107776 tn:MainThread fn:write8     Wrote 0x01 to register 0x09\n"
     ]
    },
    {
     "name": "stdout",
     "output_type": "stream",
     "text": [
      "('control: ', 3)\n"
     ]
    },
    {
     "name": "stderr",
     "output_type": "stream",
     "text": [
      "[DEBUG] time:1496114596.62886500 pid:28091 pn:Process-2  tid:1996107776 tn:MainThread fn:write8     Wrote 0x00 to register 0x06\n",
      "[DEBUG] time:1496114596.63409209 pid:28091 pn:Process-2  tid:1996107776 tn:MainThread fn:write8     Wrote 0x00 to register 0x07\n",
      "[DEBUG] time:1496114596.63839889 pid:28091 pn:Process-2  tid:1996107776 tn:MainThread fn:write8     Wrote 0xA4 to register 0x08\n",
      "[DEBUG] time:1496114596.64373112 pid:28091 pn:Process-2  tid:1996107776 tn:MainThread fn:write8     Wrote 0x01 to register 0x09\n"
     ]
    },
    {
     "name": "stdout",
     "output_type": "stream",
     "text": [
      "('control: ', 3)\n"
     ]
    },
    {
     "name": "stderr",
     "output_type": "stream",
     "text": [
      "[DEBUG] time:1496114596.70515203 pid:28091 pn:Process-2  tid:1996107776 tn:MainThread fn:write8     Wrote 0x00 to register 0x06\n",
      "[DEBUG] time:1496114596.70939898 pid:28091 pn:Process-2  tid:1996107776 tn:MainThread fn:write8     Wrote 0x00 to register 0x07\n",
      "[DEBUG] time:1496114596.71375489 pid:28091 pn:Process-2  tid:1996107776 tn:MainThread fn:write8     Wrote 0xA4 to register 0x08\n",
      "[DEBUG] time:1496114596.71801090 pid:28091 pn:Process-2  tid:1996107776 tn:MainThread fn:write8     Wrote 0x01 to register 0x09\n"
     ]
    },
    {
     "name": "stdout",
     "output_type": "stream",
     "text": [
      "('control: ', 2)\n"
     ]
    },
    {
     "name": "stderr",
     "output_type": "stream",
     "text": [
      "[DEBUG] time:1496114596.78444695 pid:28091 pn:Process-2  tid:1996107776 tn:MainThread fn:write8     Wrote 0x00 to register 0x06\n",
      "[DEBUG] time:1496114596.79296899 pid:28091 pn:Process-2  tid:1996107776 tn:MainThread fn:write8     Wrote 0x00 to register 0x07\n",
      "[DEBUG] time:1496114596.79767108 pid:28091 pn:Process-2  tid:1996107776 tn:MainThread fn:write8     Wrote 0x77 to register 0x08\n",
      "[DEBUG] time:1496114596.80233502 pid:28091 pn:Process-2  tid:1996107776 tn:MainThread fn:write8     Wrote 0x01 to register 0x09\n"
     ]
    },
    {
     "name": "stdout",
     "output_type": "stream",
     "text": [
      "('control: ', 2)\n"
     ]
    },
    {
     "name": "stderr",
     "output_type": "stream",
     "text": [
      "[DEBUG] time:1496114596.86431503 pid:28091 pn:Process-2  tid:1996107776 tn:MainThread fn:write8     Wrote 0x00 to register 0x06\n",
      "[DEBUG] time:1496114596.86886692 pid:28091 pn:Process-2  tid:1996107776 tn:MainThread fn:write8     Wrote 0x00 to register 0x07\n",
      "[DEBUG] time:1496114596.87363100 pid:28091 pn:Process-2  tid:1996107776 tn:MainThread fn:write8     Wrote 0x77 to register 0x08\n",
      "[DEBUG] time:1496114596.87922311 pid:28091 pn:Process-2  tid:1996107776 tn:MainThread fn:write8     Wrote 0x01 to register 0x09\n"
     ]
    },
    {
     "name": "stdout",
     "output_type": "stream",
     "text": [
      "('control: ', 2)\n"
     ]
    },
    {
     "name": "stderr",
     "output_type": "stream",
     "text": [
      "[DEBUG] time:1496114596.95205212 pid:28091 pn:Process-2  tid:1996107776 tn:MainThread fn:write8     Wrote 0x00 to register 0x06\n",
      "[DEBUG] time:1496114596.95654798 pid:28091 pn:Process-2  tid:1996107776 tn:MainThread fn:write8     Wrote 0x00 to register 0x07\n",
      "[DEBUG] time:1496114596.96154404 pid:28091 pn:Process-2  tid:1996107776 tn:MainThread fn:write8     Wrote 0x77 to register 0x08\n",
      "[DEBUG] time:1496114596.97110510 pid:28091 pn:Process-2  tid:1996107776 tn:MainThread fn:write8     Wrote 0x01 to register 0x09\n"
     ]
    },
    {
     "name": "stdout",
     "output_type": "stream",
     "text": [
      "('control: ', 2)\n"
     ]
    },
    {
     "name": "stderr",
     "output_type": "stream",
     "text": [
      "[DEBUG] time:1496114597.03201199 pid:28091 pn:Process-2  tid:1996107776 tn:MainThread fn:write8     Wrote 0x00 to register 0x06\n",
      "[DEBUG] time:1496114597.04141903 pid:28091 pn:Process-2  tid:1996107776 tn:MainThread fn:write8     Wrote 0x00 to register 0x07\n",
      "[DEBUG] time:1496114597.04577088 pid:28091 pn:Process-2  tid:1996107776 tn:MainThread fn:write8     Wrote 0x77 to register 0x08\n",
      "[DEBUG] time:1496114597.04997206 pid:28091 pn:Process-2  tid:1996107776 tn:MainThread fn:write8     Wrote 0x01 to register 0x09\n"
     ]
    },
    {
     "name": "stdout",
     "output_type": "stream",
     "text": [
      "('control: ', 2)\n"
     ]
    },
    {
     "name": "stderr",
     "output_type": "stream",
     "text": [
      "[DEBUG] time:1496114597.11527991 pid:28091 pn:Process-2  tid:1996107776 tn:MainThread fn:write8     Wrote 0x00 to register 0x06\n",
      "[DEBUG] time:1496114597.12100291 pid:28091 pn:Process-2  tid:1996107776 tn:MainThread fn:write8     Wrote 0x00 to register 0x07\n",
      "[DEBUG] time:1496114597.12535310 pid:28091 pn:Process-2  tid:1996107776 tn:MainThread fn:write8     Wrote 0x77 to register 0x08\n",
      "[DEBUG] time:1496114597.12951589 pid:28091 pn:Process-2  tid:1996107776 tn:MainThread fn:write8     Wrote 0x01 to register 0x09\n"
     ]
    },
    {
     "name": "stdout",
     "output_type": "stream",
     "text": [
      "('control: ', 2)\n"
     ]
    },
    {
     "name": "stderr",
     "output_type": "stream",
     "text": [
      "[DEBUG] time:1496114597.19316697 pid:28091 pn:Process-2  tid:1996107776 tn:MainThread fn:write8     Wrote 0x00 to register 0x06\n",
      "[DEBUG] time:1496114597.19805002 pid:28091 pn:Process-2  tid:1996107776 tn:MainThread fn:write8     Wrote 0x00 to register 0x07\n",
      "[DEBUG] time:1496114597.20337105 pid:28091 pn:Process-2  tid:1996107776 tn:MainThread fn:write8     Wrote 0x77 to register 0x08\n",
      "[DEBUG] time:1496114597.20825911 pid:28091 pn:Process-2  tid:1996107776 tn:MainThread fn:write8     Wrote 0x01 to register 0x09\n"
     ]
    },
    {
     "name": "stdout",
     "output_type": "stream",
     "text": [
      "('control: ', 2)\n"
     ]
    },
    {
     "name": "stderr",
     "output_type": "stream",
     "text": [
      "[DEBUG] time:1496114597.26912308 pid:28091 pn:Process-2  tid:1996107776 tn:MainThread fn:write8     Wrote 0x00 to register 0x06\n",
      "[DEBUG] time:1496114597.27440000 pid:28091 pn:Process-2  tid:1996107776 tn:MainThread fn:write8     Wrote 0x00 to register 0x07\n",
      "[DEBUG] time:1496114597.27875400 pid:28091 pn:Process-2  tid:1996107776 tn:MainThread fn:write8     Wrote 0x77 to register 0x08\n",
      "[DEBUG] time:1496114597.28403997 pid:28091 pn:Process-2  tid:1996107776 tn:MainThread fn:write8     Wrote 0x01 to register 0x09\n"
     ]
    },
    {
     "name": "stdout",
     "output_type": "stream",
     "text": [
      "('control: ', 2)\n"
     ]
    },
    {
     "name": "stderr",
     "output_type": "stream",
     "text": [
      "[DEBUG] time:1496114597.34507990 pid:28091 pn:Process-2  tid:1996107776 tn:MainThread fn:write8     Wrote 0x00 to register 0x06\n",
      "[DEBUG] time:1496114597.34970403 pid:28091 pn:Process-2  tid:1996107776 tn:MainThread fn:write8     Wrote 0x00 to register 0x07\n",
      "[DEBUG] time:1496114597.35457897 pid:28091 pn:Process-2  tid:1996107776 tn:MainThread fn:write8     Wrote 0x77 to register 0x08\n",
      "[DEBUG] time:1496114597.35918808 pid:28091 pn:Process-2  tid:1996107776 tn:MainThread fn:write8     Wrote 0x01 to register 0x09\n"
     ]
    },
    {
     "name": "stdout",
     "output_type": "stream",
     "text": [
      "('control: ', 2)\n"
     ]
    },
    {
     "name": "stderr",
     "output_type": "stream",
     "text": [
      "[DEBUG] time:1496114597.42013001 pid:28091 pn:Process-2  tid:1996107776 tn:MainThread fn:write8     Wrote 0x00 to register 0x06\n",
      "[DEBUG] time:1496114597.42530990 pid:28091 pn:Process-2  tid:1996107776 tn:MainThread fn:write8     Wrote 0x00 to register 0x07\n",
      "[DEBUG] time:1496114597.43036389 pid:28091 pn:Process-2  tid:1996107776 tn:MainThread fn:write8     Wrote 0x77 to register 0x08\n",
      "[DEBUG] time:1496114597.43555808 pid:28091 pn:Process-2  tid:1996107776 tn:MainThread fn:write8     Wrote 0x01 to register 0x09\n"
     ]
    },
    {
     "name": "stdout",
     "output_type": "stream",
     "text": [
      "('control: ', 2)\n"
     ]
    },
    {
     "name": "stderr",
     "output_type": "stream",
     "text": [
      "[DEBUG] time:1496114597.49639392 pid:28091 pn:Process-2  tid:1996107776 tn:MainThread fn:write8     Wrote 0x00 to register 0x06\n",
      "[DEBUG] time:1496114597.50148606 pid:28091 pn:Process-2  tid:1996107776 tn:MainThread fn:write8     Wrote 0x00 to register 0x07\n",
      "[DEBUG] time:1496114597.50618696 pid:28091 pn:Process-2  tid:1996107776 tn:MainThread fn:write8     Wrote 0x77 to register 0x08\n",
      "[DEBUG] time:1496114597.51097012 pid:28091 pn:Process-2  tid:1996107776 tn:MainThread fn:write8     Wrote 0x01 to register 0x09\n"
     ]
    },
    {
     "name": "stdout",
     "output_type": "stream",
     "text": [
      "('control: ', 2)\n"
     ]
    },
    {
     "name": "stderr",
     "output_type": "stream",
     "text": [
      "[DEBUG] time:1496114597.57621193 pid:28091 pn:Process-2  tid:1996107776 tn:MainThread fn:write8     Wrote 0x00 to register 0x06\n",
      "[DEBUG] time:1496114597.58552790 pid:28091 pn:Process-2  tid:1996107776 tn:MainThread fn:write8     Wrote 0x00 to register 0x07\n",
      "[DEBUG] time:1496114597.59453511 pid:28091 pn:Process-2  tid:1996107776 tn:MainThread fn:write8     Wrote 0x77 to register 0x08\n",
      "[DEBUG] time:1496114597.60373306 pid:28091 pn:Process-2  tid:1996107776 tn:MainThread fn:write8     Wrote 0x01 to register 0x09\n"
     ]
    },
    {
     "name": "stdout",
     "output_type": "stream",
     "text": [
      "('control: ', 2)\n"
     ]
    },
    {
     "name": "stderr",
     "output_type": "stream",
     "text": [
      "[DEBUG] time:1496114597.67120004 pid:28091 pn:Process-2  tid:1996107776 tn:MainThread fn:write8     Wrote 0x00 to register 0x06\n",
      "[DEBUG] time:1496114597.67681503 pid:28091 pn:Process-2  tid:1996107776 tn:MainThread fn:write8     Wrote 0x00 to register 0x07\n",
      "[DEBUG] time:1496114597.68125510 pid:28091 pn:Process-2  tid:1996107776 tn:MainThread fn:write8     Wrote 0x77 to register 0x08\n",
      "[DEBUG] time:1496114597.68674707 pid:28091 pn:Process-2  tid:1996107776 tn:MainThread fn:write8     Wrote 0x01 to register 0x09\n"
     ]
    },
    {
     "name": "stdout",
     "output_type": "stream",
     "text": [
      "('control: ', 2)\n"
     ]
    },
    {
     "name": "stderr",
     "output_type": "stream",
     "text": [
      "[DEBUG] time:1496114597.74756503 pid:28091 pn:Process-2  tid:1996107776 tn:MainThread fn:write8     Wrote 0x00 to register 0x06\n",
      "[DEBUG] time:1496114597.75307798 pid:28091 pn:Process-2  tid:1996107776 tn:MainThread fn:write8     Wrote 0x00 to register 0x07\n",
      "[DEBUG] time:1496114597.75847912 pid:28091 pn:Process-2  tid:1996107776 tn:MainThread fn:write8     Wrote 0x77 to register 0x08\n",
      "[DEBUG] time:1496114597.76365590 pid:28091 pn:Process-2  tid:1996107776 tn:MainThread fn:write8     Wrote 0x01 to register 0x09\n"
     ]
    },
    {
     "name": "stdout",
     "output_type": "stream",
     "text": [
      "('control: ', 2)\n"
     ]
    },
    {
     "name": "stderr",
     "output_type": "stream",
     "text": [
      "[DEBUG] time:1496114597.82568002 pid:28091 pn:Process-2  tid:1996107776 tn:MainThread fn:write8     Wrote 0x00 to register 0x06\n",
      "[DEBUG] time:1496114597.83009291 pid:28091 pn:Process-2  tid:1996107776 tn:MainThread fn:write8     Wrote 0x00 to register 0x07\n",
      "[DEBUG] time:1496114597.83563495 pid:28091 pn:Process-2  tid:1996107776 tn:MainThread fn:write8     Wrote 0x77 to register 0x08\n",
      "[DEBUG] time:1496114597.84003711 pid:28091 pn:Process-2  tid:1996107776 tn:MainThread fn:write8     Wrote 0x01 to register 0x09\n"
     ]
    },
    {
     "name": "stdout",
     "output_type": "stream",
     "text": [
      "('control: ', 1)\n"
     ]
    },
    {
     "name": "stderr",
     "output_type": "stream",
     "text": [
      "[DEBUG] time:1496114597.90639997 pid:28091 pn:Process-2  tid:1996107776 tn:MainThread fn:write8     Wrote 0x00 to register 0x06\n",
      "[DEBUG] time:1496114597.91156292 pid:28091 pn:Process-2  tid:1996107776 tn:MainThread fn:write8     Wrote 0x00 to register 0x07\n",
      "[DEBUG] time:1496114597.92130089 pid:28091 pn:Process-2  tid:1996107776 tn:MainThread fn:write8     Wrote 0x4A to register 0x08\n",
      "[DEBUG] time:1496114597.92689991 pid:28091 pn:Process-2  tid:1996107776 tn:MainThread fn:write8     Wrote 0x01 to register 0x09\n",
      "[DEBUG] time:1496114597.93284106 pid:28091 pn:Process-2  tid:1996107776 tn:MainThread fn:write8     Wrote 0x00 to register 0x06\n",
      "[DEBUG] time:1496114597.93764400 pid:28091 pn:Process-2  tid:1996107776 tn:MainThread fn:write8     Wrote 0x00 to register 0x07\n",
      "[DEBUG] time:1496114597.94245195 pid:28091 pn:Process-2  tid:1996107776 tn:MainThread fn:write8     Wrote 0x77 to register 0x08\n",
      "[DEBUG] time:1496114597.94719410 pid:28091 pn:Process-2  tid:1996107776 tn:MainThread fn:write8     Wrote 0x01 to register 0x09\n"
     ]
    },
    {
     "name": "stdout",
     "output_type": "stream",
     "text": [
      "('control: ', 2)\n"
     ]
    },
    {
     "name": "stderr",
     "output_type": "stream",
     "text": [
      "[DEBUG] time:1496114598.00852299 pid:28091 pn:Process-2  tid:1996107776 tn:MainThread fn:write8     Wrote 0x00 to register 0x06\n",
      "[DEBUG] time:1496114598.01321507 pid:28091 pn:Process-2  tid:1996107776 tn:MainThread fn:write8     Wrote 0x00 to register 0x07\n",
      "[DEBUG] time:1496114598.01784205 pid:28091 pn:Process-2  tid:1996107776 tn:MainThread fn:write8     Wrote 0x77 to register 0x08\n",
      "[DEBUG] time:1496114598.02260995 pid:28091 pn:Process-2  tid:1996107776 tn:MainThread fn:write8     Wrote 0x01 to register 0x09\n"
     ]
    },
    {
     "name": "stdout",
     "output_type": "stream",
     "text": [
      "('control: ', 2)\n"
     ]
    },
    {
     "name": "stderr",
     "output_type": "stream",
     "text": [
      "[DEBUG] time:1496114598.08408499 pid:28091 pn:Process-2  tid:1996107776 tn:MainThread fn:write8     Wrote 0x00 to register 0x06\n",
      "[DEBUG] time:1496114598.08878207 pid:28091 pn:Process-2  tid:1996107776 tn:MainThread fn:write8     Wrote 0x00 to register 0x07\n",
      "[DEBUG] time:1496114598.09341407 pid:28091 pn:Process-2  tid:1996107776 tn:MainThread fn:write8     Wrote 0x77 to register 0x08\n",
      "[DEBUG] time:1496114598.09816694 pid:28091 pn:Process-2  tid:1996107776 tn:MainThread fn:write8     Wrote 0x01 to register 0x09\n"
     ]
    },
    {
     "name": "stdout",
     "output_type": "stream",
     "text": [
      "('control: ', 2)\n"
     ]
    },
    {
     "name": "stderr",
     "output_type": "stream",
     "text": [
      "[DEBUG] time:1496114598.15946388 pid:28091 pn:Process-2  tid:1996107776 tn:MainThread fn:write8     Wrote 0x00 to register 0x06\n",
      "[DEBUG] time:1496114598.16415405 pid:28091 pn:Process-2  tid:1996107776 tn:MainThread fn:write8     Wrote 0x00 to register 0x07\n",
      "[DEBUG] time:1496114598.16929889 pid:28091 pn:Process-2  tid:1996107776 tn:MainThread fn:write8     Wrote 0x77 to register 0x08\n",
      "[DEBUG] time:1496114598.17443609 pid:28091 pn:Process-2  tid:1996107776 tn:MainThread fn:write8     Wrote 0x01 to register 0x09\n"
     ]
    },
    {
     "name": "stdout",
     "output_type": "stream",
     "text": [
      "('control: ', 2)\n"
     ]
    },
    {
     "name": "stderr",
     "output_type": "stream",
     "text": [
      "[DEBUG] time:1496114598.23557401 pid:28091 pn:Process-2  tid:1996107776 tn:MainThread fn:write8     Wrote 0x00 to register 0x06\n",
      "[DEBUG] time:1496114598.24068594 pid:28091 pn:Process-2  tid:1996107776 tn:MainThread fn:write8     Wrote 0x00 to register 0x07\n",
      "[DEBUG] time:1496114598.24535394 pid:28091 pn:Process-2  tid:1996107776 tn:MainThread fn:write8     Wrote 0x77 to register 0x08\n",
      "[DEBUG] time:1496114598.25004196 pid:28091 pn:Process-2  tid:1996107776 tn:MainThread fn:write8     Wrote 0x01 to register 0x09\n"
     ]
    },
    {
     "name": "stdout",
     "output_type": "stream",
     "text": [
      "('control: ', 1)\n"
     ]
    },
    {
     "name": "stderr",
     "output_type": "stream",
     "text": [
      "[DEBUG] time:1496114598.31132102 pid:28091 pn:Process-2  tid:1996107776 tn:MainThread fn:write8     Wrote 0x00 to register 0x06\n",
      "[DEBUG] time:1496114598.31600189 pid:28091 pn:Process-2  tid:1996107776 tn:MainThread fn:write8     Wrote 0x00 to register 0x07\n",
      "[DEBUG] time:1496114598.32080197 pid:28091 pn:Process-2  tid:1996107776 tn:MainThread fn:write8     Wrote 0x4A to register 0x08\n",
      "[DEBUG] time:1496114598.32586789 pid:28091 pn:Process-2  tid:1996107776 tn:MainThread fn:write8     Wrote 0x01 to register 0x09\n"
     ]
    },
    {
     "name": "stdout",
     "output_type": "stream",
     "text": [
      "('control: ', 1)\n"
     ]
    },
    {
     "name": "stderr",
     "output_type": "stream",
     "text": [
      "[DEBUG] time:1496114598.38681507 pid:28091 pn:Process-2  tid:1996107776 tn:MainThread fn:write8     Wrote 0x00 to register 0x06\n",
      "[DEBUG] time:1496114598.39152503 pid:28091 pn:Process-2  tid:1996107776 tn:MainThread fn:write8     Wrote 0x00 to register 0x07\n",
      "[DEBUG] time:1496114598.39623404 pid:28091 pn:Process-2  tid:1996107776 tn:MainThread fn:write8     Wrote 0x4A to register 0x08\n",
      "[DEBUG] time:1496114598.40132689 pid:28091 pn:Process-2  tid:1996107776 tn:MainThread fn:write8     Wrote 0x01 to register 0x09\n"
     ]
    },
    {
     "name": "stdout",
     "output_type": "stream",
     "text": [
      "('control: ', 1)\n"
     ]
    },
    {
     "name": "stderr",
     "output_type": "stream",
     "text": [
      "[DEBUG] time:1496114598.46289802 pid:28091 pn:Process-2  tid:1996107776 tn:MainThread fn:write8     Wrote 0x00 to register 0x06\n",
      "[DEBUG] time:1496114598.46759105 pid:28091 pn:Process-2  tid:1996107776 tn:MainThread fn:write8     Wrote 0x00 to register 0x07\n",
      "[DEBUG] time:1496114598.47239399 pid:28091 pn:Process-2  tid:1996107776 tn:MainThread fn:write8     Wrote 0x4A to register 0x08\n",
      "[DEBUG] time:1496114598.47719908 pid:28091 pn:Process-2  tid:1996107776 tn:MainThread fn:write8     Wrote 0x01 to register 0x09\n"
     ]
    },
    {
     "name": "stdout",
     "output_type": "stream",
     "text": [
      "('control: ', 1)\n"
     ]
    },
    {
     "name": "stderr",
     "output_type": "stream",
     "text": [
      "[DEBUG] time:1496114598.53819299 pid:28091 pn:Process-2  tid:1996107776 tn:MainThread fn:write8     Wrote 0x00 to register 0x06\n",
      "[DEBUG] time:1496114598.54275393 pid:28091 pn:Process-2  tid:1996107776 tn:MainThread fn:write8     Wrote 0x00 to register 0x07\n",
      "[DEBUG] time:1496114598.54795194 pid:28091 pn:Process-2  tid:1996107776 tn:MainThread fn:write8     Wrote 0x4A to register 0x08\n",
      "[DEBUG] time:1496114598.55304694 pid:28091 pn:Process-2  tid:1996107776 tn:MainThread fn:write8     Wrote 0x01 to register 0x09\n"
     ]
    },
    {
     "name": "stdout",
     "output_type": "stream",
     "text": [
      "('control: ', 1)\n"
     ]
    },
    {
     "name": "stderr",
     "output_type": "stream",
     "text": [
      "[DEBUG] time:1496114598.61393595 pid:28091 pn:Process-2  tid:1996107776 tn:MainThread fn:write8     Wrote 0x00 to register 0x06\n",
      "[DEBUG] time:1496114598.61903310 pid:28091 pn:Process-2  tid:1996107776 tn:MainThread fn:write8     Wrote 0x00 to register 0x07\n",
      "[DEBUG] time:1496114598.62384105 pid:28091 pn:Process-2  tid:1996107776 tn:MainThread fn:write8     Wrote 0x4A to register 0x08\n",
      "[DEBUG] time:1496114598.62892509 pid:28091 pn:Process-2  tid:1996107776 tn:MainThread fn:write8     Wrote 0x01 to register 0x09\n"
     ]
    },
    {
     "name": "stdout",
     "output_type": "stream",
     "text": [
      "('control: ', 1)\n"
     ]
    },
    {
     "name": "stderr",
     "output_type": "stream",
     "text": [
      "[DEBUG] time:1496114598.69044399 pid:28091 pn:Process-2  tid:1996107776 tn:MainThread fn:write8     Wrote 0x00 to register 0x06\n",
      "[DEBUG] time:1496114598.69523692 pid:28091 pn:Process-2  tid:1996107776 tn:MainThread fn:write8     Wrote 0x00 to register 0x07\n",
      "[DEBUG] time:1496114598.70006704 pid:28091 pn:Process-2  tid:1996107776 tn:MainThread fn:write8     Wrote 0x4A to register 0x08\n",
      "[DEBUG] time:1496114598.70526099 pid:28091 pn:Process-2  tid:1996107776 tn:MainThread fn:write8     Wrote 0x01 to register 0x09\n"
     ]
    },
    {
     "name": "stdout",
     "output_type": "stream",
     "text": [
      "('control: ', 1)\n"
     ]
    },
    {
     "name": "stderr",
     "output_type": "stream",
     "text": [
      "[DEBUG] time:1496114598.76637506 pid:28091 pn:Process-2  tid:1996107776 tn:MainThread fn:write8     Wrote 0x00 to register 0x06\n",
      "[DEBUG] time:1496114598.77096200 pid:28091 pn:Process-2  tid:1996107776 tn:MainThread fn:write8     Wrote 0x00 to register 0x07\n",
      "[DEBUG] time:1496114598.77621007 pid:28091 pn:Process-2  tid:1996107776 tn:MainThread fn:write8     Wrote 0x4A to register 0x08\n",
      "[DEBUG] time:1496114598.78141809 pid:28091 pn:Process-2  tid:1996107776 tn:MainThread fn:write8     Wrote 0x01 to register 0x09\n"
     ]
    },
    {
     "name": "stdout",
     "output_type": "stream",
     "text": [
      "('control: ', 2)\n"
     ]
    },
    {
     "name": "stderr",
     "output_type": "stream",
     "text": [
      "[DEBUG] time:1496114598.84325790 pid:28091 pn:Process-2  tid:1996107776 tn:MainThread fn:write8     Wrote 0x00 to register 0x06\n",
      "[DEBUG] time:1496114598.84786296 pid:28091 pn:Process-2  tid:1996107776 tn:MainThread fn:write8     Wrote 0x00 to register 0x07\n",
      "[DEBUG] time:1496114598.85293508 pid:28091 pn:Process-2  tid:1996107776 tn:MainThread fn:write8     Wrote 0x77 to register 0x08\n",
      "[DEBUG] time:1496114598.85813594 pid:28091 pn:Process-2  tid:1996107776 tn:MainThread fn:write8     Wrote 0x01 to register 0x09\n"
     ]
    },
    {
     "name": "stdout",
     "output_type": "stream",
     "text": [
      "('control: ', 2)\n"
     ]
    },
    {
     "name": "stderr",
     "output_type": "stream",
     "text": [
      "[DEBUG] time:1496114598.91954899 pid:28091 pn:Process-2  tid:1996107776 tn:MainThread fn:write8     Wrote 0x00 to register 0x06\n",
      "[DEBUG] time:1496114598.92427111 pid:28091 pn:Process-2  tid:1996107776 tn:MainThread fn:write8     Wrote 0x00 to register 0x07\n",
      "[DEBUG] time:1496114598.92975092 pid:28091 pn:Process-2  tid:1996107776 tn:MainThread fn:write8     Wrote 0x77 to register 0x08\n",
      "[DEBUG] time:1496114598.93491697 pid:28091 pn:Process-2  tid:1996107776 tn:MainThread fn:write8     Wrote 0x01 to register 0x09\n"
     ]
    },
    {
     "name": "stdout",
     "output_type": "stream",
     "text": [
      "('control: ', 2)\n"
     ]
    },
    {
     "name": "stderr",
     "output_type": "stream",
     "text": [
      "[DEBUG] time:1496114598.99640298 pid:28091 pn:Process-2  tid:1996107776 tn:MainThread fn:write8     Wrote 0x00 to register 0x06\n",
      "[DEBUG] time:1496114599.00186801 pid:28091 pn:Process-2  tid:1996107776 tn:MainThread fn:write8     Wrote 0x00 to register 0x07\n",
      "[DEBUG] time:1496114599.00677204 pid:28091 pn:Process-2  tid:1996107776 tn:MainThread fn:write8     Wrote 0x77 to register 0x08\n",
      "[DEBUG] time:1496114599.01150703 pid:28091 pn:Process-2  tid:1996107776 tn:MainThread fn:write8     Wrote 0x01 to register 0x09\n"
     ]
    },
    {
     "name": "stdout",
     "output_type": "stream",
     "text": [
      "('control: ', 2)\n"
     ]
    },
    {
     "name": "stderr",
     "output_type": "stream",
     "text": [
      "[DEBUG] time:1496114599.07263494 pid:28091 pn:Process-2  tid:1996107776 tn:MainThread fn:write8     Wrote 0x00 to register 0x06\n",
      "[DEBUG] time:1496114599.07863212 pid:28091 pn:Process-2  tid:1996107776 tn:MainThread fn:write8     Wrote 0x00 to register 0x07\n",
      "[DEBUG] time:1496114599.08469605 pid:28091 pn:Process-2  tid:1996107776 tn:MainThread fn:write8     Wrote 0x77 to register 0x08\n",
      "[DEBUG] time:1496114599.08899498 pid:28091 pn:Process-2  tid:1996107776 tn:MainThread fn:write8     Wrote 0x01 to register 0x09\n"
     ]
    },
    {
     "name": "stdout",
     "output_type": "stream",
     "text": [
      "('control: ', 2)\n"
     ]
    },
    {
     "name": "stderr",
     "output_type": "stream",
     "text": [
      "[DEBUG] time:1496114599.15099406 pid:28091 pn:Process-2  tid:1996107776 tn:MainThread fn:write8     Wrote 0x00 to register 0x06\n",
      "[DEBUG] time:1496114599.15707803 pid:28091 pn:Process-2  tid:1996107776 tn:MainThread fn:write8     Wrote 0x00 to register 0x07\n",
      "[DEBUG] time:1496114599.16183901 pid:28091 pn:Process-2  tid:1996107776 tn:MainThread fn:write8     Wrote 0x77 to register 0x08\n",
      "[DEBUG] time:1496114599.16850400 pid:28091 pn:Process-2  tid:1996107776 tn:MainThread fn:write8     Wrote 0x01 to register 0x09\n"
     ]
    },
    {
     "name": "stdout",
     "output_type": "stream",
     "text": [
      "('control: ', 2)\n"
     ]
    },
    {
     "name": "stderr",
     "output_type": "stream",
     "text": [
      "[DEBUG] time:1496114599.23223090 pid:28091 pn:Process-2  tid:1996107776 tn:MainThread fn:write8     Wrote 0x00 to register 0x06\n",
      "[DEBUG] time:1496114599.23808408 pid:28091 pn:Process-2  tid:1996107776 tn:MainThread fn:write8     Wrote 0x00 to register 0x07\n",
      "[DEBUG] time:1496114599.24499893 pid:28091 pn:Process-2  tid:1996107776 tn:MainThread fn:write8     Wrote 0x77 to register 0x08\n",
      "[DEBUG] time:1496114599.25094604 pid:28091 pn:Process-2  tid:1996107776 tn:MainThread fn:write8     Wrote 0x01 to register 0x09\n"
     ]
    },
    {
     "name": "stdout",
     "output_type": "stream",
     "text": [
      "('control: ', 2)\n"
     ]
    },
    {
     "name": "stderr",
     "output_type": "stream",
     "text": [
      "[DEBUG] time:1496114599.32130098 pid:28091 pn:Process-2  tid:1996107776 tn:MainThread fn:write8     Wrote 0x00 to register 0x06\n",
      "[DEBUG] time:1496114599.32581091 pid:28091 pn:Process-2  tid:1996107776 tn:MainThread fn:write8     Wrote 0x00 to register 0x07\n",
      "[DEBUG] time:1496114599.33096790 pid:28091 pn:Process-2  tid:1996107776 tn:MainThread fn:write8     Wrote 0x77 to register 0x08\n",
      "[DEBUG] time:1496114599.33626008 pid:28091 pn:Process-2  tid:1996107776 tn:MainThread fn:write8     Wrote 0x01 to register 0x09\n"
     ]
    },
    {
     "name": "stdout",
     "output_type": "stream",
     "text": [
      "('control: ', 2)\n"
     ]
    },
    {
     "name": "stderr",
     "output_type": "stream",
     "text": [
      "[DEBUG] time:1496114599.39809489 pid:28091 pn:Process-2  tid:1996107776 tn:MainThread fn:write8     Wrote 0x00 to register 0x06\n",
      "[DEBUG] time:1496114599.40331292 pid:28091 pn:Process-2  tid:1996107776 tn:MainThread fn:write8     Wrote 0x00 to register 0x07\n",
      "[DEBUG] time:1496114599.40857911 pid:28091 pn:Process-2  tid:1996107776 tn:MainThread fn:write8     Wrote 0x77 to register 0x08\n",
      "[DEBUG] time:1496114599.41407704 pid:28091 pn:Process-2  tid:1996107776 tn:MainThread fn:write8     Wrote 0x01 to register 0x09\n"
     ]
    },
    {
     "name": "stdout",
     "output_type": "stream",
     "text": [
      "('control: ', 2)\n"
     ]
    },
    {
     "name": "stderr",
     "output_type": "stream",
     "text": [
      "[DEBUG] time:1496114599.47483611 pid:28091 pn:Process-2  tid:1996107776 tn:MainThread fn:write8     Wrote 0x00 to register 0x06\n",
      "[DEBUG] time:1496114599.47912693 pid:28091 pn:Process-2  tid:1996107776 tn:MainThread fn:write8     Wrote 0x00 to register 0x07\n",
      "[DEBUG] time:1496114599.48357296 pid:28091 pn:Process-2  tid:1996107776 tn:MainThread fn:write8     Wrote 0x77 to register 0x08\n",
      "[DEBUG] time:1496114599.48908591 pid:28091 pn:Process-2  tid:1996107776 tn:MainThread fn:write8     Wrote 0x01 to register 0x09\n"
     ]
    },
    {
     "name": "stdout",
     "output_type": "stream",
     "text": [
      "('control: ', 2)\n"
     ]
    },
    {
     "name": "stderr",
     "output_type": "stream",
     "text": [
      "[DEBUG] time:1496114599.54942107 pid:28091 pn:Process-2  tid:1996107776 tn:MainThread fn:write8     Wrote 0x00 to register 0x06\n",
      "[DEBUG] time:1496114599.55380893 pid:28091 pn:Process-2  tid:1996107776 tn:MainThread fn:write8     Wrote 0x00 to register 0x07\n",
      "[DEBUG] time:1496114599.55909109 pid:28091 pn:Process-2  tid:1996107776 tn:MainThread fn:write8     Wrote 0x77 to register 0x08\n",
      "[DEBUG] time:1496114599.56522298 pid:28091 pn:Process-2  tid:1996107776 tn:MainThread fn:write8     Wrote 0x01 to register 0x09\n"
     ]
    },
    {
     "name": "stdout",
     "output_type": "stream",
     "text": [
      "('control: ', 2)\n"
     ]
    },
    {
     "name": "stderr",
     "output_type": "stream",
     "text": [
      "[DEBUG] time:1496114599.62724495 pid:28091 pn:Process-2  tid:1996107776 tn:MainThread fn:write8     Wrote 0x00 to register 0x06\n",
      "[DEBUG] time:1496114599.63237309 pid:28091 pn:Process-2  tid:1996107776 tn:MainThread fn:write8     Wrote 0x00 to register 0x07\n",
      "[DEBUG] time:1496114599.63765407 pid:28091 pn:Process-2  tid:1996107776 tn:MainThread fn:write8     Wrote 0x77 to register 0x08\n",
      "[DEBUG] time:1496114599.64307308 pid:28091 pn:Process-2  tid:1996107776 tn:MainThread fn:write8     Wrote 0x01 to register 0x09\n"
     ]
    },
    {
     "name": "stdout",
     "output_type": "stream",
     "text": [
      "('control: ', 2)\n"
     ]
    },
    {
     "name": "stderr",
     "output_type": "stream",
     "text": [
      "[DEBUG] time:1496114599.70502591 pid:28091 pn:Process-2  tid:1996107776 tn:MainThread fn:write8     Wrote 0x00 to register 0x06\n",
      "[DEBUG] time:1496114599.71013808 pid:28091 pn:Process-2  tid:1996107776 tn:MainThread fn:write8     Wrote 0x00 to register 0x07\n",
      "[DEBUG] time:1496114599.71545696 pid:28091 pn:Process-2  tid:1996107776 tn:MainThread fn:write8     Wrote 0x77 to register 0x08\n",
      "[DEBUG] time:1496114599.72091293 pid:28091 pn:Process-2  tid:1996107776 tn:MainThread fn:write8     Wrote 0x01 to register 0x09\n"
     ]
    },
    {
     "name": "stdout",
     "output_type": "stream",
     "text": [
      "('control: ', 2)\n"
     ]
    },
    {
     "name": "stderr",
     "output_type": "stream",
     "text": [
      "[DEBUG] time:1496114599.78305888 pid:28091 pn:Process-2  tid:1996107776 tn:MainThread fn:write8     Wrote 0x00 to register 0x06\n",
      "[DEBUG] time:1496114599.78735304 pid:28091 pn:Process-2  tid:1996107776 tn:MainThread fn:write8     Wrote 0x00 to register 0x07\n",
      "[DEBUG] time:1496114599.79166698 pid:28091 pn:Process-2  tid:1996107776 tn:MainThread fn:write8     Wrote 0x77 to register 0x08\n",
      "[DEBUG] time:1496114599.79761505 pid:28091 pn:Process-2  tid:1996107776 tn:MainThread fn:write8     Wrote 0x01 to register 0x09\n"
     ]
    },
    {
     "name": "stdout",
     "output_type": "stream",
     "text": [
      "('control: ', 2)\n"
     ]
    },
    {
     "name": "stderr",
     "output_type": "stream",
     "text": [
      "[DEBUG] time:1496114599.86008406 pid:28091 pn:Process-2  tid:1996107776 tn:MainThread fn:write8     Wrote 0x00 to register 0x06\n",
      "[DEBUG] time:1496114599.86528802 pid:28091 pn:Process-2  tid:1996107776 tn:MainThread fn:write8     Wrote 0x00 to register 0x07\n",
      "[DEBUG] time:1496114599.87077594 pid:28091 pn:Process-2  tid:1996107776 tn:MainThread fn:write8     Wrote 0x77 to register 0x08\n",
      "[DEBUG] time:1496114599.87657499 pid:28091 pn:Process-2  tid:1996107776 tn:MainThread fn:write8     Wrote 0x01 to register 0x09\n"
     ]
    },
    {
     "name": "stdout",
     "output_type": "stream",
     "text": [
      "('control: ', 2)\n"
     ]
    },
    {
     "name": "stderr",
     "output_type": "stream",
     "text": [
      "[DEBUG] time:1496114599.94357800 pid:28091 pn:Process-2  tid:1996107776 tn:MainThread fn:write8     Wrote 0x00 to register 0x06\n",
      "[DEBUG] time:1496114599.94906998 pid:28091 pn:Process-2  tid:1996107776 tn:MainThread fn:write8     Wrote 0x00 to register 0x07\n",
      "[DEBUG] time:1496114599.95408511 pid:28091 pn:Process-2  tid:1996107776 tn:MainThread fn:write8     Wrote 0x77 to register 0x08\n",
      "[DEBUG] time:1496114599.96510601 pid:28091 pn:Process-2  tid:1996107776 tn:MainThread fn:write8     Wrote 0x01 to register 0x09\n"
     ]
    },
    {
     "name": "stdout",
     "output_type": "stream",
     "text": [
      "('control: ', 2)\n"
     ]
    },
    {
     "name": "stderr",
     "output_type": "stream",
     "text": [
      "[DEBUG] time:1496114600.02757311 pid:28091 pn:Process-2  tid:1996107776 tn:MainThread fn:write8     Wrote 0x00 to register 0x06\n",
      "[DEBUG] time:1496114600.03225994 pid:28091 pn:Process-2  tid:1996107776 tn:MainThread fn:write8     Wrote 0x00 to register 0x07\n",
      "[DEBUG] time:1496114600.04301000 pid:28091 pn:Process-2  tid:1996107776 tn:MainThread fn:write8     Wrote 0x77 to register 0x08\n",
      "[DEBUG] time:1496114600.04836297 pid:28091 pn:Process-2  tid:1996107776 tn:MainThread fn:write8     Wrote 0x01 to register 0x09\n"
     ]
    },
    {
     "name": "stdout",
     "output_type": "stream",
     "text": [
      "('control: ', 2)\n"
     ]
    },
    {
     "name": "stderr",
     "output_type": "stream",
     "text": [
      "[DEBUG] time:1496114600.11558104 pid:28091 pn:Process-2  tid:1996107776 tn:MainThread fn:write8     Wrote 0x00 to register 0x06\n",
      "[DEBUG] time:1496114600.12066102 pid:28091 pn:Process-2  tid:1996107776 tn:MainThread fn:write8     Wrote 0x00 to register 0x07\n",
      "[DEBUG] time:1496114600.12509298 pid:28091 pn:Process-2  tid:1996107776 tn:MainThread fn:write8     Wrote 0x77 to register 0x08\n",
      "[DEBUG] time:1496114600.13071299 pid:28091 pn:Process-2  tid:1996107776 tn:MainThread fn:write8     Wrote 0x01 to register 0x09\n"
     ]
    },
    {
     "name": "stdout",
     "output_type": "stream",
     "text": [
      "('control: ', 2)\n"
     ]
    },
    {
     "name": "stderr",
     "output_type": "stream",
     "text": [
      "[DEBUG] time:1496114600.19226789 pid:28091 pn:Process-2  tid:1996107776 tn:MainThread fn:write8     Wrote 0x00 to register 0x06\n",
      "[DEBUG] time:1496114600.19700599 pid:28091 pn:Process-2  tid:1996107776 tn:MainThread fn:write8     Wrote 0x00 to register 0x07\n",
      "[DEBUG] time:1496114600.20251107 pid:28091 pn:Process-2  tid:1996107776 tn:MainThread fn:write8     Wrote 0x77 to register 0x08\n",
      "[DEBUG] time:1496114600.20783591 pid:28091 pn:Process-2  tid:1996107776 tn:MainThread fn:write8     Wrote 0x01 to register 0x09\n"
     ]
    },
    {
     "name": "stdout",
     "output_type": "stream",
     "text": [
      "('control: ', 2)\n"
     ]
    },
    {
     "name": "stderr",
     "output_type": "stream",
     "text": [
      "[DEBUG] time:1496114600.26970696 pid:28091 pn:Process-2  tid:1996107776 tn:MainThread fn:write8     Wrote 0x00 to register 0x06\n",
      "[DEBUG] time:1496114600.27498388 pid:28091 pn:Process-2  tid:1996107776 tn:MainThread fn:write8     Wrote 0x00 to register 0x07\n",
      "[DEBUG] time:1496114600.28019595 pid:28091 pn:Process-2  tid:1996107776 tn:MainThread fn:write8     Wrote 0x77 to register 0x08\n",
      "[DEBUG] time:1496114600.28568506 pid:28091 pn:Process-2  tid:1996107776 tn:MainThread fn:write8     Wrote 0x01 to register 0x09\n"
     ]
    },
    {
     "name": "stdout",
     "output_type": "stream",
     "text": [
      "('control: ', 2)\n"
     ]
    },
    {
     "name": "stderr",
     "output_type": "stream",
     "text": [
      "[DEBUG] time:1496114600.34717298 pid:28091 pn:Process-2  tid:1996107776 tn:MainThread fn:write8     Wrote 0x00 to register 0x06\n",
      "[DEBUG] time:1496114600.35231805 pid:28091 pn:Process-2  tid:1996107776 tn:MainThread fn:write8     Wrote 0x00 to register 0x07\n",
      "[DEBUG] time:1496114600.35758591 pid:28091 pn:Process-2  tid:1996107776 tn:MainThread fn:write8     Wrote 0x77 to register 0x08\n",
      "[DEBUG] time:1496114600.36203003 pid:28091 pn:Process-2  tid:1996107776 tn:MainThread fn:write8     Wrote 0x01 to register 0x09\n"
     ]
    },
    {
     "name": "stdout",
     "output_type": "stream",
     "text": [
      "('control: ', 2)\n"
     ]
    },
    {
     "name": "stderr",
     "output_type": "stream",
     "text": [
      "[DEBUG] time:1496114600.42334104 pid:28091 pn:Process-2  tid:1996107776 tn:MainThread fn:write8     Wrote 0x00 to register 0x06\n",
      "[DEBUG] time:1496114600.42760706 pid:28091 pn:Process-2  tid:1996107776 tn:MainThread fn:write8     Wrote 0x00 to register 0x07\n",
      "[DEBUG] time:1496114600.43257308 pid:28091 pn:Process-2  tid:1996107776 tn:MainThread fn:write8     Wrote 0x77 to register 0x08\n",
      "[DEBUG] time:1496114600.43740702 pid:28091 pn:Process-2  tid:1996107776 tn:MainThread fn:write8     Wrote 0x01 to register 0x09\n"
     ]
    },
    {
     "name": "stdout",
     "output_type": "stream",
     "text": [
      "('control: ', 2)\n"
     ]
    },
    {
     "name": "stderr",
     "output_type": "stream",
     "text": [
      "[DEBUG] time:1496114600.49876094 pid:28091 pn:Process-2  tid:1996107776 tn:MainThread fn:write8     Wrote 0x00 to register 0x06\n",
      "[DEBUG] time:1496114600.50402904 pid:28091 pn:Process-2  tid:1996107776 tn:MainThread fn:write8     Wrote 0x00 to register 0x07\n",
      "[DEBUG] time:1496114600.50848699 pid:28091 pn:Process-2  tid:1996107776 tn:MainThread fn:write8     Wrote 0x77 to register 0x08\n",
      "[DEBUG] time:1496114600.51274800 pid:28091 pn:Process-2  tid:1996107776 tn:MainThread fn:write8     Wrote 0x01 to register 0x09\n"
     ]
    },
    {
     "name": "stdout",
     "output_type": "stream",
     "text": [
      "('control: ', 2)\n"
     ]
    },
    {
     "name": "stderr",
     "output_type": "stream",
     "text": [
      "[DEBUG] time:1496114600.57505107 pid:28091 pn:Process-2  tid:1996107776 tn:MainThread fn:write8     Wrote 0x00 to register 0x06\n",
      "[DEBUG] time:1496114600.57915902 pid:28091 pn:Process-2  tid:1996107776 tn:MainThread fn:write8     Wrote 0x00 to register 0x07\n",
      "[DEBUG] time:1496114600.59330392 pid:28091 pn:Process-2  tid:1996107776 tn:MainThread fn:write8     Wrote 0x77 to register 0x08\n",
      "[DEBUG] time:1496114600.59834504 pid:28091 pn:Process-2  tid:1996107776 tn:MainThread fn:write8     Wrote 0x01 to register 0x09\n"
     ]
    },
    {
     "name": "stdout",
     "output_type": "stream",
     "text": [
      "('control: ', 2)\n"
     ]
    },
    {
     "name": "stderr",
     "output_type": "stream",
     "text": [
      "[DEBUG] time:1496114600.65885496 pid:28091 pn:Process-2  tid:1996107776 tn:MainThread fn:write8     Wrote 0x00 to register 0x06\n",
      "[DEBUG] time:1496114600.66459298 pid:28091 pn:Process-2  tid:1996107776 tn:MainThread fn:write8     Wrote 0x00 to register 0x07\n",
      "[DEBUG] time:1496114600.66890693 pid:28091 pn:Process-2  tid:1996107776 tn:MainThread fn:write8     Wrote 0x77 to register 0x08\n",
      "[DEBUG] time:1496114600.67370105 pid:28091 pn:Process-2  tid:1996107776 tn:MainThread fn:write8     Wrote 0x01 to register 0x09\n"
     ]
    },
    {
     "name": "stdout",
     "output_type": "stream",
     "text": [
      "('control: ', 2)\n"
     ]
    },
    {
     "name": "stderr",
     "output_type": "stream",
     "text": [
      "[DEBUG] time:1496114600.74403501 pid:28091 pn:Process-2  tid:1996107776 tn:MainThread fn:write8     Wrote 0x00 to register 0x06\n",
      "[DEBUG] time:1496114600.74869108 pid:28091 pn:Process-2  tid:1996107776 tn:MainThread fn:write8     Wrote 0x00 to register 0x07\n",
      "[DEBUG] time:1496114600.75341392 pid:28091 pn:Process-2  tid:1996107776 tn:MainThread fn:write8     Wrote 0x77 to register 0x08\n",
      "[DEBUG] time:1496114600.76429200 pid:28091 pn:Process-2  tid:1996107776 tn:MainThread fn:write8     Wrote 0x01 to register 0x09\n"
     ]
    },
    {
     "name": "stdout",
     "output_type": "stream",
     "text": [
      "('control: ', 1)\n"
     ]
    },
    {
     "name": "stderr",
     "output_type": "stream",
     "text": [
      "[DEBUG] time:1496114600.83211398 pid:28091 pn:Process-2  tid:1996107776 tn:MainThread fn:write8     Wrote 0x00 to register 0x06\n",
      "[DEBUG] time:1496114600.83771992 pid:28091 pn:Process-2  tid:1996107776 tn:MainThread fn:write8     Wrote 0x00 to register 0x07\n",
      "[DEBUG] time:1496114600.84241009 pid:28091 pn:Process-2  tid:1996107776 tn:MainThread fn:write8     Wrote 0x4A to register 0x08\n",
      "[DEBUG] time:1496114600.84706306 pid:28091 pn:Process-2  tid:1996107776 tn:MainThread fn:write8     Wrote 0x01 to register 0x09\n"
     ]
    },
    {
     "name": "stdout",
     "output_type": "stream",
     "text": [
      "('control: ', 1)\n"
     ]
    },
    {
     "name": "stderr",
     "output_type": "stream",
     "text": [
      "[DEBUG] time:1496114600.90775895 pid:28091 pn:Process-2  tid:1996107776 tn:MainThread fn:write8     Wrote 0x00 to register 0x06\n",
      "[DEBUG] time:1496114600.91704297 pid:28091 pn:Process-2  tid:1996107776 tn:MainThread fn:write8     Wrote 0x00 to register 0x07\n",
      "[DEBUG] time:1496114600.92141199 pid:28091 pn:Process-2  tid:1996107776 tn:MainThread fn:write8     Wrote 0x4A to register 0x08\n",
      "[DEBUG] time:1496114600.92562604 pid:28091 pn:Process-2  tid:1996107776 tn:MainThread fn:write8     Wrote 0x01 to register 0x09\n"
     ]
    },
    {
     "name": "stdout",
     "output_type": "stream",
     "text": [
      "('control: ', 1)\n"
     ]
    },
    {
     "name": "stderr",
     "output_type": "stream",
     "text": [
      "[DEBUG] time:1496114600.98983097 pid:28091 pn:Process-2  tid:1996107776 tn:MainThread fn:write8     Wrote 0x00 to register 0x06\n",
      "[DEBUG] time:1496114600.99399590 pid:28091 pn:Process-2  tid:1996107776 tn:MainThread fn:write8     Wrote 0x00 to register 0x07\n",
      "[DEBUG] time:1496114600.99815893 pid:28091 pn:Process-2  tid:1996107776 tn:MainThread fn:write8     Wrote 0x77 to register 0x08\n",
      "[DEBUG] time:1496114601.00242305 pid:28091 pn:Process-2  tid:1996107776 tn:MainThread fn:write8     Wrote 0x01 to register 0x09\n"
     ]
    },
    {
     "name": "stdout",
     "output_type": "stream",
     "text": [
      "('control: ', 2)\n"
     ]
    },
    {
     "name": "stderr",
     "output_type": "stream",
     "text": [
      "[DEBUG] time:1496114601.06334996 pid:28091 pn:Process-2  tid:1996107776 tn:MainThread fn:write8     Wrote 0x00 to register 0x06\n",
      "[DEBUG] time:1496114601.06748509 pid:28091 pn:Process-2  tid:1996107776 tn:MainThread fn:write8     Wrote 0x00 to register 0x07\n",
      "[DEBUG] time:1496114601.07163191 pid:28091 pn:Process-2  tid:1996107776 tn:MainThread fn:write8     Wrote 0x77 to register 0x08\n",
      "[DEBUG] time:1496114601.07593298 pid:28091 pn:Process-2  tid:1996107776 tn:MainThread fn:write8     Wrote 0x01 to register 0x09\n"
     ]
    },
    {
     "name": "stdout",
     "output_type": "stream",
     "text": [
      "('control: ', 2)\n"
     ]
    },
    {
     "name": "stderr",
     "output_type": "stream",
     "text": [
      "[DEBUG] time:1496114601.13704991 pid:28091 pn:Process-2  tid:1996107776 tn:MainThread fn:write8     Wrote 0x00 to register 0x06\n",
      "[DEBUG] time:1496114601.14119005 pid:28091 pn:Process-2  tid:1996107776 tn:MainThread fn:write8     Wrote 0x00 to register 0x07\n",
      "[DEBUG] time:1496114601.14545798 pid:28091 pn:Process-2  tid:1996107776 tn:MainThread fn:write8     Wrote 0x77 to register 0x08\n",
      "[DEBUG] time:1496114601.14975810 pid:28091 pn:Process-2  tid:1996107776 tn:MainThread fn:write8     Wrote 0x01 to register 0x09\n"
     ]
    },
    {
     "name": "stdout",
     "output_type": "stream",
     "text": [
      "('control: ', 1)\n"
     ]
    },
    {
     "name": "stderr",
     "output_type": "stream",
     "text": [
      "[DEBUG] time:1496114601.21140289 pid:28091 pn:Process-2  tid:1996107776 tn:MainThread fn:write8     Wrote 0x00 to register 0x06\n",
      "[DEBUG] time:1496114601.21659493 pid:28091 pn:Process-2  tid:1996107776 tn:MainThread fn:write8     Wrote 0x00 to register 0x07\n",
      "[DEBUG] time:1496114601.22173405 pid:28091 pn:Process-2  tid:1996107776 tn:MainThread fn:write8     Wrote 0x4A to register 0x08\n",
      "[DEBUG] time:1496114601.22596312 pid:28091 pn:Process-2  tid:1996107776 tn:MainThread fn:write8     Wrote 0x01 to register 0x09\n"
     ]
    },
    {
     "name": "stdout",
     "output_type": "stream",
     "text": [
      "('control: ', 2)\n"
     ]
    },
    {
     "name": "stderr",
     "output_type": "stream",
     "text": [
      "[DEBUG] time:1496114601.28675294 pid:28091 pn:Process-2  tid:1996107776 tn:MainThread fn:write8     Wrote 0x00 to register 0x06\n",
      "[DEBUG] time:1496114601.29191494 pid:28091 pn:Process-2  tid:1996107776 tn:MainThread fn:write8     Wrote 0x00 to register 0x07\n",
      "[DEBUG] time:1496114601.29704809 pid:28091 pn:Process-2  tid:1996107776 tn:MainThread fn:write8     Wrote 0x77 to register 0x08\n",
      "[DEBUG] time:1496114601.30151510 pid:28091 pn:Process-2  tid:1996107776 tn:MainThread fn:write8     Wrote 0x01 to register 0x09\n"
     ]
    },
    {
     "name": "stdout",
     "output_type": "stream",
     "text": [
      "('control: ', 2)\n"
     ]
    },
    {
     "name": "stderr",
     "output_type": "stream",
     "text": [
      "[DEBUG] time:1496114601.36208510 pid:28091 pn:Process-2  tid:1996107776 tn:MainThread fn:write8     Wrote 0x00 to register 0x06\n",
      "[DEBUG] time:1496114601.36636305 pid:28091 pn:Process-2  tid:1996107776 tn:MainThread fn:write8     Wrote 0x00 to register 0x07\n",
      "[DEBUG] time:1496114601.37157512 pid:28091 pn:Process-2  tid:1996107776 tn:MainThread fn:write8     Wrote 0x77 to register 0x08\n",
      "[DEBUG] time:1496114601.37610602 pid:28091 pn:Process-2  tid:1996107776 tn:MainThread fn:write8     Wrote 0x01 to register 0x09\n"
     ]
    },
    {
     "name": "stdout",
     "output_type": "stream",
     "text": [
      "('control: ', 1)\n"
     ]
    },
    {
     "name": "stderr",
     "output_type": "stream",
     "text": [
      "[DEBUG] time:1496114601.43570995 pid:28091 pn:Process-2  tid:1996107776 tn:MainThread fn:write8     Wrote 0x00 to register 0x06\n",
      "[DEBUG] time:1496114601.44081807 pid:28091 pn:Process-2  tid:1996107776 tn:MainThread fn:write8     Wrote 0x00 to register 0x07\n",
      "[DEBUG] time:1496114601.44610596 pid:28091 pn:Process-2  tid:1996107776 tn:MainThread fn:write8     Wrote 0x4A to register 0x08\n",
      "[DEBUG] time:1496114601.45052791 pid:28091 pn:Process-2  tid:1996107776 tn:MainThread fn:write8     Wrote 0x01 to register 0x09\n"
     ]
    },
    {
     "name": "stdout",
     "output_type": "stream",
     "text": [
      "('control: ', 1)\n"
     ]
    },
    {
     "name": "stderr",
     "output_type": "stream",
     "text": [
      "[DEBUG] time:1496114601.51097393 pid:28091 pn:Process-2  tid:1996107776 tn:MainThread fn:write8     Wrote 0x00 to register 0x06\n",
      "[DEBUG] time:1496114601.51616096 pid:28091 pn:Process-2  tid:1996107776 tn:MainThread fn:write8     Wrote 0x00 to register 0x07\n",
      "[DEBUG] time:1496114601.52042007 pid:28091 pn:Process-2  tid:1996107776 tn:MainThread fn:write8     Wrote 0x4A to register 0x08\n",
      "[DEBUG] time:1496114601.52538800 pid:28091 pn:Process-2  tid:1996107776 tn:MainThread fn:write8     Wrote 0x01 to register 0x09\n"
     ]
    },
    {
     "name": "stdout",
     "output_type": "stream",
     "text": [
      "('control: ', 1)\n"
     ]
    },
    {
     "name": "stderr",
     "output_type": "stream",
     "text": [
      "[DEBUG] time:1496114601.58539295 pid:28091 pn:Process-2  tid:1996107776 tn:MainThread fn:write8     Wrote 0x00 to register 0x06\n",
      "[DEBUG] time:1496114601.58955193 pid:28091 pn:Process-2  tid:1996107776 tn:MainThread fn:write8     Wrote 0x00 to register 0x07\n",
      "[DEBUG] time:1496114601.59380507 pid:28091 pn:Process-2  tid:1996107776 tn:MainThread fn:write8     Wrote 0x4A to register 0x08\n",
      "[DEBUG] time:1496114601.59805298 pid:28091 pn:Process-2  tid:1996107776 tn:MainThread fn:write8     Wrote 0x01 to register 0x09\n"
     ]
    },
    {
     "name": "stdout",
     "output_type": "stream",
     "text": [
      "('control: ', 2)\n"
     ]
    },
    {
     "name": "stderr",
     "output_type": "stream",
     "text": [
      "[DEBUG] time:1496114601.65934300 pid:28091 pn:Process-2  tid:1996107776 tn:MainThread fn:write8     Wrote 0x00 to register 0x06\n",
      "[DEBUG] time:1496114601.66455197 pid:28091 pn:Process-2  tid:1996107776 tn:MainThread fn:write8     Wrote 0x00 to register 0x07\n",
      "[DEBUG] time:1496114601.66876602 pid:28091 pn:Process-2  tid:1996107776 tn:MainThread fn:write8     Wrote 0x77 to register 0x08\n",
      "[DEBUG] time:1496114601.67327905 pid:28091 pn:Process-2  tid:1996107776 tn:MainThread fn:write8     Wrote 0x01 to register 0x09\n"
     ]
    },
    {
     "name": "stdout",
     "output_type": "stream",
     "text": [
      "('control: ', 2)\n"
     ]
    },
    {
     "name": "stderr",
     "output_type": "stream",
     "text": [
      "[DEBUG] time:1496114601.73366809 pid:28091 pn:Process-2  tid:1996107776 tn:MainThread fn:write8     Wrote 0x00 to register 0x06\n",
      "[DEBUG] time:1496114601.73782706 pid:28091 pn:Process-2  tid:1996107776 tn:MainThread fn:write8     Wrote 0x00 to register 0x07\n",
      "[DEBUG] time:1496114601.74200702 pid:28091 pn:Process-2  tid:1996107776 tn:MainThread fn:write8     Wrote 0x77 to register 0x08\n",
      "[DEBUG] time:1496114601.74639797 pid:28091 pn:Process-2  tid:1996107776 tn:MainThread fn:write8     Wrote 0x01 to register 0x09\n"
     ]
    },
    {
     "name": "stdout",
     "output_type": "stream",
     "text": [
      "('control: ', 2)\n"
     ]
    },
    {
     "name": "stderr",
     "output_type": "stream",
     "text": [
      "[DEBUG] time:1496114601.80641198 pid:28091 pn:Process-2  tid:1996107776 tn:MainThread fn:write8     Wrote 0x00 to register 0x06\n",
      "[DEBUG] time:1496114601.81152010 pid:28091 pn:Process-2  tid:1996107776 tn:MainThread fn:write8     Wrote 0x00 to register 0x07\n",
      "[DEBUG] time:1496114601.81582689 pid:28091 pn:Process-2  tid:1996107776 tn:MainThread fn:write8     Wrote 0x77 to register 0x08\n",
      "[DEBUG] time:1496114601.82029104 pid:28091 pn:Process-2  tid:1996107776 tn:MainThread fn:write8     Wrote 0x01 to register 0x09\n"
     ]
    },
    {
     "name": "stdout",
     "output_type": "stream",
     "text": [
      "('control: ', 1)\n"
     ]
    },
    {
     "name": "stderr",
     "output_type": "stream",
     "text": [
      "[DEBUG] time:1496114601.88151908 pid:28091 pn:Process-2  tid:1996107776 tn:MainThread fn:write8     Wrote 0x00 to register 0x06\n",
      "[DEBUG] time:1496114601.88578200 pid:28091 pn:Process-2  tid:1996107776 tn:MainThread fn:write8     Wrote 0x00 to register 0x07\n",
      "[DEBUG] time:1496114601.89093995 pid:28091 pn:Process-2  tid:1996107776 tn:MainThread fn:write8     Wrote 0x4A to register 0x08\n",
      "[DEBUG] time:1496114601.89516401 pid:28091 pn:Process-2  tid:1996107776 tn:MainThread fn:write8     Wrote 0x01 to register 0x09\n"
     ]
    },
    {
     "name": "stdout",
     "output_type": "stream",
     "text": [
      "('control: ', 2)\n"
     ]
    },
    {
     "name": "stderr",
     "output_type": "stream",
     "text": [
      "[DEBUG] time:1496114601.95587802 pid:28091 pn:Process-2  tid:1996107776 tn:MainThread fn:write8     Wrote 0x00 to register 0x06\n",
      "[DEBUG] time:1496114601.96006608 pid:28091 pn:Process-2  tid:1996107776 tn:MainThread fn:write8     Wrote 0x00 to register 0x07\n",
      "[DEBUG] time:1496114601.96531010 pid:28091 pn:Process-2  tid:1996107776 tn:MainThread fn:write8     Wrote 0x77 to register 0x08\n",
      "[DEBUG] time:1496114601.96972394 pid:28091 pn:Process-2  tid:1996107776 tn:MainThread fn:write8     Wrote 0x01 to register 0x09\n"
     ]
    },
    {
     "name": "stdout",
     "output_type": "stream",
     "text": [
      "('control: ', 2)\n"
     ]
    },
    {
     "name": "stderr",
     "output_type": "stream",
     "text": [
      "[DEBUG] time:1496114602.03064799 pid:28091 pn:Process-2  tid:1996107776 tn:MainThread fn:write8     Wrote 0x00 to register 0x06\n",
      "[DEBUG] time:1496114602.03507495 pid:28091 pn:Process-2  tid:1996107776 tn:MainThread fn:write8     Wrote 0x00 to register 0x07\n",
      "[DEBUG] time:1496114602.03922391 pid:28091 pn:Process-2  tid:1996107776 tn:MainThread fn:write8     Wrote 0x77 to register 0x08\n",
      "[DEBUG] time:1496114602.04341793 pid:28091 pn:Process-2  tid:1996107776 tn:MainThread fn:write8     Wrote 0x01 to register 0x09\n"
     ]
    },
    {
     "name": "stdout",
     "output_type": "stream",
     "text": [
      "('control: ', 2)\n"
     ]
    },
    {
     "name": "stderr",
     "output_type": "stream",
     "text": [
      "[DEBUG] time:1496114602.10384297 pid:28091 pn:Process-2  tid:1996107776 tn:MainThread fn:write8     Wrote 0x00 to register 0x06\n",
      "[DEBUG] time:1496114602.10800195 pid:28091 pn:Process-2  tid:1996107776 tn:MainThread fn:write8     Wrote 0x00 to register 0x07\n",
      "[DEBUG] time:1496114602.11325097 pid:28091 pn:Process-2  tid:1996107776 tn:MainThread fn:write8     Wrote 0x77 to register 0x08\n",
      "[DEBUG] time:1496114602.11768389 pid:28091 pn:Process-2  tid:1996107776 tn:MainThread fn:write8     Wrote 0x01 to register 0x09\n"
     ]
    },
    {
     "name": "stdout",
     "output_type": "stream",
     "text": [
      "('control: ', 1)\n"
     ]
    },
    {
     "name": "stderr",
     "output_type": "stream",
     "text": [
      "[DEBUG] time:1496114602.17844296 pid:28091 pn:Process-2  tid:1996107776 tn:MainThread fn:write8     Wrote 0x00 to register 0x06\n",
      "[DEBUG] time:1496114602.18258309 pid:28091 pn:Process-2  tid:1996107776 tn:MainThread fn:write8     Wrote 0x00 to register 0x07\n",
      "[DEBUG] time:1496114602.18683910 pid:28091 pn:Process-2  tid:1996107776 tn:MainThread fn:write8     Wrote 0x4A to register 0x08\n",
      "[DEBUG] time:1496114602.19105911 pid:28091 pn:Process-2  tid:1996107776 tn:MainThread fn:write8     Wrote 0x01 to register 0x09\n"
     ]
    },
    {
     "name": "stdout",
     "output_type": "stream",
     "text": [
      "('control: ', 1)\n"
     ]
    },
    {
     "name": "stderr",
     "output_type": "stream",
     "text": [
      "[DEBUG] time:1496114602.25249410 pid:28091 pn:Process-2  tid:1996107776 tn:MainThread fn:write8     Wrote 0x00 to register 0x06\n",
      "[DEBUG] time:1496114602.25673604 pid:28091 pn:Process-2  tid:1996107776 tn:MainThread fn:write8     Wrote 0x00 to register 0x07\n",
      "[DEBUG] time:1496114602.26195407 pid:28091 pn:Process-2  tid:1996107776 tn:MainThread fn:write8     Wrote 0x4A to register 0x08\n",
      "[DEBUG] time:1496114602.26653600 pid:28091 pn:Process-2  tid:1996107776 tn:MainThread fn:write8     Wrote 0x01 to register 0x09\n"
     ]
    },
    {
     "name": "stdout",
     "output_type": "stream",
     "text": [
      "('control: ', 1)\n"
     ]
    },
    {
     "name": "stderr",
     "output_type": "stream",
     "text": [
      "[DEBUG] time:1496114602.32750893 pid:28091 pn:Process-2  tid:1996107776 tn:MainThread fn:write8     Wrote 0x00 to register 0x06\n",
      "[DEBUG] time:1496114602.33166409 pid:28091 pn:Process-2  tid:1996107776 tn:MainThread fn:write8     Wrote 0x00 to register 0x07\n",
      "[DEBUG] time:1496114602.33594489 pid:28091 pn:Process-2  tid:1996107776 tn:MainThread fn:write8     Wrote 0x4A to register 0x08\n",
      "[DEBUG] time:1496114602.34049606 pid:28091 pn:Process-2  tid:1996107776 tn:MainThread fn:write8     Wrote 0x01 to register 0x09\n"
     ]
    },
    {
     "name": "stdout",
     "output_type": "stream",
     "text": [
      "('control: ', 2)\n"
     ]
    },
    {
     "name": "stderr",
     "output_type": "stream",
     "text": [
      "[DEBUG] time:1496114602.40172195 pid:28091 pn:Process-2  tid:1996107776 tn:MainThread fn:write8     Wrote 0x00 to register 0x06\n",
      "[DEBUG] time:1496114602.40595698 pid:28091 pn:Process-2  tid:1996107776 tn:MainThread fn:write8     Wrote 0x00 to register 0x07\n",
      "[DEBUG] time:1496114602.41114712 pid:28091 pn:Process-2  tid:1996107776 tn:MainThread fn:write8     Wrote 0x77 to register 0x08\n",
      "[DEBUG] time:1496114602.41617799 pid:28091 pn:Process-2  tid:1996107776 tn:MainThread fn:write8     Wrote 0x01 to register 0x09\n"
     ]
    },
    {
     "name": "stdout",
     "output_type": "stream",
     "text": [
      "('control: ', 2)\n"
     ]
    },
    {
     "name": "stderr",
     "output_type": "stream",
     "text": [
      "[DEBUG] time:1496114602.47657704 pid:28091 pn:Process-2  tid:1996107776 tn:MainThread fn:write8     Wrote 0x00 to register 0x06\n",
      "[DEBUG] time:1496114602.48075795 pid:28091 pn:Process-2  tid:1996107776 tn:MainThread fn:write8     Wrote 0x00 to register 0x07\n",
      "[DEBUG] time:1496114602.48637390 pid:28091 pn:Process-2  tid:1996107776 tn:MainThread fn:write8     Wrote 0x77 to register 0x08\n",
      "[DEBUG] time:1496114602.49084306 pid:28091 pn:Process-2  tid:1996107776 tn:MainThread fn:write8     Wrote 0x01 to register 0x09\n"
     ]
    },
    {
     "name": "stdout",
     "output_type": "stream",
     "text": [
      "('control: ', 1)\n"
     ]
    },
    {
     "name": "stderr",
     "output_type": "stream",
     "text": [
      "[DEBUG] time:1496114602.55054212 pid:28091 pn:Process-2  tid:1996107776 tn:MainThread fn:write8     Wrote 0x00 to register 0x06\n",
      "[DEBUG] time:1496114602.55566096 pid:28091 pn:Process-2  tid:1996107776 tn:MainThread fn:write8     Wrote 0x00 to register 0x07\n",
      "[DEBUG] time:1496114602.55990696 pid:28091 pn:Process-2  tid:1996107776 tn:MainThread fn:write8     Wrote 0x4A to register 0x08\n",
      "[DEBUG] time:1496114602.56600094 pid:28091 pn:Process-2  tid:1996107776 tn:MainThread fn:write8     Wrote 0x01 to register 0x09\n"
     ]
    },
    {
     "name": "stdout",
     "output_type": "stream",
     "text": [
      "('control: ', 1)\n"
     ]
    },
    {
     "name": "stderr",
     "output_type": "stream",
     "text": [
      "[DEBUG] time:1496114602.63507104 pid:28091 pn:Process-2  tid:1996107776 tn:MainThread fn:write8     Wrote 0x00 to register 0x06\n",
      "[DEBUG] time:1496114602.64222693 pid:28091 pn:Process-2  tid:1996107776 tn:MainThread fn:write8     Wrote 0x00 to register 0x07\n",
      "[DEBUG] time:1496114602.65128899 pid:28091 pn:Process-2  tid:1996107776 tn:MainThread fn:write8     Wrote 0x4A to register 0x08\n",
      "[DEBUG] time:1496114602.65857697 pid:28091 pn:Process-2  tid:1996107776 tn:MainThread fn:write8     Wrote 0x01 to register 0x09\n"
     ]
    },
    {
     "name": "stdout",
     "output_type": "stream",
     "text": [
      "('control: ', 2)\n"
     ]
    },
    {
     "name": "stderr",
     "output_type": "stream",
     "text": [
      "[DEBUG] time:1496114602.72429609 pid:28091 pn:Process-2  tid:1996107776 tn:MainThread fn:write8     Wrote 0x00 to register 0x06\n",
      "[DEBUG] time:1496114602.72857308 pid:28091 pn:Process-2  tid:1996107776 tn:MainThread fn:write8     Wrote 0x00 to register 0x07\n",
      "[DEBUG] time:1496114602.73348093 pid:28091 pn:Process-2  tid:1996107776 tn:MainThread fn:write8     Wrote 0x77 to register 0x08\n",
      "[DEBUG] time:1496114602.73869300 pid:28091 pn:Process-2  tid:1996107776 tn:MainThread fn:write8     Wrote 0x01 to register 0x09\n"
     ]
    },
    {
     "name": "stdout",
     "output_type": "stream",
     "text": [
      "('control: ', 1)\n"
     ]
    },
    {
     "name": "stderr",
     "output_type": "stream",
     "text": [
      "[DEBUG] time:1496114602.79919291 pid:28091 pn:Process-2  tid:1996107776 tn:MainThread fn:write8     Wrote 0x00 to register 0x06\n",
      "[DEBUG] time:1496114602.80451393 pid:28091 pn:Process-2  tid:1996107776 tn:MainThread fn:write8     Wrote 0x00 to register 0x07\n",
      "[DEBUG] time:1496114602.80877709 pid:28091 pn:Process-2  tid:1996107776 tn:MainThread fn:write8     Wrote 0x4A to register 0x08\n",
      "[DEBUG] time:1496114602.81361389 pid:28091 pn:Process-2  tid:1996107776 tn:MainThread fn:write8     Wrote 0x01 to register 0x09\n"
     ]
    },
    {
     "name": "stdout",
     "output_type": "stream",
     "text": [
      "('control: ', 2)\n"
     ]
    },
    {
     "name": "stderr",
     "output_type": "stream",
     "text": [
      "[DEBUG] time:1496114602.87461591 pid:28091 pn:Process-2  tid:1996107776 tn:MainThread fn:write8     Wrote 0x00 to register 0x06\n",
      "[DEBUG] time:1496114602.87892890 pid:28091 pn:Process-2  tid:1996107776 tn:MainThread fn:write8     Wrote 0x00 to register 0x07\n",
      "[DEBUG] time:1496114602.88337493 pid:28091 pn:Process-2  tid:1996107776 tn:MainThread fn:write8     Wrote 0x77 to register 0x08\n",
      "[DEBUG] time:1496114602.88765812 pid:28091 pn:Process-2  tid:1996107776 tn:MainThread fn:write8     Wrote 0x01 to register 0x09\n"
     ]
    },
    {
     "name": "stdout",
     "output_type": "stream",
     "text": [
      "('control: ', 1)\n"
     ]
    },
    {
     "name": "stderr",
     "output_type": "stream",
     "text": [
      "[DEBUG] time:1496114602.94786096 pid:28091 pn:Process-2  tid:1996107776 tn:MainThread fn:write8     Wrote 0x00 to register 0x06\n",
      "[DEBUG] time:1496114602.95212007 pid:28091 pn:Process-2  tid:1996107776 tn:MainThread fn:write8     Wrote 0x00 to register 0x07\n",
      "[DEBUG] time:1496114602.95660591 pid:28091 pn:Process-2  tid:1996107776 tn:MainThread fn:write8     Wrote 0x4A to register 0x08\n",
      "[DEBUG] time:1496114602.96096897 pid:28091 pn:Process-2  tid:1996107776 tn:MainThread fn:write8     Wrote 0x01 to register 0x09\n"
     ]
    },
    {
     "name": "stdout",
     "output_type": "stream",
     "text": [
      "('control: ', 2)\n"
     ]
    },
    {
     "name": "stderr",
     "output_type": "stream",
     "text": [
      "[DEBUG] time:1496114603.02257109 pid:28091 pn:Process-2  tid:1996107776 tn:MainThread fn:write8     Wrote 0x00 to register 0x06\n",
      "[DEBUG] time:1496114603.02694011 pid:28091 pn:Process-2  tid:1996107776 tn:MainThread fn:write8     Wrote 0x00 to register 0x07\n",
      "[DEBUG] time:1496114603.03132010 pid:28091 pn:Process-2  tid:1996107776 tn:MainThread fn:write8     Wrote 0x77 to register 0x08\n",
      "[DEBUG] time:1496114603.03568411 pid:28091 pn:Process-2  tid:1996107776 tn:MainThread fn:write8     Wrote 0x01 to register 0x09\n"
     ]
    },
    {
     "name": "stdout",
     "output_type": "stream",
     "text": [
      "('control: ', 2)\n"
     ]
    },
    {
     "name": "stderr",
     "output_type": "stream",
     "text": [
      "[DEBUG] time:1496114603.09609389 pid:28091 pn:Process-2  tid:1996107776 tn:MainThread fn:write8     Wrote 0x00 to register 0x06\n",
      "[DEBUG] time:1496114603.10033488 pid:28091 pn:Process-2  tid:1996107776 tn:MainThread fn:write8     Wrote 0x00 to register 0x07\n",
      "[DEBUG] time:1496114603.10477090 pid:28091 pn:Process-2  tid:1996107776 tn:MainThread fn:write8     Wrote 0x77 to register 0x08\n",
      "[DEBUG] time:1496114603.10935807 pid:28091 pn:Process-2  tid:1996107776 tn:MainThread fn:write8     Wrote 0x01 to register 0x09\n"
     ]
    },
    {
     "name": "stdout",
     "output_type": "stream",
     "text": [
      "('control: ', 2)\n"
     ]
    },
    {
     "name": "stderr",
     "output_type": "stream",
     "text": [
      "[DEBUG] time:1496114603.17026305 pid:28091 pn:Process-2  tid:1996107776 tn:MainThread fn:write8     Wrote 0x00 to register 0x06\n",
      "[DEBUG] time:1496114603.17460203 pid:28091 pn:Process-2  tid:1996107776 tn:MainThread fn:write8     Wrote 0x00 to register 0x07\n",
      "[DEBUG] time:1496114603.17898798 pid:28091 pn:Process-2  tid:1996107776 tn:MainThread fn:write8     Wrote 0x77 to register 0x08\n",
      "[DEBUG] time:1496114603.18368006 pid:28091 pn:Process-2  tid:1996107776 tn:MainThread fn:write8     Wrote 0x01 to register 0x09\n"
     ]
    },
    {
     "name": "stdout",
     "output_type": "stream",
     "text": [
      "('control: ', 1)\n"
     ]
    },
    {
     "name": "stderr",
     "output_type": "stream",
     "text": [
      "[DEBUG] time:1496114603.24410009 pid:28091 pn:Process-2  tid:1996107776 tn:MainThread fn:write8     Wrote 0x00 to register 0x06\n",
      "[DEBUG] time:1496114603.24837494 pid:28091 pn:Process-2  tid:1996107776 tn:MainThread fn:write8     Wrote 0x00 to register 0x07\n",
      "[DEBUG] time:1496114603.25267100 pid:28091 pn:Process-2  tid:1996107776 tn:MainThread fn:write8     Wrote 0x4A to register 0x08\n",
      "[DEBUG] time:1496114603.25704288 pid:28091 pn:Process-2  tid:1996107776 tn:MainThread fn:write8     Wrote 0x01 to register 0x09\n"
     ]
    },
    {
     "name": "stdout",
     "output_type": "stream",
     "text": [
      "('control: ', 1)\n"
     ]
    },
    {
     "name": "stderr",
     "output_type": "stream",
     "text": [
      "[DEBUG] time:1496114603.31889701 pid:28091 pn:Process-2  tid:1996107776 tn:MainThread fn:write8     Wrote 0x00 to register 0x06\n",
      "[DEBUG] time:1496114603.32322907 pid:28091 pn:Process-2  tid:1996107776 tn:MainThread fn:write8     Wrote 0x00 to register 0x07\n",
      "[DEBUG] time:1496114603.32757592 pid:28091 pn:Process-2  tid:1996107776 tn:MainThread fn:write8     Wrote 0x4A to register 0x08\n",
      "[DEBUG] time:1496114603.33206892 pid:28091 pn:Process-2  tid:1996107776 tn:MainThread fn:write8     Wrote 0x01 to register 0x09\n"
     ]
    },
    {
     "name": "stdout",
     "output_type": "stream",
     "text": [
      "('control: ', 1)\n"
     ]
    },
    {
     "name": "stderr",
     "output_type": "stream",
     "text": [
      "[DEBUG] time:1496114603.39342499 pid:28091 pn:Process-2  tid:1996107776 tn:MainThread fn:write8     Wrote 0x00 to register 0x06\n",
      "[DEBUG] time:1496114603.39767694 pid:28091 pn:Process-2  tid:1996107776 tn:MainThread fn:write8     Wrote 0x00 to register 0x07\n",
      "[DEBUG] time:1496114603.40292811 pid:28091 pn:Process-2  tid:1996107776 tn:MainThread fn:write8     Wrote 0x4A to register 0x08\n",
      "[DEBUG] time:1496114603.40771890 pid:28091 pn:Process-2  tid:1996107776 tn:MainThread fn:write8     Wrote 0x01 to register 0x09\n"
     ]
    },
    {
     "name": "stdout",
     "output_type": "stream",
     "text": [
      "('control: ', 1)\n"
     ]
    },
    {
     "name": "stderr",
     "output_type": "stream",
     "text": [
      "[DEBUG] time:1496114603.46855903 pid:28091 pn:Process-2  tid:1996107776 tn:MainThread fn:write8     Wrote 0x00 to register 0x06\n",
      "[DEBUG] time:1496114603.47310996 pid:28091 pn:Process-2  tid:1996107776 tn:MainThread fn:write8     Wrote 0x00 to register 0x07\n",
      "[DEBUG] time:1496114603.47751093 pid:28091 pn:Process-2  tid:1996107776 tn:MainThread fn:write8     Wrote 0x4A to register 0x08\n",
      "[DEBUG] time:1496114603.48208499 pid:28091 pn:Process-2  tid:1996107776 tn:MainThread fn:write8     Wrote 0x01 to register 0x09\n"
     ]
    },
    {
     "name": "stdout",
     "output_type": "stream",
     "text": [
      "('control: ', 1)\n"
     ]
    },
    {
     "name": "stderr",
     "output_type": "stream",
     "text": [
      "[DEBUG] time:1496114603.54344702 pid:28091 pn:Process-2  tid:1996107776 tn:MainThread fn:write8     Wrote 0x00 to register 0x06\n",
      "[DEBUG] time:1496114603.54770899 pid:28091 pn:Process-2  tid:1996107776 tn:MainThread fn:write8     Wrote 0x00 to register 0x07\n",
      "[DEBUG] time:1496114603.55295205 pid:28091 pn:Process-2  tid:1996107776 tn:MainThread fn:write8     Wrote 0x4A to register 0x08\n",
      "[DEBUG] time:1496114603.55834889 pid:28091 pn:Process-2  tid:1996107776 tn:MainThread fn:write8     Wrote 0x01 to register 0x09\n"
     ]
    },
    {
     "name": "stdout",
     "output_type": "stream",
     "text": [
      "('control: ', 1)\n"
     ]
    },
    {
     "name": "stderr",
     "output_type": "stream",
     "text": [
      "[DEBUG] time:1496114603.62160492 pid:28091 pn:Process-2  tid:1996107776 tn:MainThread fn:write8     Wrote 0x00 to register 0x06\n",
      "[DEBUG] time:1496114603.62597489 pid:28091 pn:Process-2  tid:1996107776 tn:MainThread fn:write8     Wrote 0x00 to register 0x07\n",
      "[DEBUG] time:1496114603.63029408 pid:28091 pn:Process-2  tid:1996107776 tn:MainThread fn:write8     Wrote 0x4A to register 0x08\n",
      "[DEBUG] time:1496114603.63531303 pid:28091 pn:Process-2  tid:1996107776 tn:MainThread fn:write8     Wrote 0x01 to register 0x09\n"
     ]
    },
    {
     "name": "stdout",
     "output_type": "stream",
     "text": [
      "('control: ', 1)\n"
     ]
    },
    {
     "name": "stderr",
     "output_type": "stream",
     "text": [
      "[DEBUG] time:1496114603.69675708 pid:28091 pn:Process-2  tid:1996107776 tn:MainThread fn:write8     Wrote 0x00 to register 0x06\n",
      "[DEBUG] time:1496114603.70101810 pid:28091 pn:Process-2  tid:1996107776 tn:MainThread fn:write8     Wrote 0x00 to register 0x07\n",
      "[DEBUG] time:1496114603.70543694 pid:28091 pn:Process-2  tid:1996107776 tn:MainThread fn:write8     Wrote 0x4A to register 0x08\n",
      "[DEBUG] time:1496114603.71031189 pid:28091 pn:Process-2  tid:1996107776 tn:MainThread fn:write8     Wrote 0x01 to register 0x09\n"
     ]
    },
    {
     "name": "stdout",
     "output_type": "stream",
     "text": [
      "('control: ', 2)\n"
     ]
    },
    {
     "name": "stderr",
     "output_type": "stream",
     "text": [
      "[DEBUG] time:1496114603.77233195 pid:28091 pn:Process-2  tid:1996107776 tn:MainThread fn:write8     Wrote 0x00 to register 0x06\n",
      "[DEBUG] time:1496114603.77669907 pid:28091 pn:Process-2  tid:1996107776 tn:MainThread fn:write8     Wrote 0x00 to register 0x07\n",
      "[DEBUG] time:1496114603.78191400 pid:28091 pn:Process-2  tid:1996107776 tn:MainThread fn:write8     Wrote 0x77 to register 0x08\n",
      "[DEBUG] time:1496114603.78671598 pid:28091 pn:Process-2  tid:1996107776 tn:MainThread fn:write8     Wrote 0x01 to register 0x09\n"
     ]
    },
    {
     "name": "stdout",
     "output_type": "stream",
     "text": [
      "('control: ', 2)\n"
     ]
    },
    {
     "name": "stderr",
     "output_type": "stream",
     "text": [
      "[DEBUG] time:1496114603.84779310 pid:28091 pn:Process-2  tid:1996107776 tn:MainThread fn:write8     Wrote 0x00 to register 0x06\n",
      "[DEBUG] time:1496114603.85205293 pid:28091 pn:Process-2  tid:1996107776 tn:MainThread fn:write8     Wrote 0x00 to register 0x07\n",
      "[DEBUG] time:1496114603.85652995 pid:28091 pn:Process-2  tid:1996107776 tn:MainThread fn:write8     Wrote 0x77 to register 0x08\n",
      "[DEBUG] time:1496114603.86156988 pid:28091 pn:Process-2  tid:1996107776 tn:MainThread fn:write8     Wrote 0x01 to register 0x09\n"
     ]
    },
    {
     "name": "stdout",
     "output_type": "stream",
     "text": [
      "('control: ', 1)\n"
     ]
    },
    {
     "name": "stderr",
     "output_type": "stream",
     "text": [
      "[DEBUG] time:1496114603.92174697 pid:28091 pn:Process-2  tid:1996107776 tn:MainThread fn:write8     Wrote 0x00 to register 0x06\n",
      "[DEBUG] time:1496114603.92610407 pid:28091 pn:Process-2  tid:1996107776 tn:MainThread fn:write8     Wrote 0x00 to register 0x07\n",
      "[DEBUG] time:1496114603.93042803 pid:28091 pn:Process-2  tid:1996107776 tn:MainThread fn:write8     Wrote 0x4A to register 0x08\n",
      "[DEBUG] time:1496114603.93507290 pid:28091 pn:Process-2  tid:1996107776 tn:MainThread fn:write8     Wrote 0x01 to register 0x09\n"
     ]
    },
    {
     "name": "stdout",
     "output_type": "stream",
     "text": [
      "('control: ', 1)\n"
     ]
    },
    {
     "name": "stderr",
     "output_type": "stream",
     "text": [
      "[DEBUG] time:1496114603.99657607 pid:28091 pn:Process-2  tid:1996107776 tn:MainThread fn:write8     Wrote 0x00 to register 0x06\n",
      "[DEBUG] time:1496114604.00181103 pid:28091 pn:Process-2  tid:1996107776 tn:MainThread fn:write8     Wrote 0x00 to register 0x07\n",
      "[DEBUG] time:1496114604.00619507 pid:28091 pn:Process-2  tid:1996107776 tn:MainThread fn:write8     Wrote 0x4A to register 0x08\n",
      "[DEBUG] time:1496114604.01047993 pid:28091 pn:Process-2  tid:1996107776 tn:MainThread fn:write8     Wrote 0x01 to register 0x09\n"
     ]
    },
    {
     "name": "stdout",
     "output_type": "stream",
     "text": [
      "('control: ', 1)\n"
     ]
    },
    {
     "name": "stderr",
     "output_type": "stream",
     "text": [
      "[DEBUG] time:1496114604.07180810 pid:28091 pn:Process-2  tid:1996107776 tn:MainThread fn:write8     Wrote 0x00 to register 0x06\n",
      "[DEBUG] time:1496114604.07618999 pid:28091 pn:Process-2  tid:1996107776 tn:MainThread fn:write8     Wrote 0x00 to register 0x07\n",
      "[DEBUG] time:1496114604.08050108 pid:28091 pn:Process-2  tid:1996107776 tn:MainThread fn:write8     Wrote 0x4A to register 0x08\n",
      "[DEBUG] time:1496114604.08631110 pid:28091 pn:Process-2  tid:1996107776 tn:MainThread fn:write8     Wrote 0x01 to register 0x09\n"
     ]
    },
    {
     "name": "stdout",
     "output_type": "stream",
     "text": [
      "('control: ', 2)\n"
     ]
    },
    {
     "name": "stderr",
     "output_type": "stream",
     "text": [
      "[DEBUG] time:1496114604.14766502 pid:28091 pn:Process-2  tid:1996107776 tn:MainThread fn:write8     Wrote 0x00 to register 0x06\n",
      "[DEBUG] time:1496114604.15191197 pid:28091 pn:Process-2  tid:1996107776 tn:MainThread fn:write8     Wrote 0x00 to register 0x07\n",
      "[DEBUG] time:1496114604.15752602 pid:28091 pn:Process-2  tid:1996107776 tn:MainThread fn:write8     Wrote 0x77 to register 0x08\n",
      "[DEBUG] time:1496114604.16322207 pid:28091 pn:Process-2  tid:1996107776 tn:MainThread fn:write8     Wrote 0x01 to register 0x09\n"
     ]
    },
    {
     "name": "stdout",
     "output_type": "stream",
     "text": [
      "('control: ', 2)\n"
     ]
    },
    {
     "name": "stderr",
     "output_type": "stream",
     "text": [
      "[DEBUG] time:1496114604.22412992 pid:28091 pn:Process-2  tid:1996107776 tn:MainThread fn:write8     Wrote 0x00 to register 0x06\n",
      "[DEBUG] time:1496114604.22872806 pid:28091 pn:Process-2  tid:1996107776 tn:MainThread fn:write8     Wrote 0x00 to register 0x07\n",
      "[DEBUG] time:1496114604.23346901 pid:28091 pn:Process-2  tid:1996107776 tn:MainThread fn:write8     Wrote 0x77 to register 0x08\n",
      "[DEBUG] time:1496114604.23898697 pid:28091 pn:Process-2  tid:1996107776 tn:MainThread fn:write8     Wrote 0x01 to register 0x09\n"
     ]
    },
    {
     "name": "stdout",
     "output_type": "stream",
     "text": [
      "('control: ', 2)\n"
     ]
    },
    {
     "name": "stderr",
     "output_type": "stream",
     "text": [
      "[DEBUG] time:1496114604.29962897 pid:28091 pn:Process-2  tid:1996107776 tn:MainThread fn:write8     Wrote 0x00 to register 0x06\n",
      "[DEBUG] time:1496114604.30439305 pid:28091 pn:Process-2  tid:1996107776 tn:MainThread fn:write8     Wrote 0x00 to register 0x07\n",
      "[DEBUG] time:1496114604.30915403 pid:28091 pn:Process-2  tid:1996107776 tn:MainThread fn:write8     Wrote 0x77 to register 0x08\n",
      "[DEBUG] time:1496114604.31390309 pid:28091 pn:Process-2  tid:1996107776 tn:MainThread fn:write8     Wrote 0x01 to register 0x09\n"
     ]
    },
    {
     "name": "stdout",
     "output_type": "stream",
     "text": [
      "('control: ', 2)\n"
     ]
    },
    {
     "name": "stderr",
     "output_type": "stream",
     "text": [
      "[DEBUG] time:1496114604.38367105 pid:28091 pn:Process-2  tid:1996107776 tn:MainThread fn:write8     Wrote 0x00 to register 0x06\n",
      "[DEBUG] time:1496114604.38811302 pid:28091 pn:Process-2  tid:1996107776 tn:MainThread fn:write8     Wrote 0x00 to register 0x07\n",
      "[DEBUG] time:1496114604.39924192 pid:28091 pn:Process-2  tid:1996107776 tn:MainThread fn:write8     Wrote 0x77 to register 0x08\n",
      "[DEBUG] time:1496114604.40363598 pid:28091 pn:Process-2  tid:1996107776 tn:MainThread fn:write8     Wrote 0x01 to register 0x09\n"
     ]
    },
    {
     "name": "stdout",
     "output_type": "stream",
     "text": [
      "('control: ', 2)\n"
     ]
    },
    {
     "name": "stderr",
     "output_type": "stream",
     "text": [
      "[DEBUG] time:1496114604.46601510 pid:28091 pn:Process-2  tid:1996107776 tn:MainThread fn:write8     Wrote 0x00 to register 0x06\n",
      "[DEBUG] time:1496114604.47115588 pid:28091 pn:Process-2  tid:1996107776 tn:MainThread fn:write8     Wrote 0x00 to register 0x07\n",
      "[DEBUG] time:1496114604.47556090 pid:28091 pn:Process-2  tid:1996107776 tn:MainThread fn:write8     Wrote 0x77 to register 0x08\n",
      "[DEBUG] time:1496114604.47981000 pid:28091 pn:Process-2  tid:1996107776 tn:MainThread fn:write8     Wrote 0x01 to register 0x09\n"
     ]
    },
    {
     "name": "stdout",
     "output_type": "stream",
     "text": [
      "('control: ', 2)\n"
     ]
    },
    {
     "name": "stderr",
     "output_type": "stream",
     "text": [
      "[DEBUG] time:1496114604.54111195 pid:28091 pn:Process-2  tid:1996107776 tn:MainThread fn:write8     Wrote 0x00 to register 0x06\n",
      "[DEBUG] time:1496114604.54628611 pid:28091 pn:Process-2  tid:1996107776 tn:MainThread fn:write8     Wrote 0x00 to register 0x07\n",
      "[DEBUG] time:1496114604.55147505 pid:28091 pn:Process-2  tid:1996107776 tn:MainThread fn:write8     Wrote 0x77 to register 0x08\n",
      "[DEBUG] time:1496114604.55735898 pid:28091 pn:Process-2  tid:1996107776 tn:MainThread fn:write8     Wrote 0x01 to register 0x09\n"
     ]
    },
    {
     "name": "stdout",
     "output_type": "stream",
     "text": [
      "('control: ', 2)\n"
     ]
    },
    {
     "name": "stderr",
     "output_type": "stream",
     "text": [
      "[DEBUG] time:1496114604.62009811 pid:28091 pn:Process-2  tid:1996107776 tn:MainThread fn:write8     Wrote 0x00 to register 0x06\n",
      "[DEBUG] time:1496114604.62523198 pid:28091 pn:Process-2  tid:1996107776 tn:MainThread fn:write8     Wrote 0x00 to register 0x07\n",
      "[DEBUG] time:1496114604.63046098 pid:28091 pn:Process-2  tid:1996107776 tn:MainThread fn:write8     Wrote 0x77 to register 0x08\n",
      "[DEBUG] time:1496114604.63605905 pid:28091 pn:Process-2  tid:1996107776 tn:MainThread fn:write8     Wrote 0x01 to register 0x09\n"
     ]
    },
    {
     "name": "stdout",
     "output_type": "stream",
     "text": [
      "('control: ', 2)\n"
     ]
    },
    {
     "name": "stderr",
     "output_type": "stream",
     "text": [
      "[DEBUG] time:1496114604.69794607 pid:28091 pn:Process-2  tid:1996107776 tn:MainThread fn:write8     Wrote 0x00 to register 0x06\n",
      "[DEBUG] time:1496114604.70301604 pid:28091 pn:Process-2  tid:1996107776 tn:MainThread fn:write8     Wrote 0x00 to register 0x07\n",
      "[DEBUG] time:1496114604.70826697 pid:28091 pn:Process-2  tid:1996107776 tn:MainThread fn:write8     Wrote 0x77 to register 0x08\n",
      "[DEBUG] time:1496114604.71383190 pid:28091 pn:Process-2  tid:1996107776 tn:MainThread fn:write8     Wrote 0x01 to register 0x09\n"
     ]
    },
    {
     "name": "stdout",
     "output_type": "stream",
     "text": [
      "('control: ', 2)\n"
     ]
    },
    {
     "name": "stderr",
     "output_type": "stream",
     "text": [
      "[DEBUG] time:1496114604.77537608 pid:28091 pn:Process-2  tid:1996107776 tn:MainThread fn:write8     Wrote 0x00 to register 0x06\n",
      "[DEBUG] time:1496114604.78036094 pid:28091 pn:Process-2  tid:1996107776 tn:MainThread fn:write8     Wrote 0x00 to register 0x07\n",
      "[DEBUG] time:1496114604.78564501 pid:28091 pn:Process-2  tid:1996107776 tn:MainThread fn:write8     Wrote 0x77 to register 0x08\n",
      "[DEBUG] time:1496114604.79034495 pid:28091 pn:Process-2  tid:1996107776 tn:MainThread fn:write8     Wrote 0x01 to register 0x09\n"
     ]
    },
    {
     "name": "stdout",
     "output_type": "stream",
     "text": [
      "('control: ', 2)\n"
     ]
    },
    {
     "name": "stderr",
     "output_type": "stream",
     "text": [
      "[DEBUG] time:1496114604.85160303 pid:28091 pn:Process-2  tid:1996107776 tn:MainThread fn:write8     Wrote 0x00 to register 0x06\n",
      "[DEBUG] time:1496114604.85670090 pid:28091 pn:Process-2  tid:1996107776 tn:MainThread fn:write8     Wrote 0x00 to register 0x07\n",
      "[DEBUG] time:1496114604.86189103 pid:28091 pn:Process-2  tid:1996107776 tn:MainThread fn:write8     Wrote 0x77 to register 0x08\n",
      "[DEBUG] time:1496114604.86781812 pid:28091 pn:Process-2  tid:1996107776 tn:MainThread fn:write8     Wrote 0x01 to register 0x09\n"
     ]
    },
    {
     "name": "stdout",
     "output_type": "stream",
     "text": [
      "('control: ', 2)\n"
     ]
    },
    {
     "name": "stderr",
     "output_type": "stream",
     "text": [
      "[DEBUG] time:1496114604.92898202 pid:28091 pn:Process-2  tid:1996107776 tn:MainThread fn:write8     Wrote 0x00 to register 0x06\n",
      "[DEBUG] time:1496114604.93410492 pid:28091 pn:Process-2  tid:1996107776 tn:MainThread fn:write8     Wrote 0x00 to register 0x07\n",
      "[DEBUG] time:1496114604.93929911 pid:28091 pn:Process-2  tid:1996107776 tn:MainThread fn:write8     Wrote 0x77 to register 0x08\n",
      "[DEBUG] time:1496114604.94531798 pid:28091 pn:Process-2  tid:1996107776 tn:MainThread fn:write8     Wrote 0x01 to register 0x09\n"
     ]
    },
    {
     "name": "stdout",
     "output_type": "stream",
     "text": [
      "('control: ', 0)\n"
     ]
    },
    {
     "name": "stderr",
     "output_type": "stream",
     "text": [
      "[DEBUG] time:1496114605.00699306 pid:28091 pn:Process-2  tid:1996107776 tn:MainThread fn:write8     Wrote 0x00 to register 0x06\n",
      "[DEBUG] time:1496114605.01167488 pid:28091 pn:Process-2  tid:1996107776 tn:MainThread fn:write8     Wrote 0x00 to register 0x07\n",
      "[DEBUG] time:1496114605.01749611 pid:28091 pn:Process-2  tid:1996107776 tn:MainThread fn:write8     Wrote 0x77 to register 0x08\n",
      "[DEBUG] time:1496114605.02273607 pid:28091 pn:Process-2  tid:1996107776 tn:MainThread fn:write8     Wrote 0x01 to register 0x09\n"
     ]
    },
    {
     "name": "stdout",
     "output_type": "stream",
     "text": [
      "('control: ', 0)\n"
     ]
    },
    {
     "name": "stderr",
     "output_type": "stream",
     "text": [
      "[DEBUG] time:1496114605.08449411 pid:28091 pn:Process-2  tid:1996107776 tn:MainThread fn:write8     Wrote 0x00 to register 0x06\n",
      "[DEBUG] time:1496114605.08920789 pid:28091 pn:Process-2  tid:1996107776 tn:MainThread fn:write8     Wrote 0x00 to register 0x07\n",
      "[DEBUG] time:1496114605.09406996 pid:28091 pn:Process-2  tid:1996107776 tn:MainThread fn:write8     Wrote 0x77 to register 0x08\n",
      "[DEBUG] time:1496114605.09896111 pid:28091 pn:Process-2  tid:1996107776 tn:MainThread fn:write8     Wrote 0x01 to register 0x09\n"
     ]
    },
    {
     "name": "stdout",
     "output_type": "stream",
     "text": [
      "('control: ', 0)\n"
     ]
    },
    {
     "name": "stderr",
     "output_type": "stream",
     "text": [
      "[DEBUG] time:1496114605.15986204 pid:28091 pn:Process-2  tid:1996107776 tn:MainThread fn:write8     Wrote 0x00 to register 0x06\n",
      "[DEBUG] time:1496114605.16478992 pid:28091 pn:Process-2  tid:1996107776 tn:MainThread fn:write8     Wrote 0x00 to register 0x07\n",
      "[DEBUG] time:1496114605.16994095 pid:28091 pn:Process-2  tid:1996107776 tn:MainThread fn:write8     Wrote 0x77 to register 0x08\n",
      "[DEBUG] time:1496114605.17607188 pid:28091 pn:Process-2  tid:1996107776 tn:MainThread fn:write8     Wrote 0x01 to register 0x09\n"
     ]
    },
    {
     "name": "stdout",
     "output_type": "stream",
     "text": [
      "('control: ', 0)\n"
     ]
    },
    {
     "name": "stderr",
     "output_type": "stream",
     "text": [
      "[DEBUG] time:1496114605.24356794 pid:28091 pn:Process-2  tid:1996107776 tn:MainThread fn:write8     Wrote 0x00 to register 0x06\n",
      "[DEBUG] time:1496114605.24871492 pid:28091 pn:Process-2  tid:1996107776 tn:MainThread fn:write8     Wrote 0x00 to register 0x07\n",
      "[DEBUG] time:1496114605.25902510 pid:28091 pn:Process-2  tid:1996107776 tn:MainThread fn:write8     Wrote 0x77 to register 0x08\n",
      "[DEBUG] time:1496114605.26405907 pid:28091 pn:Process-2  tid:1996107776 tn:MainThread fn:write8     Wrote 0x01 to register 0x09\n"
     ]
    },
    {
     "name": "stdout",
     "output_type": "stream",
     "text": [
      "('control: ', 0)\n"
     ]
    },
    {
     "name": "stderr",
     "output_type": "stream",
     "text": [
      "[DEBUG] time:1496114605.33047509 pid:28091 pn:Process-2  tid:1996107776 tn:MainThread fn:write8     Wrote 0x00 to register 0x06\n",
      "[DEBUG] time:1496114605.33473611 pid:28091 pn:Process-2  tid:1996107776 tn:MainThread fn:write8     Wrote 0x00 to register 0x07\n",
      "[DEBUG] time:1496114605.33898711 pid:28091 pn:Process-2  tid:1996107776 tn:MainThread fn:write8     Wrote 0x77 to register 0x08\n",
      "[DEBUG] time:1496114605.34328699 pid:28091 pn:Process-2  tid:1996107776 tn:MainThread fn:write8     Wrote 0x01 to register 0x09\n"
     ]
    },
    {
     "name": "stdout",
     "output_type": "stream",
     "text": [
      "('control: ', 0)\n"
     ]
    },
    {
     "name": "stderr",
     "output_type": "stream",
     "text": [
      "[DEBUG] time:1496114605.40374708 pid:28091 pn:Process-2  tid:1996107776 tn:MainThread fn:write8     Wrote 0x00 to register 0x06\n",
      "[DEBUG] time:1496114605.40794301 pid:28091 pn:Process-2  tid:1996107776 tn:MainThread fn:write8     Wrote 0x00 to register 0x07\n",
      "[DEBUG] time:1496114605.41310096 pid:28091 pn:Process-2  tid:1996107776 tn:MainThread fn:write8     Wrote 0x77 to register 0x08\n",
      "[DEBUG] time:1496114605.41808796 pid:28091 pn:Process-2  tid:1996107776 tn:MainThread fn:write8     Wrote 0x01 to register 0x09\n"
     ]
    },
    {
     "name": "stdout",
     "output_type": "stream",
     "text": [
      "('control: ', 0)\n"
     ]
    },
    {
     "name": "stderr",
     "output_type": "stream",
     "text": [
      "[DEBUG] time:1496114605.47998691 pid:28091 pn:Process-2  tid:1996107776 tn:MainThread fn:write8     Wrote 0x00 to register 0x06\n",
      "[DEBUG] time:1496114605.48520994 pid:28091 pn:Process-2  tid:1996107776 tn:MainThread fn:write8     Wrote 0x00 to register 0x07\n",
      "[DEBUG] time:1496114605.48955297 pid:28091 pn:Process-2  tid:1996107776 tn:MainThread fn:write8     Wrote 0x77 to register 0x08\n",
      "[DEBUG] time:1496114605.49440503 pid:28091 pn:Process-2  tid:1996107776 tn:MainThread fn:write8     Wrote 0x01 to register 0x09\n"
     ]
    },
    {
     "name": "stdout",
     "output_type": "stream",
     "text": [
      "('control: ', 0)\n"
     ]
    },
    {
     "name": "stderr",
     "output_type": "stream",
     "text": [
      "[DEBUG] time:1496114605.55646706 pid:28091 pn:Process-2  tid:1996107776 tn:MainThread fn:write8     Wrote 0x00 to register 0x06\n",
      "[DEBUG] time:1496114605.56123590 pid:28091 pn:Process-2  tid:1996107776 tn:MainThread fn:write8     Wrote 0x00 to register 0x07\n",
      "[DEBUG] time:1496114605.56566906 pid:28091 pn:Process-2  tid:1996107776 tn:MainThread fn:write8     Wrote 0x77 to register 0x08\n",
      "[DEBUG] time:1496114605.57038403 pid:28091 pn:Process-2  tid:1996107776 tn:MainThread fn:write8     Wrote 0x01 to register 0x09\n"
     ]
    },
    {
     "name": "stdout",
     "output_type": "stream",
     "text": [
      "('control: ', 0)\n"
     ]
    },
    {
     "name": "stderr",
     "output_type": "stream",
     "text": [
      "[DEBUG] time:1496114605.63093090 pid:28091 pn:Process-2  tid:1996107776 tn:MainThread fn:write8     Wrote 0x00 to register 0x06\n",
      "[DEBUG] time:1496114605.63514996 pid:28091 pn:Process-2  tid:1996107776 tn:MainThread fn:write8     Wrote 0x00 to register 0x07\n",
      "[DEBUG] time:1496114605.63939595 pid:28091 pn:Process-2  tid:1996107776 tn:MainThread fn:write8     Wrote 0x77 to register 0x08\n",
      "[DEBUG] time:1496114605.64400911 pid:28091 pn:Process-2  tid:1996107776 tn:MainThread fn:write8     Wrote 0x01 to register 0x09\n"
     ]
    },
    {
     "name": "stdout",
     "output_type": "stream",
     "text": [
      "('control: ', 2)\n"
     ]
    },
    {
     "name": "stderr",
     "output_type": "stream",
     "text": [
      "[DEBUG] time:1496114605.70467806 pid:28091 pn:Process-2  tid:1996107776 tn:MainThread fn:write8     Wrote 0x00 to register 0x06\n",
      "[DEBUG] time:1496114605.70883489 pid:28091 pn:Process-2  tid:1996107776 tn:MainThread fn:write8     Wrote 0x00 to register 0x07\n",
      "[DEBUG] time:1496114605.71309209 pid:28091 pn:Process-2  tid:1996107776 tn:MainThread fn:write8     Wrote 0x77 to register 0x08\n",
      "[DEBUG] time:1496114605.71852112 pid:28091 pn:Process-2  tid:1996107776 tn:MainThread fn:write8     Wrote 0x01 to register 0x09\n"
     ]
    },
    {
     "name": "stdout",
     "output_type": "stream",
     "text": [
      "('control: ', 2)\n"
     ]
    },
    {
     "name": "stderr",
     "output_type": "stream",
     "text": [
      "[DEBUG] time:1496114605.77890110 pid:28091 pn:Process-2  tid:1996107776 tn:MainThread fn:write8     Wrote 0x00 to register 0x06\n",
      "[DEBUG] time:1496114605.78305101 pid:28091 pn:Process-2  tid:1996107776 tn:MainThread fn:write8     Wrote 0x00 to register 0x07\n",
      "[DEBUG] time:1496114605.78737497 pid:28091 pn:Process-2  tid:1996107776 tn:MainThread fn:write8     Wrote 0x77 to register 0x08\n",
      "[DEBUG] time:1496114605.79226398 pid:28091 pn:Process-2  tid:1996107776 tn:MainThread fn:write8     Wrote 0x01 to register 0x09\n"
     ]
    },
    {
     "name": "stdout",
     "output_type": "stream",
     "text": [
      "('control: ', 2)\n"
     ]
    },
    {
     "name": "stderr",
     "output_type": "stream",
     "text": [
      "[DEBUG] time:1496114605.85251403 pid:28091 pn:Process-2  tid:1996107776 tn:MainThread fn:write8     Wrote 0x00 to register 0x06\n",
      "[DEBUG] time:1496114605.85672998 pid:28091 pn:Process-2  tid:1996107776 tn:MainThread fn:write8     Wrote 0x00 to register 0x07\n",
      "[DEBUG] time:1496114605.86096907 pid:28091 pn:Process-2  tid:1996107776 tn:MainThread fn:write8     Wrote 0x77 to register 0x08\n",
      "[DEBUG] time:1496114605.86538601 pid:28091 pn:Process-2  tid:1996107776 tn:MainThread fn:write8     Wrote 0x01 to register 0x09\n"
     ]
    },
    {
     "name": "stdout",
     "output_type": "stream",
     "text": [
      "('control: ', 2)\n"
     ]
    },
    {
     "name": "stderr",
     "output_type": "stream",
     "text": [
      "[DEBUG] time:1496114605.92601299 pid:28091 pn:Process-2  tid:1996107776 tn:MainThread fn:write8     Wrote 0x00 to register 0x06\n",
      "[DEBUG] time:1496114605.93139601 pid:28091 pn:Process-2  tid:1996107776 tn:MainThread fn:write8     Wrote 0x00 to register 0x07\n",
      "[DEBUG] time:1496114605.93727899 pid:28091 pn:Process-2  tid:1996107776 tn:MainThread fn:write8     Wrote 0x77 to register 0x08\n",
      "[DEBUG] time:1496114605.94272804 pid:28091 pn:Process-2  tid:1996107776 tn:MainThread fn:write8     Wrote 0x01 to register 0x09\n"
     ]
    },
    {
     "name": "stdout",
     "output_type": "stream",
     "text": [
      "('control: ', 2)\n"
     ]
    },
    {
     "name": "stderr",
     "output_type": "stream",
     "text": [
      "[DEBUG] time:1496114606.00346708 pid:28091 pn:Process-2  tid:1996107776 tn:MainThread fn:write8     Wrote 0x00 to register 0x06\n",
      "[DEBUG] time:1496114606.00763106 pid:28091 pn:Process-2  tid:1996107776 tn:MainThread fn:write8     Wrote 0x00 to register 0x07\n",
      "[DEBUG] time:1496114606.01189995 pid:28091 pn:Process-2  tid:1996107776 tn:MainThread fn:write8     Wrote 0x77 to register 0x08\n",
      "[DEBUG] time:1496114606.01667500 pid:28091 pn:Process-2  tid:1996107776 tn:MainThread fn:write8     Wrote 0x01 to register 0x09\n"
     ]
    },
    {
     "name": "stdout",
     "output_type": "stream",
     "text": [
      "('control: ', 2)\n"
     ]
    },
    {
     "name": "stderr",
     "output_type": "stream",
     "text": [
      "[DEBUG] time:1496114606.07717109 pid:28091 pn:Process-2  tid:1996107776 tn:MainThread fn:write8     Wrote 0x00 to register 0x06\n",
      "[DEBUG] time:1496114606.08132911 pid:28091 pn:Process-2  tid:1996107776 tn:MainThread fn:write8     Wrote 0x00 to register 0x07\n",
      "[DEBUG] time:1496114606.08563399 pid:28091 pn:Process-2  tid:1996107776 tn:MainThread fn:write8     Wrote 0x77 to register 0x08\n",
      "[DEBUG] time:1496114606.09090900 pid:28091 pn:Process-2  tid:1996107776 tn:MainThread fn:write8     Wrote 0x01 to register 0x09\n"
     ]
    },
    {
     "name": "stdout",
     "output_type": "stream",
     "text": [
      "('control: ', 2)\n"
     ]
    },
    {
     "name": "stderr",
     "output_type": "stream",
     "text": [
      "[DEBUG] time:1496114606.15234804 pid:28091 pn:Process-2  tid:1996107776 tn:MainThread fn:write8     Wrote 0x00 to register 0x06\n",
      "[DEBUG] time:1496114606.15657401 pid:28091 pn:Process-2  tid:1996107776 tn:MainThread fn:write8     Wrote 0x00 to register 0x07\n",
      "[DEBUG] time:1496114606.16239405 pid:28091 pn:Process-2  tid:1996107776 tn:MainThread fn:write8     Wrote 0x77 to register 0x08\n",
      "[DEBUG] time:1496114606.16741705 pid:28091 pn:Process-2  tid:1996107776 tn:MainThread fn:write8     Wrote 0x01 to register 0x09\n"
     ]
    },
    {
     "name": "stdout",
     "output_type": "stream",
     "text": [
      "('control: ', 2)\n"
     ]
    },
    {
     "name": "stderr",
     "output_type": "stream",
     "text": [
      "[DEBUG] time:1496114606.22831702 pid:28091 pn:Process-2  tid:1996107776 tn:MainThread fn:write8     Wrote 0x00 to register 0x06\n",
      "[DEBUG] time:1496114606.23247290 pid:28091 pn:Process-2  tid:1996107776 tn:MainThread fn:write8     Wrote 0x00 to register 0x07\n",
      "[DEBUG] time:1496114606.23773098 pid:28091 pn:Process-2  tid:1996107776 tn:MainThread fn:write8     Wrote 0x77 to register 0x08\n",
      "[DEBUG] time:1496114606.24366498 pid:28091 pn:Process-2  tid:1996107776 tn:MainThread fn:write8     Wrote 0x01 to register 0x09\n"
     ]
    },
    {
     "name": "stdout",
     "output_type": "stream",
     "text": [
      "('control: ', 2)\n"
     ]
    },
    {
     "name": "stderr",
     "output_type": "stream",
     "text": [
      "[DEBUG] time:1496114606.30455804 pid:28091 pn:Process-2  tid:1996107776 tn:MainThread fn:write8     Wrote 0x00 to register 0x06\n",
      "[DEBUG] time:1496114606.31052208 pid:28091 pn:Process-2  tid:1996107776 tn:MainThread fn:write8     Wrote 0x00 to register 0x07\n",
      "[DEBUG] time:1496114606.31543803 pid:28091 pn:Process-2  tid:1996107776 tn:MainThread fn:write8     Wrote 0x77 to register 0x08\n",
      "[DEBUG] time:1496114606.32139206 pid:28091 pn:Process-2  tid:1996107776 tn:MainThread fn:write8     Wrote 0x01 to register 0x09\n"
     ]
    },
    {
     "name": "stdout",
     "output_type": "stream",
     "text": [
      "('control: ', 2)\n"
     ]
    },
    {
     "name": "stderr",
     "output_type": "stream",
     "text": [
      "[DEBUG] time:1496114606.38660002 pid:28091 pn:Process-2  tid:1996107776 tn:MainThread fn:write8     Wrote 0x00 to register 0x06\n",
      "[DEBUG] time:1496114606.39091992 pid:28091 pn:Process-2  tid:1996107776 tn:MainThread fn:write8     Wrote 0x00 to register 0x07\n",
      "[DEBUG] time:1496114606.39546490 pid:28091 pn:Process-2  tid:1996107776 tn:MainThread fn:write8     Wrote 0x77 to register 0x08\n",
      "[DEBUG] time:1496114606.40172005 pid:28091 pn:Process-2  tid:1996107776 tn:MainThread fn:write8     Wrote 0x01 to register 0x09\n"
     ]
    },
    {
     "name": "stdout",
     "output_type": "stream",
     "text": [
      "('control: ', 2)\n"
     ]
    },
    {
     "name": "stderr",
     "output_type": "stream",
     "text": [
      "[DEBUG] time:1496114606.46243596 pid:28091 pn:Process-2  tid:1996107776 tn:MainThread fn:write8     Wrote 0x00 to register 0x06\n",
      "[DEBUG] time:1496114606.46726608 pid:28091 pn:Process-2  tid:1996107776 tn:MainThread fn:write8     Wrote 0x00 to register 0x07\n",
      "[DEBUG] time:1496114606.47161102 pid:28091 pn:Process-2  tid:1996107776 tn:MainThread fn:write8     Wrote 0x77 to register 0x08\n",
      "[DEBUG] time:1496114606.47739291 pid:28091 pn:Process-2  tid:1996107776 tn:MainThread fn:write8     Wrote 0x01 to register 0x09\n"
     ]
    },
    {
     "name": "stdout",
     "output_type": "stream",
     "text": [
      "('control: ', 2)\n"
     ]
    },
    {
     "name": "stderr",
     "output_type": "stream",
     "text": [
      "[DEBUG] time:1496114606.53854704 pid:28091 pn:Process-2  tid:1996107776 tn:MainThread fn:write8     Wrote 0x00 to register 0x06\n",
      "[DEBUG] time:1496114606.54287004 pid:28091 pn:Process-2  tid:1996107776 tn:MainThread fn:write8     Wrote 0x00 to register 0x07\n",
      "[DEBUG] time:1496114606.54742289 pid:28091 pn:Process-2  tid:1996107776 tn:MainThread fn:write8     Wrote 0x77 to register 0x08\n",
      "[DEBUG] time:1496114606.55209303 pid:28091 pn:Process-2  tid:1996107776 tn:MainThread fn:write8     Wrote 0x01 to register 0x09\n"
     ]
    },
    {
     "name": "stdout",
     "output_type": "stream",
     "text": [
      "('control: ', 2)\n"
     ]
    },
    {
     "name": "stderr",
     "output_type": "stream",
     "text": [
      "[DEBUG] time:1496114606.62065792 pid:28091 pn:Process-2  tid:1996107776 tn:MainThread fn:write8     Wrote 0x00 to register 0x06\n",
      "[DEBUG] time:1496114606.62515497 pid:28091 pn:Process-2  tid:1996107776 tn:MainThread fn:write8     Wrote 0x00 to register 0x07\n",
      "[DEBUG] time:1496114606.63622189 pid:28091 pn:Process-2  tid:1996107776 tn:MainThread fn:write8     Wrote 0x77 to register 0x08\n",
      "[DEBUG] time:1496114606.64156389 pid:28091 pn:Process-2  tid:1996107776 tn:MainThread fn:write8     Wrote 0x01 to register 0x09\n"
     ]
    },
    {
     "name": "stdout",
     "output_type": "stream",
     "text": [
      "('control: ', 2)\n"
     ]
    },
    {
     "name": "stderr",
     "output_type": "stream",
     "text": [
      "[DEBUG] time:1496114606.70644808 pid:28091 pn:Process-2  tid:1996107776 tn:MainThread fn:write8     Wrote 0x00 to register 0x06\n",
      "[DEBUG] time:1496114606.71081305 pid:28091 pn:Process-2  tid:1996107776 tn:MainThread fn:write8     Wrote 0x00 to register 0x07\n",
      "[DEBUG] time:1496114606.71690106 pid:28091 pn:Process-2  tid:1996107776 tn:MainThread fn:write8     Wrote 0x77 to register 0x08\n",
      "[DEBUG] time:1496114606.72144699 pid:28091 pn:Process-2  tid:1996107776 tn:MainThread fn:write8     Wrote 0x01 to register 0x09\n"
     ]
    },
    {
     "name": "stdout",
     "output_type": "stream",
     "text": [
      "('control: ', 0)\n"
     ]
    },
    {
     "name": "stderr",
     "output_type": "stream",
     "text": [
      "[DEBUG] time:1496114606.78154492 pid:28091 pn:Process-2  tid:1996107776 tn:MainThread fn:write8     Wrote 0x00 to register 0x06\n",
      "[DEBUG] time:1496114606.78579998 pid:28091 pn:Process-2  tid:1996107776 tn:MainThread fn:write8     Wrote 0x00 to register 0x07\n",
      "[DEBUG] time:1496114606.79005504 pid:28091 pn:Process-2  tid:1996107776 tn:MainThread fn:write8     Wrote 0x77 to register 0x08\n",
      "[DEBUG] time:1496114606.79468489 pid:28091 pn:Process-2  tid:1996107776 tn:MainThread fn:write8     Wrote 0x01 to register 0x09\n"
     ]
    },
    {
     "name": "stdout",
     "output_type": "stream",
     "text": [
      "('control: ', 0)\n"
     ]
    },
    {
     "name": "stderr",
     "output_type": "stream",
     "text": [
      "[DEBUG] time:1496114606.85615206 pid:28091 pn:Process-2  tid:1996107776 tn:MainThread fn:write8     Wrote 0x00 to register 0x06\n",
      "[DEBUG] time:1496114606.86224294 pid:28091 pn:Process-2  tid:1996107776 tn:MainThread fn:write8     Wrote 0x00 to register 0x07\n",
      "[DEBUG] time:1496114606.86671400 pid:28091 pn:Process-2  tid:1996107776 tn:MainThread fn:write8     Wrote 0x77 to register 0x08\n",
      "[DEBUG] time:1496114606.87088203 pid:28091 pn:Process-2  tid:1996107776 tn:MainThread fn:write8     Wrote 0x01 to register 0x09\n"
     ]
    },
    {
     "name": "stdout",
     "output_type": "stream",
     "text": [
      "('control: ', 0)\n"
     ]
    },
    {
     "name": "stderr",
     "output_type": "stream",
     "text": [
      "[DEBUG] time:1496114606.93094206 pid:28091 pn:Process-2  tid:1996107776 tn:MainThread fn:write8     Wrote 0x00 to register 0x06\n",
      "[DEBUG] time:1496114606.93529296 pid:28091 pn:Process-2  tid:1996107776 tn:MainThread fn:write8     Wrote 0x00 to register 0x07\n",
      "[DEBUG] time:1496114606.93958998 pid:28091 pn:Process-2  tid:1996107776 tn:MainThread fn:write8     Wrote 0x77 to register 0x08\n",
      "[DEBUG] time:1496114606.94384408 pid:28091 pn:Process-2  tid:1996107776 tn:MainThread fn:write8     Wrote 0x01 to register 0x09\n"
     ]
    },
    {
     "name": "stdout",
     "output_type": "stream",
     "text": [
      "('control: ', 0)\n"
     ]
    },
    {
     "name": "stderr",
     "output_type": "stream",
     "text": [
      "[DEBUG] time:1496114607.00516200 pid:28091 pn:Process-2  tid:1996107776 tn:MainThread fn:write8     Wrote 0x00 to register 0x06\n",
      "[DEBUG] time:1496114607.00934792 pid:28091 pn:Process-2  tid:1996107776 tn:MainThread fn:write8     Wrote 0x00 to register 0x07\n",
      "[DEBUG] time:1496114607.01367497 pid:28091 pn:Process-2  tid:1996107776 tn:MainThread fn:write8     Wrote 0x77 to register 0x08\n",
      "[DEBUG] time:1496114607.01792192 pid:28091 pn:Process-2  tid:1996107776 tn:MainThread fn:write8     Wrote 0x01 to register 0x09\n"
     ]
    },
    {
     "name": "stdout",
     "output_type": "stream",
     "text": [
      "('control: ', 0)\n"
     ]
    },
    {
     "name": "stderr",
     "output_type": "stream",
     "text": [
      "[DEBUG] time:1496114607.07893705 pid:28091 pn:Process-2  tid:1996107776 tn:MainThread fn:write8     Wrote 0x00 to register 0x06\n",
      "[DEBUG] time:1496114607.08523011 pid:28091 pn:Process-2  tid:1996107776 tn:MainThread fn:write8     Wrote 0x00 to register 0x07\n",
      "[DEBUG] time:1496114607.08952498 pid:28091 pn:Process-2  tid:1996107776 tn:MainThread fn:write8     Wrote 0x77 to register 0x08\n",
      "[DEBUG] time:1496114607.09550309 pid:28091 pn:Process-2  tid:1996107776 tn:MainThread fn:write8     Wrote 0x01 to register 0x09\n"
     ]
    },
    {
     "name": "stdout",
     "output_type": "stream",
     "text": [
      "('control: ', 0)\n"
     ]
    },
    {
     "name": "stderr",
     "output_type": "stream",
     "text": [
      "[DEBUG] time:1496114607.15758991 pid:28091 pn:Process-2  tid:1996107776 tn:MainThread fn:write8     Wrote 0x00 to register 0x06\n",
      "[DEBUG] time:1496114607.16209888 pid:28091 pn:Process-2  tid:1996107776 tn:MainThread fn:write8     Wrote 0x00 to register 0x07\n",
      "[DEBUG] time:1496114607.16651511 pid:28091 pn:Process-2  tid:1996107776 tn:MainThread fn:write8     Wrote 0x77 to register 0x08\n",
      "[DEBUG] time:1496114607.17067409 pid:28091 pn:Process-2  tid:1996107776 tn:MainThread fn:write8     Wrote 0x01 to register 0x09\n"
     ]
    },
    {
     "name": "stdout",
     "output_type": "stream",
     "text": [
      "('control: ', 2)\n"
     ]
    },
    {
     "name": "stderr",
     "output_type": "stream",
     "text": [
      "[DEBUG] time:1496114607.23123598 pid:28091 pn:Process-2  tid:1996107776 tn:MainThread fn:write8     Wrote 0x00 to register 0x06\n",
      "[DEBUG] time:1496114607.23543906 pid:28091 pn:Process-2  tid:1996107776 tn:MainThread fn:write8     Wrote 0x00 to register 0x07\n",
      "[DEBUG] time:1496114607.23968911 pid:28091 pn:Process-2  tid:1996107776 tn:MainThread fn:write8     Wrote 0x77 to register 0x08\n",
      "[DEBUG] time:1496114607.24420404 pid:28091 pn:Process-2  tid:1996107776 tn:MainThread fn:write8     Wrote 0x01 to register 0x09\n"
     ]
    },
    {
     "name": "stdout",
     "output_type": "stream",
     "text": [
      "('control: ', 2)\n"
     ]
    },
    {
     "name": "stderr",
     "output_type": "stream",
     "text": [
      "[DEBUG] time:1496114607.30431294 pid:28091 pn:Process-2  tid:1996107776 tn:MainThread fn:write8     Wrote 0x00 to register 0x06\n",
      "[DEBUG] time:1496114607.30847812 pid:28091 pn:Process-2  tid:1996107776 tn:MainThread fn:write8     Wrote 0x00 to register 0x07\n",
      "[DEBUG] time:1496114607.31275606 pid:28091 pn:Process-2  tid:1996107776 tn:MainThread fn:write8     Wrote 0x77 to register 0x08\n",
      "[DEBUG] time:1496114607.31711602 pid:28091 pn:Process-2  tid:1996107776 tn:MainThread fn:write8     Wrote 0x01 to register 0x09\n"
     ]
    },
    {
     "name": "stdout",
     "output_type": "stream",
     "text": [
      "('control: ', 2)\n"
     ]
    },
    {
     "name": "stderr",
     "output_type": "stream",
     "text": [
      "[DEBUG] time:1496114607.37911606 pid:28091 pn:Process-2  tid:1996107776 tn:MainThread fn:write8     Wrote 0x00 to register 0x06\n",
      "[DEBUG] time:1496114607.38325691 pid:28091 pn:Process-2  tid:1996107776 tn:MainThread fn:write8     Wrote 0x00 to register 0x07\n",
      "[DEBUG] time:1496114607.38753104 pid:28091 pn:Process-2  tid:1996107776 tn:MainThread fn:write8     Wrote 0x77 to register 0x08\n",
      "[DEBUG] time:1496114607.39194489 pid:28091 pn:Process-2  tid:1996107776 tn:MainThread fn:write8     Wrote 0x01 to register 0x09\n"
     ]
    },
    {
     "name": "stdout",
     "output_type": "stream",
     "text": [
      "('control: ', 2)\n"
     ]
    },
    {
     "name": "stderr",
     "output_type": "stream",
     "text": [
      "[DEBUG] time:1496114607.45216703 pid:28091 pn:Process-2  tid:1996107776 tn:MainThread fn:write8     Wrote 0x00 to register 0x06\n",
      "[DEBUG] time:1496114607.45641589 pid:28091 pn:Process-2  tid:1996107776 tn:MainThread fn:write8     Wrote 0x00 to register 0x07\n",
      "[DEBUG] time:1496114607.46096492 pid:28091 pn:Process-2  tid:1996107776 tn:MainThread fn:write8     Wrote 0x77 to register 0x08\n",
      "[DEBUG] time:1496114607.46566010 pid:28091 pn:Process-2  tid:1996107776 tn:MainThread fn:write8     Wrote 0x01 to register 0x09\n"
     ]
    },
    {
     "name": "stdout",
     "output_type": "stream",
     "text": [
      "('control: ', 2)\n"
     ]
    },
    {
     "name": "stderr",
     "output_type": "stream",
     "text": [
      "[DEBUG] time:1496114607.52627802 pid:28091 pn:Process-2  tid:1996107776 tn:MainThread fn:write8     Wrote 0x00 to register 0x06\n",
      "[DEBUG] time:1496114607.53043008 pid:28091 pn:Process-2  tid:1996107776 tn:MainThread fn:write8     Wrote 0x00 to register 0x07\n",
      "[DEBUG] time:1496114607.53476310 pid:28091 pn:Process-2  tid:1996107776 tn:MainThread fn:write8     Wrote 0x77 to register 0x08\n",
      "[DEBUG] time:1496114607.53924704 pid:28091 pn:Process-2  tid:1996107776 tn:MainThread fn:write8     Wrote 0x01 to register 0x09\n"
     ]
    },
    {
     "name": "stdout",
     "output_type": "stream",
     "text": [
      "('control: ', 3)\n"
     ]
    },
    {
     "name": "stderr",
     "output_type": "stream",
     "text": [
      "[DEBUG] time:1496114607.59974194 pid:28091 pn:Process-2  tid:1996107776 tn:MainThread fn:write8     Wrote 0x00 to register 0x06\n",
      "[DEBUG] time:1496114607.60556197 pid:28091 pn:Process-2  tid:1996107776 tn:MainThread fn:write8     Wrote 0x00 to register 0x07\n",
      "[DEBUG] time:1496114607.61168909 pid:28091 pn:Process-2  tid:1996107776 tn:MainThread fn:write8     Wrote 0xA4 to register 0x08\n",
      "[DEBUG] time:1496114607.61756206 pid:28091 pn:Process-2  tid:1996107776 tn:MainThread fn:write8     Wrote 0x01 to register 0x09\n"
     ]
    },
    {
     "name": "stdout",
     "output_type": "stream",
     "text": [
      "('control: ', 2)\n"
     ]
    },
    {
     "name": "stderr",
     "output_type": "stream",
     "text": [
      "[DEBUG] time:1496114607.68056512 pid:28091 pn:Process-2  tid:1996107776 tn:MainThread fn:write8     Wrote 0x00 to register 0x06\n",
      "[DEBUG] time:1496114607.68635893 pid:28091 pn:Process-2  tid:1996107776 tn:MainThread fn:write8     Wrote 0x00 to register 0x07\n",
      "[DEBUG] time:1496114607.69251394 pid:28091 pn:Process-2  tid:1996107776 tn:MainThread fn:write8     Wrote 0x77 to register 0x08\n",
      "[DEBUG] time:1496114607.69900298 pid:28091 pn:Process-2  tid:1996107776 tn:MainThread fn:write8     Wrote 0x01 to register 0x09\n"
     ]
    },
    {
     "name": "stdout",
     "output_type": "stream",
     "text": [
      "('control: ', 3)\n"
     ]
    },
    {
     "name": "stderr",
     "output_type": "stream",
     "text": [
      "[DEBUG] time:1496114607.76170301 pid:28091 pn:Process-2  tid:1996107776 tn:MainThread fn:write8     Wrote 0x00 to register 0x06\n",
      "[DEBUG] time:1496114607.76675510 pid:28091 pn:Process-2  tid:1996107776 tn:MainThread fn:write8     Wrote 0x00 to register 0x07\n",
      "[DEBUG] time:1496114607.77329993 pid:28091 pn:Process-2  tid:1996107776 tn:MainThread fn:write8     Wrote 0xA4 to register 0x08\n",
      "[DEBUG] time:1496114607.77859998 pid:28091 pn:Process-2  tid:1996107776 tn:MainThread fn:write8     Wrote 0x01 to register 0x09\n"
     ]
    },
    {
     "name": "stdout",
     "output_type": "stream",
     "text": [
      "('control: ', 3)\n"
     ]
    },
    {
     "name": "stderr",
     "output_type": "stream",
     "text": [
      "[DEBUG] time:1496114607.84131098 pid:28091 pn:Process-2  tid:1996107776 tn:MainThread fn:write8     Wrote 0x00 to register 0x06\n",
      "[DEBUG] time:1496114607.84605002 pid:28091 pn:Process-2  tid:1996107776 tn:MainThread fn:write8     Wrote 0x00 to register 0x07\n",
      "[DEBUG] time:1496114607.85081291 pid:28091 pn:Process-2  tid:1996107776 tn:MainThread fn:write8     Wrote 0xA4 to register 0x08\n",
      "[DEBUG] time:1496114607.86297297 pid:28091 pn:Process-2  tid:1996107776 tn:MainThread fn:write8     Wrote 0x01 to register 0x09\n"
     ]
    },
    {
     "name": "stdout",
     "output_type": "stream",
     "text": [
      "('control: ', 3)\n"
     ]
    },
    {
     "name": "stderr",
     "output_type": "stream",
     "text": [
      "[DEBUG] time:1496114607.92386293 pid:28091 pn:Process-2  tid:1996107776 tn:MainThread fn:write8     Wrote 0x00 to register 0x06\n",
      "[DEBUG] time:1496114607.93091702 pid:28091 pn:Process-2  tid:1996107776 tn:MainThread fn:write8     Wrote 0x00 to register 0x07\n",
      "[DEBUG] time:1496114607.93702006 pid:28091 pn:Process-2  tid:1996107776 tn:MainThread fn:write8     Wrote 0xA4 to register 0x08\n",
      "[DEBUG] time:1496114607.94222593 pid:28091 pn:Process-2  tid:1996107776 tn:MainThread fn:write8     Wrote 0x01 to register 0x09\n"
     ]
    },
    {
     "name": "stdout",
     "output_type": "stream",
     "text": [
      "('control: ', 3)\n"
     ]
    },
    {
     "name": "stderr",
     "output_type": "stream",
     "text": [
      "[DEBUG] time:1496114608.01134896 pid:28091 pn:Process-2  tid:1996107776 tn:MainThread fn:write8     Wrote 0x00 to register 0x06\n",
      "[DEBUG] time:1496114608.01542091 pid:28091 pn:Process-2  tid:1996107776 tn:MainThread fn:write8     Wrote 0x00 to register 0x07\n",
      "[DEBUG] time:1496114608.02691293 pid:28091 pn:Process-2  tid:1996107776 tn:MainThread fn:write8     Wrote 0xA4 to register 0x08\n",
      "[DEBUG] time:1496114608.03103089 pid:28091 pn:Process-2  tid:1996107776 tn:MainThread fn:write8     Wrote 0x01 to register 0x09\n"
     ]
    },
    {
     "name": "stdout",
     "output_type": "stream",
     "text": [
      "('control: ', 3)\n"
     ]
    },
    {
     "name": "stderr",
     "output_type": "stream",
     "text": [
      "[DEBUG] time:1496114608.09048009 pid:28091 pn:Process-2  tid:1996107776 tn:MainThread fn:write8     Wrote 0x00 to register 0x06\n",
      "[DEBUG] time:1496114608.09480810 pid:28091 pn:Process-2  tid:1996107776 tn:MainThread fn:write8     Wrote 0x00 to register 0x07\n",
      "[DEBUG] time:1496114608.09901690 pid:28091 pn:Process-2  tid:1996107776 tn:MainThread fn:write8     Wrote 0xA4 to register 0x08\n",
      "[DEBUG] time:1496114608.10316610 pid:28091 pn:Process-2  tid:1996107776 tn:MainThread fn:write8     Wrote 0x01 to register 0x09\n"
     ]
    },
    {
     "name": "stdout",
     "output_type": "stream",
     "text": [
      "('control: ', 3)\n"
     ]
    },
    {
     "name": "stderr",
     "output_type": "stream",
     "text": [
      "[DEBUG] time:1496114608.16284204 pid:28091 pn:Process-2  tid:1996107776 tn:MainThread fn:write8     Wrote 0x00 to register 0x06\n",
      "[DEBUG] time:1496114608.16704607 pid:28091 pn:Process-2  tid:1996107776 tn:MainThread fn:write8     Wrote 0x00 to register 0x07\n",
      "[DEBUG] time:1496114608.17281699 pid:28091 pn:Process-2  tid:1996107776 tn:MainThread fn:write8     Wrote 0xA4 to register 0x08\n",
      "[DEBUG] time:1496114608.17718410 pid:28091 pn:Process-2  tid:1996107776 tn:MainThread fn:write8     Wrote 0x01 to register 0x09\n"
     ]
    },
    {
     "name": "stdout",
     "output_type": "stream",
     "text": [
      "('control: ', 3)\n"
     ]
    },
    {
     "name": "stderr",
     "output_type": "stream",
     "text": [
      "[DEBUG] time:1496114608.24114490 pid:28091 pn:Process-2  tid:1996107776 tn:MainThread fn:write8     Wrote 0x00 to register 0x06\n",
      "[DEBUG] time:1496114608.24545598 pid:28091 pn:Process-2  tid:1996107776 tn:MainThread fn:write8     Wrote 0x00 to register 0x07\n",
      "[DEBUG] time:1496114608.24964190 pid:28091 pn:Process-2  tid:1996107776 tn:MainThread fn:write8     Wrote 0xA4 to register 0x08\n",
      "[DEBUG] time:1496114608.25395012 pid:28091 pn:Process-2  tid:1996107776 tn:MainThread fn:write8     Wrote 0x01 to register 0x09\n"
     ]
    },
    {
     "name": "stdout",
     "output_type": "stream",
     "text": [
      "('control: ', 3)\n"
     ]
    },
    {
     "name": "stderr",
     "output_type": "stream",
     "text": [
      "[DEBUG] time:1496114608.31366396 pid:28091 pn:Process-2  tid:1996107776 tn:MainThread fn:write8     Wrote 0x00 to register 0x06\n",
      "[DEBUG] time:1496114608.31771493 pid:28091 pn:Process-2  tid:1996107776 tn:MainThread fn:write8     Wrote 0x00 to register 0x07\n",
      "[DEBUG] time:1496114608.32195306 pid:28091 pn:Process-2  tid:1996107776 tn:MainThread fn:write8     Wrote 0xA4 to register 0x08\n",
      "[DEBUG] time:1496114608.32628012 pid:28091 pn:Process-2  tid:1996107776 tn:MainThread fn:write8     Wrote 0x01 to register 0x09\n"
     ]
    },
    {
     "name": "stdout",
     "output_type": "stream",
     "text": [
      "('control: ', 3)\n"
     ]
    },
    {
     "name": "stderr",
     "output_type": "stream",
     "text": [
      "[DEBUG] time:1496114608.38603592 pid:28091 pn:Process-2  tid:1996107776 tn:MainThread fn:write8     Wrote 0x00 to register 0x06\n",
      "[DEBUG] time:1496114608.39008999 pid:28091 pn:Process-2  tid:1996107776 tn:MainThread fn:write8     Wrote 0x00 to register 0x07\n",
      "[DEBUG] time:1496114608.39608407 pid:28091 pn:Process-2  tid:1996107776 tn:MainThread fn:write8     Wrote 0xA4 to register 0x08\n",
      "[DEBUG] time:1496114608.40031099 pid:28091 pn:Process-2  tid:1996107776 tn:MainThread fn:write8     Wrote 0x01 to register 0x09\n"
     ]
    },
    {
     "name": "stdout",
     "output_type": "stream",
     "text": [
      "('control: ', 3)\n"
     ]
    },
    {
     "name": "stderr",
     "output_type": "stream",
     "text": [
      "[DEBUG] time:1496114608.46435499 pid:28091 pn:Process-2  tid:1996107776 tn:MainThread fn:write8     Wrote 0x00 to register 0x06\n",
      "[DEBUG] time:1496114608.46853399 pid:28091 pn:Process-2  tid:1996107776 tn:MainThread fn:write8     Wrote 0x00 to register 0x07\n",
      "[DEBUG] time:1496114608.47390008 pid:28091 pn:Process-2  tid:1996107776 tn:MainThread fn:write8     Wrote 0xA4 to register 0x08\n",
      "[DEBUG] time:1496114608.47814107 pid:28091 pn:Process-2  tid:1996107776 tn:MainThread fn:write8     Wrote 0x01 to register 0x09\n"
     ]
    },
    {
     "name": "stdout",
     "output_type": "stream",
     "text": [
      "('control: ', 3)\n"
     ]
    },
    {
     "name": "stderr",
     "output_type": "stream",
     "text": [
      "[DEBUG] time:1496114608.53796506 pid:28091 pn:Process-2  tid:1996107776 tn:MainThread fn:write8     Wrote 0x00 to register 0x06\n",
      "[DEBUG] time:1496114608.54218006 pid:28091 pn:Process-2  tid:1996107776 tn:MainThread fn:write8     Wrote 0x00 to register 0x07\n",
      "[DEBUG] time:1496114608.54650593 pid:28091 pn:Process-2  tid:1996107776 tn:MainThread fn:write8     Wrote 0xA4 to register 0x08\n",
      "[DEBUG] time:1496114608.55071807 pid:28091 pn:Process-2  tid:1996107776 tn:MainThread fn:write8     Wrote 0x01 to register 0x09\n"
     ]
    },
    {
     "name": "stdout",
     "output_type": "stream",
     "text": [
      "('control: ', 3)\n"
     ]
    },
    {
     "name": "stderr",
     "output_type": "stream",
     "text": [
      "[DEBUG] time:1496114608.61230898 pid:28091 pn:Process-2  tid:1996107776 tn:MainThread fn:write8     Wrote 0x00 to register 0x06\n",
      "[DEBUG] time:1496114608.61650801 pid:28091 pn:Process-2  tid:1996107776 tn:MainThread fn:write8     Wrote 0x00 to register 0x07\n",
      "[DEBUG] time:1496114608.62064910 pid:28091 pn:Process-2  tid:1996107776 tn:MainThread fn:write8     Wrote 0xA4 to register 0x08\n",
      "[DEBUG] time:1496114608.62493801 pid:28091 pn:Process-2  tid:1996107776 tn:MainThread fn:write8     Wrote 0x01 to register 0x09\n"
     ]
    },
    {
     "name": "stdout",
     "output_type": "stream",
     "text": [
      "('control: ', 3)\n"
     ]
    },
    {
     "name": "stderr",
     "output_type": "stream",
     "text": [
      "[DEBUG] time:1496114608.68482709 pid:28091 pn:Process-2  tid:1996107776 tn:MainThread fn:write8     Wrote 0x00 to register 0x06\n",
      "[DEBUG] time:1496114608.68906903 pid:28091 pn:Process-2  tid:1996107776 tn:MainThread fn:write8     Wrote 0x00 to register 0x07\n",
      "[DEBUG] time:1496114608.69426489 pid:28091 pn:Process-2  tid:1996107776 tn:MainThread fn:write8     Wrote 0xA4 to register 0x08\n",
      "[DEBUG] time:1496114608.69841790 pid:28091 pn:Process-2  tid:1996107776 tn:MainThread fn:write8     Wrote 0x01 to register 0x09\n"
     ]
    },
    {
     "name": "stdout",
     "output_type": "stream",
     "text": [
      "('control: ', 3)\n"
     ]
    },
    {
     "name": "stderr",
     "output_type": "stream",
     "text": [
      "[DEBUG] time:1496114608.75960588 pid:28091 pn:Process-2  tid:1996107776 tn:MainThread fn:write8     Wrote 0x00 to register 0x06\n",
      "[DEBUG] time:1496114608.77327895 pid:28091 pn:Process-2  tid:1996107776 tn:MainThread fn:write8     Wrote 0x00 to register 0x07\n",
      "[DEBUG] time:1496114608.77902794 pid:28091 pn:Process-2  tid:1996107776 tn:MainThread fn:write8     Wrote 0xA4 to register 0x08\n",
      "[DEBUG] time:1496114608.78350091 pid:28091 pn:Process-2  tid:1996107776 tn:MainThread fn:write8     Wrote 0x01 to register 0x09\n"
     ]
    },
    {
     "name": "stdout",
     "output_type": "stream",
     "text": [
      "('control: ', 3)\n"
     ]
    },
    {
     "name": "stderr",
     "output_type": "stream",
     "text": [
      "[DEBUG] time:1496114608.84528589 pid:28091 pn:Process-2  tid:1996107776 tn:MainThread fn:write8     Wrote 0x00 to register 0x06\n",
      "[DEBUG] time:1496114608.85105801 pid:28091 pn:Process-2  tid:1996107776 tn:MainThread fn:write8     Wrote 0x00 to register 0x07\n",
      "[DEBUG] time:1496114608.85547709 pid:28091 pn:Process-2  tid:1996107776 tn:MainThread fn:write8     Wrote 0xA4 to register 0x08\n",
      "[DEBUG] time:1496114608.85980701 pid:28091 pn:Process-2  tid:1996107776 tn:MainThread fn:write8     Wrote 0x01 to register 0x09\n"
     ]
    },
    {
     "name": "stdout",
     "output_type": "stream",
     "text": [
      "('control: ', 3)\n"
     ]
    },
    {
     "name": "stderr",
     "output_type": "stream",
     "text": [
      "[DEBUG] time:1496114608.92047000 pid:28091 pn:Process-2  tid:1996107776 tn:MainThread fn:write8     Wrote 0x00 to register 0x06\n",
      "[DEBUG] time:1496114608.92532492 pid:28091 pn:Process-2  tid:1996107776 tn:MainThread fn:write8     Wrote 0x00 to register 0x07\n",
      "[DEBUG] time:1496114608.93139291 pid:28091 pn:Process-2  tid:1996107776 tn:MainThread fn:write8     Wrote 0xA4 to register 0x08\n",
      "[DEBUG] time:1496114608.93623304 pid:28091 pn:Process-2  tid:1996107776 tn:MainThread fn:write8     Wrote 0x01 to register 0x09\n"
     ]
    },
    {
     "name": "stdout",
     "output_type": "stream",
     "text": [
      "('control: ', 3)\n"
     ]
    },
    {
     "name": "stderr",
     "output_type": "stream",
     "text": [
      "[DEBUG] time:1496114609.00169110 pid:28091 pn:Process-2  tid:1996107776 tn:MainThread fn:write8     Wrote 0x00 to register 0x06\n",
      "[DEBUG] time:1496114609.01340389 pid:28091 pn:Process-2  tid:1996107776 tn:MainThread fn:write8     Wrote 0x00 to register 0x07\n",
      "[DEBUG] time:1496114609.01844001 pid:28091 pn:Process-2  tid:1996107776 tn:MainThread fn:write8     Wrote 0xA4 to register 0x08\n",
      "[DEBUG] time:1496114609.02842808 pid:28091 pn:Process-2  tid:1996107776 tn:MainThread fn:write8     Wrote 0x01 to register 0x09\n"
     ]
    },
    {
     "name": "stdout",
     "output_type": "stream",
     "text": [
      "('control: ', 3)\n"
     ]
    },
    {
     "name": "stderr",
     "output_type": "stream",
     "text": [
      "[DEBUG] time:1496114609.08887601 pid:28091 pn:Process-2  tid:1996107776 tn:MainThread fn:write8     Wrote 0x00 to register 0x06\n",
      "[DEBUG] time:1496114609.09349298 pid:28091 pn:Process-2  tid:1996107776 tn:MainThread fn:write8     Wrote 0x00 to register 0x07\n",
      "[DEBUG] time:1496114609.10422707 pid:28091 pn:Process-2  tid:1996107776 tn:MainThread fn:write8     Wrote 0xA4 to register 0x08\n",
      "[DEBUG] time:1496114609.10851598 pid:28091 pn:Process-2  tid:1996107776 tn:MainThread fn:write8     Wrote 0x01 to register 0x09\n"
     ]
    },
    {
     "name": "stdout",
     "output_type": "stream",
     "text": [
      "('control: ', 3)\n"
     ]
    },
    {
     "name": "stderr",
     "output_type": "stream",
     "text": [
      "[DEBUG] time:1496114609.16920209 pid:28091 pn:Process-2  tid:1996107776 tn:MainThread fn:write8     Wrote 0x00 to register 0x06\n",
      "[DEBUG] time:1496114609.17568493 pid:28091 pn:Process-2  tid:1996107776 tn:MainThread fn:write8     Wrote 0x00 to register 0x07\n",
      "[DEBUG] time:1496114609.18024993 pid:28091 pn:Process-2  tid:1996107776 tn:MainThread fn:write8     Wrote 0xA4 to register 0x08\n",
      "[DEBUG] time:1496114609.18565202 pid:28091 pn:Process-2  tid:1996107776 tn:MainThread fn:write8     Wrote 0x01 to register 0x09\n"
     ]
    },
    {
     "name": "stdout",
     "output_type": "stream",
     "text": [
      "('control: ', 2)\n"
     ]
    },
    {
     "name": "stderr",
     "output_type": "stream",
     "text": [
      "[DEBUG] time:1496114609.25364399 pid:28091 pn:Process-2  tid:1996107776 tn:MainThread fn:write8     Wrote 0x00 to register 0x06\n",
      "[DEBUG] time:1496114609.25788307 pid:28091 pn:Process-2  tid:1996107776 tn:MainThread fn:write8     Wrote 0x00 to register 0x07\n",
      "[DEBUG] time:1496114609.26324105 pid:28091 pn:Process-2  tid:1996107776 tn:MainThread fn:write8     Wrote 0x77 to register 0x08\n",
      "[DEBUG] time:1496114609.26864409 pid:28091 pn:Process-2  tid:1996107776 tn:MainThread fn:write8     Wrote 0x01 to register 0x09\n"
     ]
    },
    {
     "name": "stdout",
     "output_type": "stream",
     "text": [
      "('control: ', 2)\n"
     ]
    },
    {
     "name": "stderr",
     "output_type": "stream",
     "text": [
      "[DEBUG] time:1496114609.33063197 pid:28091 pn:Process-2  tid:1996107776 tn:MainThread fn:write8     Wrote 0x00 to register 0x06\n",
      "[DEBUG] time:1496114609.33554006 pid:28091 pn:Process-2  tid:1996107776 tn:MainThread fn:write8     Wrote 0x00 to register 0x07\n",
      "[DEBUG] time:1496114609.34002900 pid:28091 pn:Process-2  tid:1996107776 tn:MainThread fn:write8     Wrote 0x77 to register 0x08\n",
      "[DEBUG] time:1496114609.34534907 pid:28091 pn:Process-2  tid:1996107776 tn:MainThread fn:write8     Wrote 0x01 to register 0x09\n"
     ]
    },
    {
     "name": "stdout",
     "output_type": "stream",
     "text": [
      "('control: ', 2)\n"
     ]
    },
    {
     "name": "stderr",
     "output_type": "stream",
     "text": [
      "[DEBUG] time:1496114609.40569592 pid:28091 pn:Process-2  tid:1996107776 tn:MainThread fn:write8     Wrote 0x00 to register 0x06\n",
      "[DEBUG] time:1496114609.41002893 pid:28091 pn:Process-2  tid:1996107776 tn:MainThread fn:write8     Wrote 0x00 to register 0x07\n",
      "[DEBUG] time:1496114609.41540599 pid:28091 pn:Process-2  tid:1996107776 tn:MainThread fn:write8     Wrote 0x77 to register 0x08\n",
      "[DEBUG] time:1496114609.42063308 pid:28091 pn:Process-2  tid:1996107776 tn:MainThread fn:write8     Wrote 0x01 to register 0x09\n"
     ]
    },
    {
     "name": "stdout",
     "output_type": "stream",
     "text": [
      "('control: ', 2)\n"
     ]
    },
    {
     "name": "stderr",
     "output_type": "stream",
     "text": [
      "[DEBUG] time:1496114609.48092794 pid:28091 pn:Process-2  tid:1996107776 tn:MainThread fn:write8     Wrote 0x00 to register 0x06\n",
      "[DEBUG] time:1496114609.48533010 pid:28091 pn:Process-2  tid:1996107776 tn:MainThread fn:write8     Wrote 0x00 to register 0x07\n",
      "[DEBUG] time:1496114609.49015188 pid:28091 pn:Process-2  tid:1996107776 tn:MainThread fn:write8     Wrote 0x77 to register 0x08\n",
      "[DEBUG] time:1496114609.49556994 pid:28091 pn:Process-2  tid:1996107776 tn:MainThread fn:write8     Wrote 0x01 to register 0x09\n"
     ]
    },
    {
     "name": "stdout",
     "output_type": "stream",
     "text": [
      "('control: ', 2)\n"
     ]
    },
    {
     "name": "stderr",
     "output_type": "stream",
     "text": [
      "[DEBUG] time:1496114609.55626702 pid:28091 pn:Process-2  tid:1996107776 tn:MainThread fn:write8     Wrote 0x00 to register 0x06\n",
      "[DEBUG] time:1496114609.56072497 pid:28091 pn:Process-2  tid:1996107776 tn:MainThread fn:write8     Wrote 0x00 to register 0x07\n",
      "[DEBUG] time:1496114609.56699705 pid:28091 pn:Process-2  tid:1996107776 tn:MainThread fn:write8     Wrote 0x77 to register 0x08\n",
      "[DEBUG] time:1496114609.57119203 pid:28091 pn:Process-2  tid:1996107776 tn:MainThread fn:write8     Wrote 0x01 to register 0x09\n"
     ]
    },
    {
     "name": "stdout",
     "output_type": "stream",
     "text": [
      "('control: ', 2)\n"
     ]
    },
    {
     "name": "stderr",
     "output_type": "stream",
     "text": [
      "[DEBUG] time:1496114609.63227296 pid:28091 pn:Process-2  tid:1996107776 tn:MainThread fn:write8     Wrote 0x00 to register 0x06\n",
      "[DEBUG] time:1496114609.63761592 pid:28091 pn:Process-2  tid:1996107776 tn:MainThread fn:write8     Wrote 0x00 to register 0x07\n",
      "[DEBUG] time:1496114609.64216208 pid:28091 pn:Process-2  tid:1996107776 tn:MainThread fn:write8     Wrote 0x77 to register 0x08\n",
      "[DEBUG] time:1496114609.64750695 pid:28091 pn:Process-2  tid:1996107776 tn:MainThread fn:write8     Wrote 0x01 to register 0x09\n"
     ]
    },
    {
     "name": "stdout",
     "output_type": "stream",
     "text": [
      "('control: ', 2)\n"
     ]
    },
    {
     "name": "stderr",
     "output_type": "stream",
     "text": [
      "[DEBUG] time:1496114609.70938301 pid:28091 pn:Process-2  tid:1996107776 tn:MainThread fn:write8     Wrote 0x00 to register 0x06\n",
      "[DEBUG] time:1496114609.71520710 pid:28091 pn:Process-2  tid:1996107776 tn:MainThread fn:write8     Wrote 0x00 to register 0x07\n",
      "[DEBUG] time:1496114609.71950102 pid:28091 pn:Process-2  tid:1996107776 tn:MainThread fn:write8     Wrote 0x77 to register 0x08\n",
      "[DEBUG] time:1496114609.72422600 pid:28091 pn:Process-2  tid:1996107776 tn:MainThread fn:write8     Wrote 0x01 to register 0x09\n"
     ]
    },
    {
     "name": "stdout",
     "output_type": "stream",
     "text": [
      "('control: ', 2)\n"
     ]
    },
    {
     "name": "stderr",
     "output_type": "stream",
     "text": [
      "[DEBUG] time:1496114609.78520799 pid:28091 pn:Process-2  tid:1996107776 tn:MainThread fn:write8     Wrote 0x00 to register 0x06\n",
      "[DEBUG] time:1496114609.78953695 pid:28091 pn:Process-2  tid:1996107776 tn:MainThread fn:write8     Wrote 0x00 to register 0x07\n",
      "[DEBUG] time:1496114609.79440904 pid:28091 pn:Process-2  tid:1996107776 tn:MainThread fn:write8     Wrote 0x77 to register 0x08\n",
      "[DEBUG] time:1496114609.79910707 pid:28091 pn:Process-2  tid:1996107776 tn:MainThread fn:write8     Wrote 0x01 to register 0x09\n"
     ]
    },
    {
     "name": "stdout",
     "output_type": "stream",
     "text": [
      "('control: ', 2)\n"
     ]
    },
    {
     "name": "stderr",
     "output_type": "stream",
     "text": [
      "[DEBUG] time:1496114609.86158609 pid:28091 pn:Process-2  tid:1996107776 tn:MainThread fn:write8     Wrote 0x00 to register 0x06\n",
      "[DEBUG] time:1496114609.86691594 pid:28091 pn:Process-2  tid:1996107776 tn:MainThread fn:write8     Wrote 0x00 to register 0x07\n",
      "[DEBUG] time:1496114609.87250996 pid:28091 pn:Process-2  tid:1996107776 tn:MainThread fn:write8     Wrote 0x77 to register 0x08\n",
      "[DEBUG] time:1496114609.87846494 pid:28091 pn:Process-2  tid:1996107776 tn:MainThread fn:write8     Wrote 0x01 to register 0x09\n"
     ]
    },
    {
     "name": "stdout",
     "output_type": "stream",
     "text": [
      "('control: ', 2)\n"
     ]
    },
    {
     "name": "stderr",
     "output_type": "stream",
     "text": [
      "[DEBUG] time:1496114609.93926907 pid:28091 pn:Process-2  tid:1996107776 tn:MainThread fn:write8     Wrote 0x00 to register 0x06\n",
      "[DEBUG] time:1496114609.94415903 pid:28091 pn:Process-2  tid:1996107776 tn:MainThread fn:write8     Wrote 0x00 to register 0x07\n",
      "[DEBUG] time:1496114609.94983196 pid:28091 pn:Process-2  tid:1996107776 tn:MainThread fn:write8     Wrote 0x77 to register 0x08\n",
      "[DEBUG] time:1496114609.95468092 pid:28091 pn:Process-2  tid:1996107776 tn:MainThread fn:write8     Wrote 0x01 to register 0x09\n"
     ]
    },
    {
     "name": "stdout",
     "output_type": "stream",
     "text": [
      "('control: ', 1)\n"
     ]
    },
    {
     "name": "stderr",
     "output_type": "stream",
     "text": [
      "[DEBUG] time:1496114610.01603389 pid:28091 pn:Process-2  tid:1996107776 tn:MainThread fn:write8     Wrote 0x00 to register 0x06\n",
      "[DEBUG] time:1496114610.02197790 pid:28091 pn:Process-2  tid:1996107776 tn:MainThread fn:write8     Wrote 0x00 to register 0x07\n",
      "[DEBUG] time:1496114610.02800298 pid:28091 pn:Process-2  tid:1996107776 tn:MainThread fn:write8     Wrote 0x4A to register 0x08\n",
      "[DEBUG] time:1496114610.03450203 pid:28091 pn:Process-2  tid:1996107776 tn:MainThread fn:write8     Wrote 0x01 to register 0x09\n",
      "[DEBUG] time:1496114610.04657412 pid:28091 pn:Process-2  tid:1996107776 tn:MainThread fn:write8     Wrote 0x00 to register 0x06\n",
      "[DEBUG] time:1496114610.05221796 pid:28091 pn:Process-2  tid:1996107776 tn:MainThread fn:write8     Wrote 0x00 to register 0x07\n",
      "[DEBUG] time:1496114610.05787706 pid:28091 pn:Process-2  tid:1996107776 tn:MainThread fn:write8     Wrote 0x77 to register 0x08\n",
      "[DEBUG] time:1496114610.06481910 pid:28091 pn:Process-2  tid:1996107776 tn:MainThread fn:write8     Wrote 0x01 to register 0x09\n"
     ]
    },
    {
     "name": "stdout",
     "output_type": "stream",
     "text": [
      "('control: ', 1)\n"
     ]
    },
    {
     "name": "stderr",
     "output_type": "stream",
     "text": [
      "[DEBUG] time:1496114610.12658906 pid:28091 pn:Process-2  tid:1996107776 tn:MainThread fn:write8     Wrote 0x00 to register 0x06\n",
      "[DEBUG] time:1496114610.13097501 pid:28091 pn:Process-2  tid:1996107776 tn:MainThread fn:write8     Wrote 0x00 to register 0x07\n",
      "[DEBUG] time:1496114610.13639307 pid:28091 pn:Process-2  tid:1996107776 tn:MainThread fn:write8     Wrote 0x4A to register 0x08\n",
      "[DEBUG] time:1496114610.14124703 pid:28091 pn:Process-2  tid:1996107776 tn:MainThread fn:write8     Wrote 0x01 to register 0x09\n"
     ]
    },
    {
     "name": "stdout",
     "output_type": "stream",
     "text": [
      "('control: ', 1)\n"
     ]
    },
    {
     "name": "stderr",
     "output_type": "stream",
     "text": [
      "[DEBUG] time:1496114610.20250297 pid:28091 pn:Process-2  tid:1996107776 tn:MainThread fn:write8     Wrote 0x00 to register 0x06\n",
      "[DEBUG] time:1496114610.20690894 pid:28091 pn:Process-2  tid:1996107776 tn:MainThread fn:write8     Wrote 0x00 to register 0x07\n",
      "[DEBUG] time:1496114610.21170497 pid:28091 pn:Process-2  tid:1996107776 tn:MainThread fn:write8     Wrote 0x4A to register 0x08\n",
      "[DEBUG] time:1496114610.21619892 pid:28091 pn:Process-2  tid:1996107776 tn:MainThread fn:write8     Wrote 0x01 to register 0x09\n"
     ]
    },
    {
     "name": "stdout",
     "output_type": "stream",
     "text": [
      "('control: ', 1)\n"
     ]
    },
    {
     "name": "stderr",
     "output_type": "stream",
     "text": [
      "[DEBUG] time:1496114610.28389502 pid:28091 pn:Process-2  tid:1996107776 tn:MainThread fn:write8     Wrote 0x00 to register 0x06\n",
      "[DEBUG] time:1496114610.28908610 pid:28091 pn:Process-2  tid:1996107776 tn:MainThread fn:write8     Wrote 0x00 to register 0x07\n",
      "[DEBUG] time:1496114610.29453492 pid:28091 pn:Process-2  tid:1996107776 tn:MainThread fn:write8     Wrote 0x4A to register 0x08\n",
      "[DEBUG] time:1496114610.29880309 pid:28091 pn:Process-2  tid:1996107776 tn:MainThread fn:write8     Wrote 0x01 to register 0x09\n"
     ]
    },
    {
     "name": "stdout",
     "output_type": "stream",
     "text": [
      "('control: ', 1)\n"
     ]
    },
    {
     "name": "stderr",
     "output_type": "stream",
     "text": [
      "[DEBUG] time:1496114610.36001992 pid:28091 pn:Process-2  tid:1996107776 tn:MainThread fn:write8     Wrote 0x00 to register 0x06\n",
      "[DEBUG] time:1496114610.36540890 pid:28091 pn:Process-2  tid:1996107776 tn:MainThread fn:write8     Wrote 0x00 to register 0x07\n",
      "[DEBUG] time:1496114610.36966109 pid:28091 pn:Process-2  tid:1996107776 tn:MainThread fn:write8     Wrote 0x4A to register 0x08\n",
      "[DEBUG] time:1496114610.37516093 pid:28091 pn:Process-2  tid:1996107776 tn:MainThread fn:write8     Wrote 0x01 to register 0x09\n"
     ]
    },
    {
     "name": "stdout",
     "output_type": "stream",
     "text": [
      "('control: ', 1)\n"
     ]
    },
    {
     "name": "stderr",
     "output_type": "stream",
     "text": [
      "[DEBUG] time:1496114610.43623209 pid:28091 pn:Process-2  tid:1996107776 tn:MainThread fn:write8     Wrote 0x00 to register 0x06\n",
      "[DEBUG] time:1496114610.44061995 pid:28091 pn:Process-2  tid:1996107776 tn:MainThread fn:write8     Wrote 0x00 to register 0x07\n",
      "[DEBUG] time:1496114610.44541192 pid:28091 pn:Process-2  tid:1996107776 tn:MainThread fn:write8     Wrote 0x4A to register 0x08\n",
      "[DEBUG] time:1496114610.45065308 pid:28091 pn:Process-2  tid:1996107776 tn:MainThread fn:write8     Wrote 0x01 to register 0x09\n"
     ]
    },
    {
     "name": "stdout",
     "output_type": "stream",
     "text": [
      "('control: ', 1)\n"
     ]
    },
    {
     "name": "stderr",
     "output_type": "stream",
     "text": [
      "[DEBUG] time:1496114610.51135206 pid:28091 pn:Process-2  tid:1996107776 tn:MainThread fn:write8     Wrote 0x00 to register 0x06\n",
      "[DEBUG] time:1496114610.51673698 pid:28091 pn:Process-2  tid:1996107776 tn:MainThread fn:write8     Wrote 0x00 to register 0x07\n",
      "[DEBUG] time:1496114610.52135491 pid:28091 pn:Process-2  tid:1996107776 tn:MainThread fn:write8     Wrote 0x4A to register 0x08\n",
      "[DEBUG] time:1496114610.52671289 pid:28091 pn:Process-2  tid:1996107776 tn:MainThread fn:write8     Wrote 0x01 to register 0x09\n"
     ]
    },
    {
     "name": "stdout",
     "output_type": "stream",
     "text": [
      "('control: ', 1)\n"
     ]
    },
    {
     "name": "stderr",
     "output_type": "stream",
     "text": [
      "[DEBUG] time:1496114610.58840704 pid:28091 pn:Process-2  tid:1996107776 tn:MainThread fn:write8     Wrote 0x00 to register 0x06\n",
      "[DEBUG] time:1496114610.59372497 pid:28091 pn:Process-2  tid:1996107776 tn:MainThread fn:write8     Wrote 0x00 to register 0x07\n",
      "[DEBUG] time:1496114610.59913898 pid:28091 pn:Process-2  tid:1996107776 tn:MainThread fn:write8     Wrote 0x4A to register 0x08\n",
      "[DEBUG] time:1496114610.60454988 pid:28091 pn:Process-2  tid:1996107776 tn:MainThread fn:write8     Wrote 0x01 to register 0x09\n"
     ]
    },
    {
     "name": "stdout",
     "output_type": "stream",
     "text": [
      "('control: ', 1)\n"
     ]
    },
    {
     "name": "stderr",
     "output_type": "stream",
     "text": [
      "[DEBUG] time:1496114610.66717505 pid:28091 pn:Process-2  tid:1996107776 tn:MainThread fn:write8     Wrote 0x00 to register 0x06\n",
      "[DEBUG] time:1496114610.67248702 pid:28091 pn:Process-2  tid:1996107776 tn:MainThread fn:write8     Wrote 0x00 to register 0x07\n",
      "[DEBUG] time:1496114610.67783904 pid:28091 pn:Process-2  tid:1996107776 tn:MainThread fn:write8     Wrote 0x4A to register 0x08\n",
      "[DEBUG] time:1496114610.68347001 pid:28091 pn:Process-2  tid:1996107776 tn:MainThread fn:write8     Wrote 0x01 to register 0x09\n"
     ]
    },
    {
     "name": "stdout",
     "output_type": "stream",
     "text": [
      "('control: ', 1)\n"
     ]
    },
    {
     "name": "stderr",
     "output_type": "stream",
     "text": [
      "[DEBUG] time:1496114610.74518108 pid:28091 pn:Process-2  tid:1996107776 tn:MainThread fn:write8     Wrote 0x00 to register 0x06\n",
      "[DEBUG] time:1496114610.75051093 pid:28091 pn:Process-2  tid:1996107776 tn:MainThread fn:write8     Wrote 0x00 to register 0x07\n",
      "[DEBUG] time:1496114610.75621510 pid:28091 pn:Process-2  tid:1996107776 tn:MainThread fn:write8     Wrote 0x4A to register 0x08\n",
      "[DEBUG] time:1496114610.76108003 pid:28091 pn:Process-2  tid:1996107776 tn:MainThread fn:write8     Wrote 0x01 to register 0x09\n"
     ]
    },
    {
     "name": "stdout",
     "output_type": "stream",
     "text": [
      "('control: ', 1)\n"
     ]
    },
    {
     "name": "stderr",
     "output_type": "stream",
     "text": [
      "[DEBUG] time:1496114610.82189989 pid:28091 pn:Process-2  tid:1996107776 tn:MainThread fn:write8     Wrote 0x00 to register 0x06\n",
      "[DEBUG] time:1496114610.82630897 pid:28091 pn:Process-2  tid:1996107776 tn:MainThread fn:write8     Wrote 0x00 to register 0x07\n",
      "[DEBUG] time:1496114610.83157992 pid:28091 pn:Process-2  tid:1996107776 tn:MainThread fn:write8     Wrote 0x4A to register 0x08\n",
      "[DEBUG] time:1496114610.83644891 pid:28091 pn:Process-2  tid:1996107776 tn:MainThread fn:write8     Wrote 0x01 to register 0x09\n"
     ]
    },
    {
     "name": "stdout",
     "output_type": "stream",
     "text": [
      "('control: ', 1)\n"
     ]
    },
    {
     "name": "stderr",
     "output_type": "stream",
     "text": [
      "[DEBUG] time:1496114610.89806390 pid:28091 pn:Process-2  tid:1996107776 tn:MainThread fn:write8     Wrote 0x00 to register 0x06\n",
      "[DEBUG] time:1496114610.90337396 pid:28091 pn:Process-2  tid:1996107776 tn:MainThread fn:write8     Wrote 0x00 to register 0x07\n",
      "[DEBUG] time:1496114610.90801191 pid:28091 pn:Process-2  tid:1996107776 tn:MainThread fn:write8     Wrote 0x4A to register 0x08\n",
      "[DEBUG] time:1496114610.91365099 pid:28091 pn:Process-2  tid:1996107776 tn:MainThread fn:write8     Wrote 0x01 to register 0x09\n"
     ]
    },
    {
     "name": "stdout",
     "output_type": "stream",
     "text": [
      "('control: ', 1)\n"
     ]
    },
    {
     "name": "stderr",
     "output_type": "stream",
     "text": [
      "[DEBUG] time:1496114610.97531605 pid:28091 pn:Process-2  tid:1996107776 tn:MainThread fn:write8     Wrote 0x00 to register 0x06\n",
      "[DEBUG] time:1496114610.97971511 pid:28091 pn:Process-2  tid:1996107776 tn:MainThread fn:write8     Wrote 0x00 to register 0x07\n",
      "[DEBUG] time:1496114610.98573804 pid:28091 pn:Process-2  tid:1996107776 tn:MainThread fn:write8     Wrote 0x4A to register 0x08\n",
      "[DEBUG] time:1496114610.99132800 pid:28091 pn:Process-2  tid:1996107776 tn:MainThread fn:write8     Wrote 0x01 to register 0x09\n"
     ]
    },
    {
     "name": "stdout",
     "output_type": "stream",
     "text": [
      "('control: ', 1)\n"
     ]
    },
    {
     "name": "stderr",
     "output_type": "stream",
     "text": [
      "[DEBUG] time:1496114611.05280709 pid:28091 pn:Process-2  tid:1996107776 tn:MainThread fn:write8     Wrote 0x00 to register 0x06\n",
      "[DEBUG] time:1496114611.05814695 pid:28091 pn:Process-2  tid:1996107776 tn:MainThread fn:write8     Wrote 0x00 to register 0x07\n",
      "[DEBUG] time:1496114611.06491303 pid:28091 pn:Process-2  tid:1996107776 tn:MainThread fn:write8     Wrote 0x4A to register 0x08\n",
      "[DEBUG] time:1496114611.07050705 pid:28091 pn:Process-2  tid:1996107776 tn:MainThread fn:write8     Wrote 0x01 to register 0x09\n"
     ]
    },
    {
     "name": "stdout",
     "output_type": "stream",
     "text": [
      "('control: ', 1)\n"
     ]
    },
    {
     "name": "stderr",
     "output_type": "stream",
     "text": [
      "[DEBUG] time:1496114611.13274002 pid:28091 pn:Process-2  tid:1996107776 tn:MainThread fn:write8     Wrote 0x00 to register 0x06\n",
      "[DEBUG] time:1496114611.13812709 pid:28091 pn:Process-2  tid:1996107776 tn:MainThread fn:write8     Wrote 0x00 to register 0x07\n",
      "[DEBUG] time:1496114611.14367294 pid:28091 pn:Process-2  tid:1996107776 tn:MainThread fn:write8     Wrote 0x4A to register 0x08\n",
      "[DEBUG] time:1496114611.14933491 pid:28091 pn:Process-2  tid:1996107776 tn:MainThread fn:write8     Wrote 0x01 to register 0x09\n"
     ]
    },
    {
     "name": "stdout",
     "output_type": "stream",
     "text": [
      "('control: ', 1)\n"
     ]
    },
    {
     "name": "stderr",
     "output_type": "stream",
     "text": [
      "[DEBUG] time:1496114611.21623206 pid:28091 pn:Process-2  tid:1996107776 tn:MainThread fn:write8     Wrote 0x00 to register 0x06\n",
      "[DEBUG] time:1496114611.22146010 pid:28091 pn:Process-2  tid:1996107776 tn:MainThread fn:write8     Wrote 0x00 to register 0x07\n",
      "[DEBUG] time:1496114611.22711706 pid:28091 pn:Process-2  tid:1996107776 tn:MainThread fn:write8     Wrote 0x4A to register 0x08\n",
      "[DEBUG] time:1496114611.23156309 pid:28091 pn:Process-2  tid:1996107776 tn:MainThread fn:write8     Wrote 0x01 to register 0x09\n",
      "[DEBUG] time:1496114611.23728609 pid:28091 pn:Process-2  tid:1996107776 tn:MainThread fn:write8     Wrote 0x00 to register 0x06\n",
      "[DEBUG] time:1496114611.24161291 pid:28091 pn:Process-2  tid:1996107776 tn:MainThread fn:write8     Wrote 0x00 to register 0x07\n",
      "[DEBUG] time:1496114611.24596095 pid:28091 pn:Process-2  tid:1996107776 tn:MainThread fn:write8     Wrote 0x77 to register 0x08\n",
      "[DEBUG] time:1496114611.25121307 pid:28091 pn:Process-2  tid:1996107776 tn:MainThread fn:write8     Wrote 0x01 to register 0x09\n"
     ]
    },
    {
     "name": "stdout",
     "output_type": "stream",
     "text": [
      "('control: ', 2)\n"
     ]
    },
    {
     "name": "stderr",
     "output_type": "stream",
     "text": [
      "[DEBUG] time:1496114611.31159592 pid:28091 pn:Process-2  tid:1996107776 tn:MainThread fn:write8     Wrote 0x00 to register 0x06\n",
      "[DEBUG] time:1496114611.31600094 pid:28091 pn:Process-2  tid:1996107776 tn:MainThread fn:write8     Wrote 0x00 to register 0x07\n",
      "[DEBUG] time:1496114611.32031703 pid:28091 pn:Process-2  tid:1996107776 tn:MainThread fn:write8     Wrote 0x77 to register 0x08\n",
      "[DEBUG] time:1496114611.32482505 pid:28091 pn:Process-2  tid:1996107776 tn:MainThread fn:write8     Wrote 0x01 to register 0x09\n"
     ]
    },
    {
     "name": "stdout",
     "output_type": "stream",
     "text": [
      "('control: ', 2)\n"
     ]
    },
    {
     "name": "stderr",
     "output_type": "stream",
     "text": [
      "[DEBUG] time:1496114611.38636899 pid:28091 pn:Process-2  tid:1996107776 tn:MainThread fn:write8     Wrote 0x00 to register 0x06\n",
      "[DEBUG] time:1496114611.39162803 pid:28091 pn:Process-2  tid:1996107776 tn:MainThread fn:write8     Wrote 0x00 to register 0x07\n",
      "[DEBUG] time:1496114611.39594889 pid:28091 pn:Process-2  tid:1996107776 tn:MainThread fn:write8     Wrote 0x77 to register 0x08\n",
      "[DEBUG] time:1496114611.40137410 pid:28091 pn:Process-2  tid:1996107776 tn:MainThread fn:write8     Wrote 0x01 to register 0x09\n"
     ]
    },
    {
     "name": "stdout",
     "output_type": "stream",
     "text": [
      "('control: ', 2)\n"
     ]
    },
    {
     "name": "stderr",
     "output_type": "stream",
     "text": [
      "[DEBUG] time:1496114611.46272612 pid:28091 pn:Process-2  tid:1996107776 tn:MainThread fn:write8     Wrote 0x00 to register 0x06\n",
      "[DEBUG] time:1496114611.46714211 pid:28091 pn:Process-2  tid:1996107776 tn:MainThread fn:write8     Wrote 0x00 to register 0x07\n",
      "[DEBUG] time:1496114611.47241306 pid:28091 pn:Process-2  tid:1996107776 tn:MainThread fn:write8     Wrote 0x77 to register 0x08\n",
      "[DEBUG] time:1496114611.47771406 pid:28091 pn:Process-2  tid:1996107776 tn:MainThread fn:write8     Wrote 0x01 to register 0x09\n"
     ]
    },
    {
     "name": "stdout",
     "output_type": "stream",
     "text": [
      "('control: ', 2)\n"
     ]
    },
    {
     "name": "stderr",
     "output_type": "stream",
     "text": [
      "[DEBUG] time:1496114611.53883004 pid:28091 pn:Process-2  tid:1996107776 tn:MainThread fn:write8     Wrote 0x00 to register 0x06\n",
      "[DEBUG] time:1496114611.54364896 pid:28091 pn:Process-2  tid:1996107776 tn:MainThread fn:write8     Wrote 0x00 to register 0x07\n",
      "[DEBUG] time:1496114611.54789710 pid:28091 pn:Process-2  tid:1996107776 tn:MainThread fn:write8     Wrote 0x77 to register 0x08\n",
      "[DEBUG] time:1496114611.55247498 pid:28091 pn:Process-2  tid:1996107776 tn:MainThread fn:write8     Wrote 0x01 to register 0x09\n"
     ]
    },
    {
     "name": "stdout",
     "output_type": "stream",
     "text": [
      "('control: ', 2)\n"
     ]
    },
    {
     "name": "stderr",
     "output_type": "stream",
     "text": [
      "[DEBUG] time:1496114611.61482096 pid:28091 pn:Process-2  tid:1996107776 tn:MainThread fn:write8     Wrote 0x00 to register 0x06\n",
      "[DEBUG] time:1496114611.61941099 pid:28091 pn:Process-2  tid:1996107776 tn:MainThread fn:write8     Wrote 0x00 to register 0x07\n",
      "[DEBUG] time:1496114611.62375808 pid:28091 pn:Process-2  tid:1996107776 tn:MainThread fn:write8     Wrote 0x77 to register 0x08\n",
      "[DEBUG] time:1496114611.62904906 pid:28091 pn:Process-2  tid:1996107776 tn:MainThread fn:write8     Wrote 0x01 to register 0x09\n"
     ]
    },
    {
     "name": "stdout",
     "output_type": "stream",
     "text": [
      "('control: ', 2)\n"
     ]
    },
    {
     "name": "stderr",
     "output_type": "stream",
     "text": [
      "[DEBUG] time:1496114611.69103503 pid:28091 pn:Process-2  tid:1996107776 tn:MainThread fn:write8     Wrote 0x00 to register 0x06\n",
      "[DEBUG] time:1496114611.69629002 pid:28091 pn:Process-2  tid:1996107776 tn:MainThread fn:write8     Wrote 0x00 to register 0x07\n",
      "[DEBUG] time:1496114611.70055294 pid:28091 pn:Process-2  tid:1996107776 tn:MainThread fn:write8     Wrote 0x77 to register 0x08\n",
      "[DEBUG] time:1496114611.70489311 pid:28091 pn:Process-2  tid:1996107776 tn:MainThread fn:write8     Wrote 0x01 to register 0x09\n"
     ]
    },
    {
     "name": "stdout",
     "output_type": "stream",
     "text": [
      "('control: ', 2)\n"
     ]
    },
    {
     "name": "stderr",
     "output_type": "stream",
     "text": [
      "[DEBUG] time:1496114611.76688004 pid:28091 pn:Process-2  tid:1996107776 tn:MainThread fn:write8     Wrote 0x00 to register 0x06\n",
      "[DEBUG] time:1496114611.77113390 pid:28091 pn:Process-2  tid:1996107776 tn:MainThread fn:write8     Wrote 0x00 to register 0x07\n",
      "[DEBUG] time:1496114611.77619100 pid:28091 pn:Process-2  tid:1996107776 tn:MainThread fn:write8     Wrote 0x77 to register 0x08\n",
      "[DEBUG] time:1496114611.78099799 pid:28091 pn:Process-2  tid:1996107776 tn:MainThread fn:write8     Wrote 0x01 to register 0x09\n"
     ]
    },
    {
     "name": "stdout",
     "output_type": "stream",
     "text": [
      "('control: ', 2)\n"
     ]
    },
    {
     "name": "stderr",
     "output_type": "stream",
     "text": [
      "[DEBUG] time:1496114611.84174800 pid:28091 pn:Process-2  tid:1996107776 tn:MainThread fn:write8     Wrote 0x00 to register 0x06\n",
      "[DEBUG] time:1496114611.84708309 pid:28091 pn:Process-2  tid:1996107776 tn:MainThread fn:write8     Wrote 0x00 to register 0x07\n",
      "[DEBUG] time:1496114611.85137200 pid:28091 pn:Process-2  tid:1996107776 tn:MainThread fn:write8     Wrote 0x77 to register 0x08\n",
      "[DEBUG] time:1496114611.85705400 pid:28091 pn:Process-2  tid:1996107776 tn:MainThread fn:write8     Wrote 0x01 to register 0x09\n"
     ]
    },
    {
     "name": "stdout",
     "output_type": "stream",
     "text": [
      "('control: ', 2)\n"
     ]
    },
    {
     "name": "stderr",
     "output_type": "stream",
     "text": [
      "[DEBUG] time:1496114611.91842890 pid:28091 pn:Process-2  tid:1996107776 tn:MainThread fn:write8     Wrote 0x00 to register 0x06\n",
      "[DEBUG] time:1496114611.92276692 pid:28091 pn:Process-2  tid:1996107776 tn:MainThread fn:write8     Wrote 0x00 to register 0x07\n",
      "[DEBUG] time:1496114611.92713094 pid:28091 pn:Process-2  tid:1996107776 tn:MainThread fn:write8     Wrote 0x77 to register 0x08\n",
      "[DEBUG] time:1496114611.93276191 pid:28091 pn:Process-2  tid:1996107776 tn:MainThread fn:write8     Wrote 0x01 to register 0x09\n"
     ]
    },
    {
     "name": "stdout",
     "output_type": "stream",
     "text": [
      "('control: ', 2)\n"
     ]
    },
    {
     "name": "stderr",
     "output_type": "stream",
     "text": [
      "[DEBUG] time:1496114611.99494410 pid:28091 pn:Process-2  tid:1996107776 tn:MainThread fn:write8     Wrote 0x00 to register 0x06\n",
      "[DEBUG] time:1496114612.00059795 pid:28091 pn:Process-2  tid:1996107776 tn:MainThread fn:write8     Wrote 0x00 to register 0x07\n",
      "[DEBUG] time:1496114612.00616288 pid:28091 pn:Process-2  tid:1996107776 tn:MainThread fn:write8     Wrote 0x77 to register 0x08\n",
      "[DEBUG] time:1496114612.01180601 pid:28091 pn:Process-2  tid:1996107776 tn:MainThread fn:write8     Wrote 0x01 to register 0x09\n"
     ]
    },
    {
     "name": "stdout",
     "output_type": "stream",
     "text": [
      "('control: ', 2)\n"
     ]
    },
    {
     "name": "stderr",
     "output_type": "stream",
     "text": [
      "[DEBUG] time:1496114612.07346892 pid:28091 pn:Process-2  tid:1996107776 tn:MainThread fn:write8     Wrote 0x00 to register 0x06\n",
      "[DEBUG] time:1496114612.07877588 pid:28091 pn:Process-2  tid:1996107776 tn:MainThread fn:write8     Wrote 0x00 to register 0x07\n",
      "[DEBUG] time:1496114612.08346009 pid:28091 pn:Process-2  tid:1996107776 tn:MainThread fn:write8     Wrote 0x77 to register 0x08\n",
      "[DEBUG] time:1496114612.08811903 pid:28091 pn:Process-2  tid:1996107776 tn:MainThread fn:write8     Wrote 0x01 to register 0x09\n"
     ]
    },
    {
     "name": "stdout",
     "output_type": "stream",
     "text": [
      "('control: ', 2)\n"
     ]
    },
    {
     "name": "stderr",
     "output_type": "stream",
     "text": [
      "[DEBUG] time:1496114612.15528607 pid:28091 pn:Process-2  tid:1996107776 tn:MainThread fn:write8     Wrote 0x00 to register 0x06\n",
      "[DEBUG] time:1496114612.16084909 pid:28091 pn:Process-2  tid:1996107776 tn:MainThread fn:write8     Wrote 0x00 to register 0x07\n",
      "[DEBUG] time:1496114612.17053509 pid:28091 pn:Process-2  tid:1996107776 tn:MainThread fn:write8     Wrote 0x77 to register 0x08\n",
      "[DEBUG] time:1496114612.17543697 pid:28091 pn:Process-2  tid:1996107776 tn:MainThread fn:write8     Wrote 0x01 to register 0x09\n"
     ]
    },
    {
     "name": "stdout",
     "output_type": "stream",
     "text": [
      "('control: ', 2)\n"
     ]
    },
    {
     "name": "stderr",
     "output_type": "stream",
     "text": [
      "[DEBUG] time:1496114612.24098611 pid:28091 pn:Process-2  tid:1996107776 tn:MainThread fn:write8     Wrote 0x00 to register 0x06\n",
      "[DEBUG] time:1496114612.24742794 pid:28091 pn:Process-2  tid:1996107776 tn:MainThread fn:write8     Wrote 0x00 to register 0x07\n",
      "[DEBUG] time:1496114612.25225091 pid:28091 pn:Process-2  tid:1996107776 tn:MainThread fn:write8     Wrote 0x77 to register 0x08\n",
      "[DEBUG] time:1496114612.25725889 pid:28091 pn:Process-2  tid:1996107776 tn:MainThread fn:write8     Wrote 0x01 to register 0x09\n"
     ]
    },
    {
     "name": "stdout",
     "output_type": "stream",
     "text": [
      "('control: ', 2)\n"
     ]
    },
    {
     "name": "stderr",
     "output_type": "stream",
     "text": [
      "[DEBUG] time:1496114612.31805801 pid:28091 pn:Process-2  tid:1996107776 tn:MainThread fn:write8     Wrote 0x00 to register 0x06\n",
      "[DEBUG] time:1496114612.32324791 pid:28091 pn:Process-2  tid:1996107776 tn:MainThread fn:write8     Wrote 0x00 to register 0x07\n",
      "[DEBUG] time:1496114612.32834411 pid:28091 pn:Process-2  tid:1996107776 tn:MainThread fn:write8     Wrote 0x77 to register 0x08\n",
      "[DEBUG] time:1496114612.33320689 pid:28091 pn:Process-2  tid:1996107776 tn:MainThread fn:write8     Wrote 0x01 to register 0x09\n"
     ]
    },
    {
     "name": "stdout",
     "output_type": "stream",
     "text": [
      "('control: ', 2)\n"
     ]
    },
    {
     "name": "stderr",
     "output_type": "stream",
     "text": [
      "[DEBUG] time:1496114612.39408112 pid:28091 pn:Process-2  tid:1996107776 tn:MainThread fn:write8     Wrote 0x00 to register 0x06\n",
      "[DEBUG] time:1496114612.39820695 pid:28091 pn:Process-2  tid:1996107776 tn:MainThread fn:write8     Wrote 0x00 to register 0x07\n",
      "[DEBUG] time:1496114612.40342093 pid:28091 pn:Process-2  tid:1996107776 tn:MainThread fn:write8     Wrote 0x77 to register 0x08\n",
      "[DEBUG] time:1496114612.40756702 pid:28091 pn:Process-2  tid:1996107776 tn:MainThread fn:write8     Wrote 0x01 to register 0x09\n"
     ]
    },
    {
     "name": "stdout",
     "output_type": "stream",
     "text": [
      "('control: ', 2)\n"
     ]
    },
    {
     "name": "stderr",
     "output_type": "stream",
     "text": [
      "[DEBUG] time:1496114612.46907902 pid:28091 pn:Process-2  tid:1996107776 tn:MainThread fn:write8     Wrote 0x00 to register 0x06\n",
      "[DEBUG] time:1496114612.47427201 pid:28091 pn:Process-2  tid:1996107776 tn:MainThread fn:write8     Wrote 0x00 to register 0x07\n",
      "[DEBUG] time:1496114612.47839308 pid:28091 pn:Process-2  tid:1996107776 tn:MainThread fn:write8     Wrote 0x77 to register 0x08\n",
      "[DEBUG] time:1496114612.48370790 pid:28091 pn:Process-2  tid:1996107776 tn:MainThread fn:write8     Wrote 0x01 to register 0x09\n"
     ]
    },
    {
     "name": "stdout",
     "output_type": "stream",
     "text": [
      "('control: ', 2)\n"
     ]
    },
    {
     "name": "stderr",
     "output_type": "stream",
     "text": [
      "[DEBUG] time:1496114612.54470491 pid:28091 pn:Process-2  tid:1996107776 tn:MainThread fn:write8     Wrote 0x00 to register 0x06\n",
      "[DEBUG] time:1496114612.54982710 pid:28091 pn:Process-2  tid:1996107776 tn:MainThread fn:write8     Wrote 0x00 to register 0x07\n",
      "[DEBUG] time:1496114612.55473089 pid:28091 pn:Process-2  tid:1996107776 tn:MainThread fn:write8     Wrote 0x77 to register 0x08\n",
      "[DEBUG] time:1496114612.55984712 pid:28091 pn:Process-2  tid:1996107776 tn:MainThread fn:write8     Wrote 0x01 to register 0x09\n"
     ]
    },
    {
     "name": "stdout",
     "output_type": "stream",
     "text": [
      "('control: ', 2)\n"
     ]
    },
    {
     "name": "stderr",
     "output_type": "stream",
     "text": [
      "[DEBUG] time:1496114612.62615705 pid:28091 pn:Process-2  tid:1996107776 tn:MainThread fn:write8     Wrote 0x00 to register 0x06\n",
      "[DEBUG] time:1496114612.63337111 pid:28091 pn:Process-2  tid:1996107776 tn:MainThread fn:write8     Wrote 0x00 to register 0x07\n",
      "[DEBUG] time:1496114612.64244008 pid:28091 pn:Process-2  tid:1996107776 tn:MainThread fn:write8     Wrote 0x77 to register 0x08\n",
      "[DEBUG] time:1496114612.65193796 pid:28091 pn:Process-2  tid:1996107776 tn:MainThread fn:write8     Wrote 0x01 to register 0x09\n"
     ]
    },
    {
     "name": "stdout",
     "output_type": "stream",
     "text": [
      "('control: ', 2)\n"
     ]
    },
    {
     "name": "stderr",
     "output_type": "stream",
     "text": [
      "[DEBUG] time:1496114612.71877098 pid:28091 pn:Process-2  tid:1996107776 tn:MainThread fn:write8     Wrote 0x00 to register 0x06\n",
      "[DEBUG] time:1496114612.72396207 pid:28091 pn:Process-2  tid:1996107776 tn:MainThread fn:write8     Wrote 0x00 to register 0x07\n",
      "[DEBUG] time:1496114612.72812104 pid:28091 pn:Process-2  tid:1996107776 tn:MainThread fn:write8     Wrote 0x77 to register 0x08\n",
      "[DEBUG] time:1496114612.73365998 pid:28091 pn:Process-2  tid:1996107776 tn:MainThread fn:write8     Wrote 0x01 to register 0x09\n"
     ]
    },
    {
     "name": "stdout",
     "output_type": "stream",
     "text": [
      "('control: ', 2)\n"
     ]
    },
    {
     "name": "stderr",
     "output_type": "stream",
     "text": [
      "[DEBUG] time:1496114612.79452991 pid:28091 pn:Process-2  tid:1996107776 tn:MainThread fn:write8     Wrote 0x00 to register 0x06\n",
      "[DEBUG] time:1496114612.79940295 pid:28091 pn:Process-2  tid:1996107776 tn:MainThread fn:write8     Wrote 0x00 to register 0x07\n",
      "[DEBUG] time:1496114612.80548501 pid:28091 pn:Process-2  tid:1996107776 tn:MainThread fn:write8     Wrote 0x77 to register 0x08\n",
      "[DEBUG] time:1496114612.81025791 pid:28091 pn:Process-2  tid:1996107776 tn:MainThread fn:write8     Wrote 0x01 to register 0x09\n"
     ]
    },
    {
     "name": "stdout",
     "output_type": "stream",
     "text": [
      "('control: ', 1)\n"
     ]
    },
    {
     "name": "stderr",
     "output_type": "stream",
     "text": [
      "[DEBUG] time:1496114612.87111092 pid:28091 pn:Process-2  tid:1996107776 tn:MainThread fn:write8     Wrote 0x00 to register 0x06\n",
      "[DEBUG] time:1496114612.87536097 pid:28091 pn:Process-2  tid:1996107776 tn:MainThread fn:write8     Wrote 0x00 to register 0x07\n",
      "[DEBUG] time:1496114612.88061595 pid:28091 pn:Process-2  tid:1996107776 tn:MainThread fn:write8     Wrote 0x4A to register 0x08\n",
      "[DEBUG] time:1496114612.88630390 pid:28091 pn:Process-2  tid:1996107776 tn:MainThread fn:write8     Wrote 0x01 to register 0x09\n"
     ]
    },
    {
     "name": "stdout",
     "output_type": "stream",
     "text": [
      "('control: ', 0)\n"
     ]
    },
    {
     "name": "stderr",
     "output_type": "stream",
     "text": [
      "[DEBUG] time:1496114612.94709492 pid:28091 pn:Process-2  tid:1996107776 tn:MainThread fn:write8     Wrote 0x00 to register 0x06\n",
      "[DEBUG] time:1496114612.95160890 pid:28091 pn:Process-2  tid:1996107776 tn:MainThread fn:write8     Wrote 0x00 to register 0x07\n",
      "[DEBUG] time:1496114612.95624399 pid:28091 pn:Process-2  tid:1996107776 tn:MainThread fn:write8     Wrote 0x77 to register 0x08\n",
      "[DEBUG] time:1496114612.96072197 pid:28091 pn:Process-2  tid:1996107776 tn:MainThread fn:write8     Wrote 0x01 to register 0x09\n"
     ]
    },
    {
     "name": "stdout",
     "output_type": "stream",
     "text": [
      "('control: ', 0)\n"
     ]
    },
    {
     "name": "stderr",
     "output_type": "stream",
     "text": [
      "[DEBUG] time:1496114613.02082300 pid:28091 pn:Process-2  tid:1996107776 tn:MainThread fn:write8     Wrote 0x00 to register 0x06\n",
      "[DEBUG] time:1496114613.02500892 pid:28091 pn:Process-2  tid:1996107776 tn:MainThread fn:write8     Wrote 0x00 to register 0x07\n",
      "[DEBUG] time:1496114613.03063107 pid:28091 pn:Process-2  tid:1996107776 tn:MainThread fn:write8     Wrote 0x77 to register 0x08\n",
      "[DEBUG] time:1496114613.03626204 pid:28091 pn:Process-2  tid:1996107776 tn:MainThread fn:write8     Wrote 0x01 to register 0x09\n"
     ]
    },
    {
     "name": "stdout",
     "output_type": "stream",
     "text": [
      "('control: ', 0)\n"
     ]
    },
    {
     "name": "stderr",
     "output_type": "stream",
     "text": [
      "[DEBUG] time:1496114613.09684801 pid:28091 pn:Process-2  tid:1996107776 tn:MainThread fn:write8     Wrote 0x00 to register 0x06\n",
      "[DEBUG] time:1496114613.10100007 pid:28091 pn:Process-2  tid:1996107776 tn:MainThread fn:write8     Wrote 0x00 to register 0x07\n",
      "[DEBUG] time:1496114613.10563898 pid:28091 pn:Process-2  tid:1996107776 tn:MainThread fn:write8     Wrote 0x77 to register 0x08\n",
      "[DEBUG] time:1496114613.11030293 pid:28091 pn:Process-2  tid:1996107776 tn:MainThread fn:write8     Wrote 0x01 to register 0x09\n"
     ]
    },
    {
     "name": "stdout",
     "output_type": "stream",
     "text": [
      "('control: ', 1)\n"
     ]
    },
    {
     "name": "stderr",
     "output_type": "stream",
     "text": [
      "[DEBUG] time:1496114613.17060089 pid:28091 pn:Process-2  tid:1996107776 tn:MainThread fn:write8     Wrote 0x00 to register 0x06\n",
      "[DEBUG] time:1496114613.17531705 pid:28091 pn:Process-2  tid:1996107776 tn:MainThread fn:write8     Wrote 0x00 to register 0x07\n",
      "[DEBUG] time:1496114613.18053293 pid:28091 pn:Process-2  tid:1996107776 tn:MainThread fn:write8     Wrote 0x4A to register 0x08\n",
      "[DEBUG] time:1496114613.18495798 pid:28091 pn:Process-2  tid:1996107776 tn:MainThread fn:write8     Wrote 0x01 to register 0x09\n"
     ]
    },
    {
     "name": "stdout",
     "output_type": "stream",
     "text": [
      "('control: ', 1)\n"
     ]
    },
    {
     "name": "stderr",
     "output_type": "stream",
     "text": [
      "[DEBUG] time:1496114613.25226307 pid:28091 pn:Process-2  tid:1996107776 tn:MainThread fn:write8     Wrote 0x00 to register 0x06\n",
      "[DEBUG] time:1496114613.25663495 pid:28091 pn:Process-2  tid:1996107776 tn:MainThread fn:write8     Wrote 0x00 to register 0x07\n",
      "[DEBUG] time:1496114613.26244903 pid:28091 pn:Process-2  tid:1996107776 tn:MainThread fn:write8     Wrote 0x4A to register 0x08\n",
      "[DEBUG] time:1496114613.26818705 pid:28091 pn:Process-2  tid:1996107776 tn:MainThread fn:write8     Wrote 0x01 to register 0x09\n"
     ]
    },
    {
     "name": "stdout",
     "output_type": "stream",
     "text": [
      "('control: ', 1)\n"
     ]
    },
    {
     "name": "stderr",
     "output_type": "stream",
     "text": [
      "[DEBUG] time:1496114613.33529592 pid:28091 pn:Process-2  tid:1996107776 tn:MainThread fn:write8     Wrote 0x00 to register 0x06\n",
      "[DEBUG] time:1496114613.34136009 pid:28091 pn:Process-2  tid:1996107776 tn:MainThread fn:write8     Wrote 0x00 to register 0x07\n",
      "[DEBUG] time:1496114613.35028005 pid:28091 pn:Process-2  tid:1996107776 tn:MainThread fn:write8     Wrote 0x4A to register 0x08\n",
      "[DEBUG] time:1496114613.35611391 pid:28091 pn:Process-2  tid:1996107776 tn:MainThread fn:write8     Wrote 0x01 to register 0x09\n"
     ]
    },
    {
     "name": "stdout",
     "output_type": "stream",
     "text": [
      "('control: ', 1)\n"
     ]
    },
    {
     "name": "stderr",
     "output_type": "stream",
     "text": [
      "[DEBUG] time:1496114613.42339802 pid:28091 pn:Process-2  tid:1996107776 tn:MainThread fn:write8     Wrote 0x00 to register 0x06\n",
      "[DEBUG] time:1496114613.42753291 pid:28091 pn:Process-2  tid:1996107776 tn:MainThread fn:write8     Wrote 0x00 to register 0x07\n",
      "[DEBUG] time:1496114613.43335795 pid:28091 pn:Process-2  tid:1996107776 tn:MainThread fn:write8     Wrote 0x4A to register 0x08\n",
      "[DEBUG] time:1496114613.43794489 pid:28091 pn:Process-2  tid:1996107776 tn:MainThread fn:write8     Wrote 0x01 to register 0x09\n"
     ]
    },
    {
     "name": "stdout",
     "output_type": "stream",
     "text": [
      "('control: ', 1)\n"
     ]
    },
    {
     "name": "stderr",
     "output_type": "stream",
     "text": [
      "[DEBUG] time:1496114613.49975705 pid:28091 pn:Process-2  tid:1996107776 tn:MainThread fn:write8     Wrote 0x00 to register 0x06\n",
      "[DEBUG] time:1496114613.50553894 pid:28091 pn:Process-2  tid:1996107776 tn:MainThread fn:write8     Wrote 0x00 to register 0x07\n",
      "[DEBUG] time:1496114613.51130509 pid:28091 pn:Process-2  tid:1996107776 tn:MainThread fn:write8     Wrote 0x4A to register 0x08\n",
      "[DEBUG] time:1496114613.51759005 pid:28091 pn:Process-2  tid:1996107776 tn:MainThread fn:write8     Wrote 0x01 to register 0x09\n"
     ]
    },
    {
     "name": "stdout",
     "output_type": "stream",
     "text": [
      "('control: ', 1)\n"
     ]
    },
    {
     "name": "stderr",
     "output_type": "stream",
     "text": [
      "[DEBUG] time:1496114613.57750511 pid:28091 pn:Process-2  tid:1996107776 tn:MainThread fn:write8     Wrote 0x00 to register 0x06\n",
      "[DEBUG] time:1496114613.58323312 pid:28091 pn:Process-2  tid:1996107776 tn:MainThread fn:write8     Wrote 0x00 to register 0x07\n",
      "[DEBUG] time:1496114613.58901501 pid:28091 pn:Process-2  tid:1996107776 tn:MainThread fn:write8     Wrote 0x4A to register 0x08\n",
      "[DEBUG] time:1496114613.59521508 pid:28091 pn:Process-2  tid:1996107776 tn:MainThread fn:write8     Wrote 0x01 to register 0x09\n"
     ]
    },
    {
     "name": "stdout",
     "output_type": "stream",
     "text": [
      "('control: ', 0)\n"
     ]
    },
    {
     "name": "stderr",
     "output_type": "stream",
     "text": [
      "[DEBUG] time:1496114613.65673208 pid:28091 pn:Process-2  tid:1996107776 tn:MainThread fn:write8     Wrote 0x00 to register 0x06\n",
      "[DEBUG] time:1496114613.66178298 pid:28091 pn:Process-2  tid:1996107776 tn:MainThread fn:write8     Wrote 0x00 to register 0x07\n",
      "[DEBUG] time:1496114613.66610599 pid:28091 pn:Process-2  tid:1996107776 tn:MainThread fn:write8     Wrote 0x77 to register 0x08\n",
      "[DEBUG] time:1496114613.67073703 pid:28091 pn:Process-2  tid:1996107776 tn:MainThread fn:write8     Wrote 0x01 to register 0x09\n"
     ]
    },
    {
     "name": "stdout",
     "output_type": "stream",
     "text": [
      "('control: ', 1)\n"
     ]
    },
    {
     "name": "stderr",
     "output_type": "stream",
     "text": [
      "[DEBUG] time:1496114613.73070502 pid:28091 pn:Process-2  tid:1996107776 tn:MainThread fn:write8     Wrote 0x00 to register 0x06\n",
      "[DEBUG] time:1496114613.73642206 pid:28091 pn:Process-2  tid:1996107776 tn:MainThread fn:write8     Wrote 0x00 to register 0x07\n",
      "[DEBUG] time:1496114613.74221396 pid:28091 pn:Process-2  tid:1996107776 tn:MainThread fn:write8     Wrote 0x4A to register 0x08\n",
      "[DEBUG] time:1496114613.74835896 pid:28091 pn:Process-2  tid:1996107776 tn:MainThread fn:write8     Wrote 0x01 to register 0x09\n"
     ]
    },
    {
     "name": "stdout",
     "output_type": "stream",
     "text": [
      "('control: ', 0)\n"
     ]
    },
    {
     "name": "stderr",
     "output_type": "stream",
     "text": [
      "[DEBUG] time:1496114613.81019998 pid:28091 pn:Process-2  tid:1996107776 tn:MainThread fn:write8     Wrote 0x00 to register 0x06\n",
      "[DEBUG] time:1496114613.81445193 pid:28091 pn:Process-2  tid:1996107776 tn:MainThread fn:write8     Wrote 0x00 to register 0x07\n",
      "[DEBUG] time:1496114613.82019901 pid:28091 pn:Process-2  tid:1996107776 tn:MainThread fn:write8     Wrote 0x77 to register 0x08\n",
      "[DEBUG] time:1496114613.82647896 pid:28091 pn:Process-2  tid:1996107776 tn:MainThread fn:write8     Wrote 0x01 to register 0x09\n"
     ]
    },
    {
     "name": "stdout",
     "output_type": "stream",
     "text": [
      "('control: ', 0)\n"
     ]
    },
    {
     "name": "stderr",
     "output_type": "stream",
     "text": [
      "[DEBUG] time:1496114613.88771296 pid:28091 pn:Process-2  tid:1996107776 tn:MainThread fn:write8     Wrote 0x00 to register 0x06\n",
      "[DEBUG] time:1496114613.89187503 pid:28091 pn:Process-2  tid:1996107776 tn:MainThread fn:write8     Wrote 0x00 to register 0x07\n",
      "[DEBUG] time:1496114613.89772296 pid:28091 pn:Process-2  tid:1996107776 tn:MainThread fn:write8     Wrote 0x77 to register 0x08\n",
      "[DEBUG] time:1496114613.90422511 pid:28091 pn:Process-2  tid:1996107776 tn:MainThread fn:write8     Wrote 0x01 to register 0x09\n"
     ]
    },
    {
     "name": "stdout",
     "output_type": "stream",
     "text": [
      "('control: ', 0)\n"
     ]
    },
    {
     "name": "stderr",
     "output_type": "stream",
     "text": [
      "[DEBUG] time:1496114613.96558309 pid:28091 pn:Process-2  tid:1996107776 tn:MainThread fn:write8     Wrote 0x00 to register 0x06\n",
      "[DEBUG] time:1496114613.97123694 pid:28091 pn:Process-2  tid:1996107776 tn:MainThread fn:write8     Wrote 0x00 to register 0x07\n",
      "[DEBUG] time:1496114613.97707391 pid:28091 pn:Process-2  tid:1996107776 tn:MainThread fn:write8     Wrote 0x77 to register 0x08\n",
      "[DEBUG] time:1496114613.98344803 pid:28091 pn:Process-2  tid:1996107776 tn:MainThread fn:write8     Wrote 0x01 to register 0x09\n"
     ]
    },
    {
     "name": "stdout",
     "output_type": "stream",
     "text": [
      "('control: ', 0)\n"
     ]
    },
    {
     "name": "stderr",
     "output_type": "stream",
     "text": [
      "[DEBUG] time:1496114614.04457498 pid:28091 pn:Process-2  tid:1996107776 tn:MainThread fn:write8     Wrote 0x00 to register 0x06\n",
      "[DEBUG] time:1496114614.05075407 pid:28091 pn:Process-2  tid:1996107776 tn:MainThread fn:write8     Wrote 0x00 to register 0x07\n",
      "[DEBUG] time:1496114614.05713105 pid:28091 pn:Process-2  tid:1996107776 tn:MainThread fn:write8     Wrote 0x77 to register 0x08\n",
      "[DEBUG] time:1496114614.06484294 pid:28091 pn:Process-2  tid:1996107776 tn:MainThread fn:write8     Wrote 0x01 to register 0x09\n",
      "[DEBUG] time:1496114614.07191300 pid:28091 pn:Process-2  tid:1996107776 tn:MainThread fn:write8     Wrote 0x00 to register 0x06\n",
      "[DEBUG] time:1496114614.07768512 pid:28091 pn:Process-2  tid:1996107776 tn:MainThread fn:write8     Wrote 0x00 to register 0x07\n",
      "[DEBUG] time:1496114614.08365798 pid:28091 pn:Process-2  tid:1996107776 tn:MainThread fn:write8     Wrote 0x4A to register 0x08\n",
      "[DEBUG] time:1496114614.08934593 pid:28091 pn:Process-2  tid:1996107776 tn:MainThread fn:write8     Wrote 0x01 to register 0x09\n"
     ]
    },
    {
     "name": "stdout",
     "output_type": "stream",
     "text": [
      "('control: ', 1)\n"
     ]
    },
    {
     "name": "stderr",
     "output_type": "stream",
     "text": [
      "[DEBUG] time:1496114614.15212107 pid:28091 pn:Process-2  tid:1996107776 tn:MainThread fn:write8     Wrote 0x00 to register 0x06\n",
      "[DEBUG] time:1496114614.15787196 pid:28091 pn:Process-2  tid:1996107776 tn:MainThread fn:write8     Wrote 0x00 to register 0x07\n",
      "[DEBUG] time:1496114614.16385508 pid:28091 pn:Process-2  tid:1996107776 tn:MainThread fn:write8     Wrote 0x4A to register 0x08\n",
      "[DEBUG] time:1496114614.16950607 pid:28091 pn:Process-2  tid:1996107776 tn:MainThread fn:write8     Wrote 0x01 to register 0x09\n"
     ]
    },
    {
     "name": "stdout",
     "output_type": "stream",
     "text": [
      "('control: ', 1)\n"
     ]
    },
    {
     "name": "stderr",
     "output_type": "stream",
     "text": [
      "[DEBUG] time:1496114614.22934508 pid:28091 pn:Process-2  tid:1996107776 tn:MainThread fn:write8     Wrote 0x00 to register 0x06\n",
      "[DEBUG] time:1496114614.23510098 pid:28091 pn:Process-2  tid:1996107776 tn:MainThread fn:write8     Wrote 0x00 to register 0x07\n",
      "[DEBUG] time:1496114614.24097204 pid:28091 pn:Process-2  tid:1996107776 tn:MainThread fn:write8     Wrote 0x4A to register 0x08\n",
      "[DEBUG] time:1496114614.24742103 pid:28091 pn:Process-2  tid:1996107776 tn:MainThread fn:write8     Wrote 0x01 to register 0x09\n"
     ]
    },
    {
     "name": "stdout",
     "output_type": "stream",
     "text": [
      "('control: ', 1)\n"
     ]
    },
    {
     "name": "stderr",
     "output_type": "stream",
     "text": [
      "[DEBUG] time:1496114614.30872703 pid:28091 pn:Process-2  tid:1996107776 tn:MainThread fn:write8     Wrote 0x00 to register 0x06\n",
      "[DEBUG] time:1496114614.31448603 pid:28091 pn:Process-2  tid:1996107776 tn:MainThread fn:write8     Wrote 0x00 to register 0x07\n",
      "[DEBUG] time:1496114614.31869602 pid:28091 pn:Process-2  tid:1996107776 tn:MainThread fn:write8     Wrote 0x4A to register 0x08\n",
      "[DEBUG] time:1496114614.32543206 pid:28091 pn:Process-2  tid:1996107776 tn:MainThread fn:write8     Wrote 0x01 to register 0x09\n"
     ]
    },
    {
     "name": "stdout",
     "output_type": "stream",
     "text": [
      "('control: ', 1)\n"
     ]
    },
    {
     "name": "stderr",
     "output_type": "stream",
     "text": [
      "[DEBUG] time:1496114614.38577890 pid:28091 pn:Process-2  tid:1996107776 tn:MainThread fn:write8     Wrote 0x00 to register 0x06\n",
      "[DEBUG] time:1496114614.38994598 pid:28091 pn:Process-2  tid:1996107776 tn:MainThread fn:write8     Wrote 0x00 to register 0x07\n",
      "[DEBUG] time:1496114614.39436507 pid:28091 pn:Process-2  tid:1996107776 tn:MainThread fn:write8     Wrote 0x4A to register 0x08\n",
      "[DEBUG] time:1496114614.40022206 pid:28091 pn:Process-2  tid:1996107776 tn:MainThread fn:write8     Wrote 0x01 to register 0x09\n"
     ]
    },
    {
     "name": "stdout",
     "output_type": "stream",
     "text": [
      "('control: ', 1)\n"
     ]
    },
    {
     "name": "stderr",
     "output_type": "stream",
     "text": [
      "[DEBUG] time:1496114614.46175909 pid:28091 pn:Process-2  tid:1996107776 tn:MainThread fn:write8     Wrote 0x00 to register 0x06\n",
      "[DEBUG] time:1496114614.46752310 pid:28091 pn:Process-2  tid:1996107776 tn:MainThread fn:write8     Wrote 0x00 to register 0x07\n",
      "[DEBUG] time:1496114614.47329593 pid:28091 pn:Process-2  tid:1996107776 tn:MainThread fn:write8     Wrote 0x4A to register 0x08\n",
      "[DEBUG] time:1496114614.47791791 pid:28091 pn:Process-2  tid:1996107776 tn:MainThread fn:write8     Wrote 0x01 to register 0x09\n"
     ]
    },
    {
     "name": "stdout",
     "output_type": "stream",
     "text": [
      "('control: ', 1)\n"
     ]
    },
    {
     "name": "stderr",
     "output_type": "stream",
     "text": [
      "[DEBUG] time:1496114614.54011202 pid:28091 pn:Process-2  tid:1996107776 tn:MainThread fn:write8     Wrote 0x00 to register 0x06\n",
      "[DEBUG] time:1496114614.54589391 pid:28091 pn:Process-2  tid:1996107776 tn:MainThread fn:write8     Wrote 0x00 to register 0x07\n",
      "[DEBUG] time:1496114614.55030394 pid:28091 pn:Process-2  tid:1996107776 tn:MainThread fn:write8     Wrote 0x4A to register 0x08\n",
      "[DEBUG] time:1496114614.55546689 pid:28091 pn:Process-2  tid:1996107776 tn:MainThread fn:write8     Wrote 0x01 to register 0x09\n"
     ]
    },
    {
     "name": "stdout",
     "output_type": "stream",
     "text": [
      "('control: ', 1)\n"
     ]
    },
    {
     "name": "stderr",
     "output_type": "stream",
     "text": [
      "[DEBUG] time:1496114614.61697102 pid:28091 pn:Process-2  tid:1996107776 tn:MainThread fn:write8     Wrote 0x00 to register 0x06\n",
      "[DEBUG] time:1496114614.62110400 pid:28091 pn:Process-2  tid:1996107776 tn:MainThread fn:write8     Wrote 0x00 to register 0x07\n",
      "[DEBUG] time:1496114614.62749791 pid:28091 pn:Process-2  tid:1996107776 tn:MainThread fn:write8     Wrote 0x4A to register 0x08\n",
      "[DEBUG] time:1496114614.63264799 pid:28091 pn:Process-2  tid:1996107776 tn:MainThread fn:write8     Wrote 0x01 to register 0x09\n"
     ]
    },
    {
     "name": "stdout",
     "output_type": "stream",
     "text": [
      "('control: ', 1)\n"
     ]
    },
    {
     "name": "stderr",
     "output_type": "stream",
     "text": [
      "[DEBUG] time:1496114614.70257592 pid:28091 pn:Process-2  tid:1996107776 tn:MainThread fn:write8     Wrote 0x00 to register 0x06\n",
      "[DEBUG] time:1496114614.70928192 pid:28091 pn:Process-2  tid:1996107776 tn:MainThread fn:write8     Wrote 0x00 to register 0x07\n",
      "[DEBUG] time:1496114614.71511412 pid:28091 pn:Process-2  tid:1996107776 tn:MainThread fn:write8     Wrote 0x4A to register 0x08\n",
      "[DEBUG] time:1496114614.72224593 pid:28091 pn:Process-2  tid:1996107776 tn:MainThread fn:write8     Wrote 0x01 to register 0x09\n"
     ]
    },
    {
     "name": "stdout",
     "output_type": "stream",
     "text": [
      "('control: ', 1)\n"
     ]
    },
    {
     "name": "stderr",
     "output_type": "stream",
     "text": [
      "[DEBUG] time:1496114614.78421092 pid:28091 pn:Process-2  tid:1996107776 tn:MainThread fn:write8     Wrote 0x00 to register 0x06\n",
      "[DEBUG] time:1496114614.78953695 pid:28091 pn:Process-2  tid:1996107776 tn:MainThread fn:write8     Wrote 0x00 to register 0x07\n",
      "[DEBUG] time:1496114614.80024290 pid:28091 pn:Process-2  tid:1996107776 tn:MainThread fn:write8     Wrote 0x4A to register 0x08\n",
      "[DEBUG] time:1496114614.80462098 pid:28091 pn:Process-2  tid:1996107776 tn:MainThread fn:write8     Wrote 0x01 to register 0x09\n"
     ]
    },
    {
     "name": "stdout",
     "output_type": "stream",
     "text": [
      "('control: ', 1)\n"
     ]
    },
    {
     "name": "stderr",
     "output_type": "stream",
     "text": [
      "[DEBUG] time:1496114614.87177110 pid:28091 pn:Process-2  tid:1996107776 tn:MainThread fn:write8     Wrote 0x00 to register 0x06\n",
      "[DEBUG] time:1496114614.87589407 pid:28091 pn:Process-2  tid:1996107776 tn:MainThread fn:write8     Wrote 0x00 to register 0x07\n",
      "[DEBUG] time:1496114614.88191605 pid:28091 pn:Process-2  tid:1996107776 tn:MainThread fn:write8     Wrote 0x4A to register 0x08\n",
      "[DEBUG] time:1496114614.88620400 pid:28091 pn:Process-2  tid:1996107776 tn:MainThread fn:write8     Wrote 0x01 to register 0x09\n"
     ]
    },
    {
     "name": "stdout",
     "output_type": "stream",
     "text": [
      "('control: ', 1)\n"
     ]
    },
    {
     "name": "stderr",
     "output_type": "stream",
     "text": [
      "[DEBUG] time:1496114614.94715309 pid:28091 pn:Process-2  tid:1996107776 tn:MainThread fn:write8     Wrote 0x00 to register 0x06\n",
      "[DEBUG] time:1496114614.95128489 pid:28091 pn:Process-2  tid:1996107776 tn:MainThread fn:write8     Wrote 0x00 to register 0x07\n",
      "[DEBUG] time:1496114614.95558810 pid:28091 pn:Process-2  tid:1996107776 tn:MainThread fn:write8     Wrote 0x4A to register 0x08\n",
      "[DEBUG] time:1496114614.95979595 pid:28091 pn:Process-2  tid:1996107776 tn:MainThread fn:write8     Wrote 0x01 to register 0x09\n"
     ]
    },
    {
     "name": "stdout",
     "output_type": "stream",
     "text": [
      "('control: ', 1)\n"
     ]
    },
    {
     "name": "stderr",
     "output_type": "stream",
     "text": [
      "[DEBUG] time:1496114615.02121401 pid:28091 pn:Process-2  tid:1996107776 tn:MainThread fn:write8     Wrote 0x00 to register 0x06\n",
      "[DEBUG] time:1496114615.02693391 pid:28091 pn:Process-2  tid:1996107776 tn:MainThread fn:write8     Wrote 0x00 to register 0x07\n",
      "[DEBUG] time:1496114615.03309202 pid:28091 pn:Process-2  tid:1996107776 tn:MainThread fn:write8     Wrote 0x4A to register 0x08\n",
      "[DEBUG] time:1496114615.03920507 pid:28091 pn:Process-2  tid:1996107776 tn:MainThread fn:write8     Wrote 0x01 to register 0x09\n"
     ]
    },
    {
     "name": "stdout",
     "output_type": "stream",
     "text": [
      "('control: ', 1)\n"
     ]
    },
    {
     "name": "stderr",
     "output_type": "stream",
     "text": [
      "[DEBUG] time:1496114615.10070801 pid:28091 pn:Process-2  tid:1996107776 tn:MainThread fn:write8     Wrote 0x00 to register 0x06\n",
      "[DEBUG] time:1496114615.10490990 pid:28091 pn:Process-2  tid:1996107776 tn:MainThread fn:write8     Wrote 0x00 to register 0x07\n",
      "[DEBUG] time:1496114615.11069107 pid:28091 pn:Process-2  tid:1996107776 tn:MainThread fn:write8     Wrote 0x4A to register 0x08\n",
      "[DEBUG] time:1496114615.11575294 pid:28091 pn:Process-2  tid:1996107776 tn:MainThread fn:write8     Wrote 0x01 to register 0x09\n"
     ]
    },
    {
     "name": "stdout",
     "output_type": "stream",
     "text": [
      "('control: ', 1)\n"
     ]
    },
    {
     "name": "stderr",
     "output_type": "stream",
     "text": [
      "[DEBUG] time:1496114615.17782211 pid:28091 pn:Process-2  tid:1996107776 tn:MainThread fn:write8     Wrote 0x00 to register 0x06\n",
      "[DEBUG] time:1496114615.18344498 pid:28091 pn:Process-2  tid:1996107776 tn:MainThread fn:write8     Wrote 0x00 to register 0x07\n",
      "[DEBUG] time:1496114615.18960905 pid:28091 pn:Process-2  tid:1996107776 tn:MainThread fn:write8     Wrote 0x4A to register 0x08\n",
      "[DEBUG] time:1496114615.19571590 pid:28091 pn:Process-2  tid:1996107776 tn:MainThread fn:write8     Wrote 0x01 to register 0x09\n"
     ]
    },
    {
     "name": "stdout",
     "output_type": "stream",
     "text": [
      "('control: ', 1)\n"
     ]
    },
    {
     "name": "stderr",
     "output_type": "stream",
     "text": [
      "[DEBUG] time:1496114615.25567508 pid:28091 pn:Process-2  tid:1996107776 tn:MainThread fn:write8     Wrote 0x00 to register 0x06\n",
      "[DEBUG] time:1496114615.25981688 pid:28091 pn:Process-2  tid:1996107776 tn:MainThread fn:write8     Wrote 0x00 to register 0x07\n",
      "[DEBUG] time:1496114615.26413393 pid:28091 pn:Process-2  tid:1996107776 tn:MainThread fn:write8     Wrote 0x4A to register 0x08\n",
      "[DEBUG] time:1496114615.26835299 pid:28091 pn:Process-2  tid:1996107776 tn:MainThread fn:write8     Wrote 0x01 to register 0x09\n"
     ]
    },
    {
     "name": "stdout",
     "output_type": "stream",
     "text": [
      "('control: ', 0)\n"
     ]
    },
    {
     "name": "stderr",
     "output_type": "stream",
     "text": [
      "[DEBUG] time:1496114615.32856393 pid:28091 pn:Process-2  tid:1996107776 tn:MainThread fn:write8     Wrote 0x00 to register 0x06\n",
      "[DEBUG] time:1496114615.33269191 pid:28091 pn:Process-2  tid:1996107776 tn:MainThread fn:write8     Wrote 0x00 to register 0x07\n",
      "[DEBUG] time:1496114615.33699012 pid:28091 pn:Process-2  tid:1996107776 tn:MainThread fn:write8     Wrote 0x77 to register 0x08\n",
      "[DEBUG] time:1496114615.34236407 pid:28091 pn:Process-2  tid:1996107776 tn:MainThread fn:write8     Wrote 0x01 to register 0x09\n"
     ]
    },
    {
     "name": "stdout",
     "output_type": "stream",
     "text": [
      "('control: ', 2)\n"
     ]
    },
    {
     "name": "stderr",
     "output_type": "stream",
     "text": [
      "[DEBUG] time:1496114615.40418601 pid:28091 pn:Process-2  tid:1996107776 tn:MainThread fn:write8     Wrote 0x00 to register 0x06\n",
      "[DEBUG] time:1496114615.40984011 pid:28091 pn:Process-2  tid:1996107776 tn:MainThread fn:write8     Wrote 0x00 to register 0x07\n",
      "[DEBUG] time:1496114615.41570902 pid:28091 pn:Process-2  tid:1996107776 tn:MainThread fn:write8     Wrote 0x77 to register 0x08\n",
      "[DEBUG] time:1496114615.42176294 pid:28091 pn:Process-2  tid:1996107776 tn:MainThread fn:write8     Wrote 0x01 to register 0x09\n"
     ]
    },
    {
     "name": "stdout",
     "output_type": "stream",
     "text": [
      "('control: ', 2)\n"
     ]
    },
    {
     "name": "stderr",
     "output_type": "stream",
     "text": [
      "[DEBUG] time:1496114615.48341799 pid:28091 pn:Process-2  tid:1996107776 tn:MainThread fn:write8     Wrote 0x00 to register 0x06\n",
      "[DEBUG] time:1496114615.48907900 pid:28091 pn:Process-2  tid:1996107776 tn:MainThread fn:write8     Wrote 0x00 to register 0x07\n",
      "[DEBUG] time:1496114615.49512196 pid:28091 pn:Process-2  tid:1996107776 tn:MainThread fn:write8     Wrote 0x77 to register 0x08\n",
      "[DEBUG] time:1496114615.50212598 pid:28091 pn:Process-2  tid:1996107776 tn:MainThread fn:write8     Wrote 0x01 to register 0x09\n"
     ]
    },
    {
     "name": "stdout",
     "output_type": "stream",
     "text": [
      "('control: ', 2)\n"
     ]
    },
    {
     "name": "stderr",
     "output_type": "stream",
     "text": [
      "[DEBUG] time:1496114615.56519103 pid:28091 pn:Process-2  tid:1996107776 tn:MainThread fn:write8     Wrote 0x00 to register 0x06\n",
      "[DEBUG] time:1496114615.56933093 pid:28091 pn:Process-2  tid:1996107776 tn:MainThread fn:write8     Wrote 0x00 to register 0x07\n",
      "[DEBUG] time:1496114615.57598495 pid:28091 pn:Process-2  tid:1996107776 tn:MainThread fn:write8     Wrote 0x77 to register 0x08\n",
      "[DEBUG] time:1496114615.58245897 pid:28091 pn:Process-2  tid:1996107776 tn:MainThread fn:write8     Wrote 0x01 to register 0x09\n"
     ]
    },
    {
     "name": "stdout",
     "output_type": "stream",
     "text": [
      "('control: ', 2)\n"
     ]
    },
    {
     "name": "stderr",
     "output_type": "stream",
     "text": [
      "[DEBUG] time:1496114615.65035009 pid:28091 pn:Process-2  tid:1996107776 tn:MainThread fn:write8     Wrote 0x00 to register 0x06\n",
      "[DEBUG] time:1496114615.65668607 pid:28091 pn:Process-2  tid:1996107776 tn:MainThread fn:write8     Wrote 0x00 to register 0x07\n",
      "[DEBUG] time:1496114615.66326308 pid:28091 pn:Process-2  tid:1996107776 tn:MainThread fn:write8     Wrote 0x77 to register 0x08\n",
      "[DEBUG] time:1496114615.67170405 pid:28091 pn:Process-2  tid:1996107776 tn:MainThread fn:write8     Wrote 0x01 to register 0x09\n"
     ]
    },
    {
     "name": "stdout",
     "output_type": "stream",
     "text": [
      "('control: ', 2)\n"
     ]
    },
    {
     "name": "stderr",
     "output_type": "stream",
     "text": [
      "[DEBUG] time:1496114615.73431301 pid:28091 pn:Process-2  tid:1996107776 tn:MainThread fn:write8     Wrote 0x00 to register 0x06\n",
      "[DEBUG] time:1496114615.74132800 pid:28091 pn:Process-2  tid:1996107776 tn:MainThread fn:write8     Wrote 0x00 to register 0x07\n",
      "[DEBUG] time:1496114615.74798894 pid:28091 pn:Process-2  tid:1996107776 tn:MainThread fn:write8     Wrote 0x77 to register 0x08\n",
      "[DEBUG] time:1496114615.75213099 pid:28091 pn:Process-2  tid:1996107776 tn:MainThread fn:write8     Wrote 0x01 to register 0x09\n"
     ]
    },
    {
     "name": "stdout",
     "output_type": "stream",
     "text": [
      "('control: ', 2)\n"
     ]
    },
    {
     "name": "stderr",
     "output_type": "stream",
     "text": [
      "[DEBUG] time:1496114615.81233191 pid:28091 pn:Process-2  tid:1996107776 tn:MainThread fn:write8     Wrote 0x00 to register 0x06\n",
      "[DEBUG] time:1496114615.82440305 pid:28091 pn:Process-2  tid:1996107776 tn:MainThread fn:write8     Wrote 0x00 to register 0x07\n",
      "[DEBUG] time:1496114615.82953095 pid:28091 pn:Process-2  tid:1996107776 tn:MainThread fn:write8     Wrote 0x77 to register 0x08\n",
      "[DEBUG] time:1496114615.83512092 pid:28091 pn:Process-2  tid:1996107776 tn:MainThread fn:write8     Wrote 0x01 to register 0x09\n"
     ]
    },
    {
     "name": "stdout",
     "output_type": "stream",
     "text": [
      "('control: ', 2)\n"
     ]
    },
    {
     "name": "stderr",
     "output_type": "stream",
     "text": [
      "[DEBUG] time:1496114615.89663601 pid:28091 pn:Process-2  tid:1996107776 tn:MainThread fn:write8     Wrote 0x00 to register 0x06\n",
      "[DEBUG] time:1496114615.90179396 pid:28091 pn:Process-2  tid:1996107776 tn:MainThread fn:write8     Wrote 0x00 to register 0x07\n",
      "[DEBUG] time:1496114615.90716505 pid:28091 pn:Process-2  tid:1996107776 tn:MainThread fn:write8     Wrote 0x77 to register 0x08\n",
      "[DEBUG] time:1496114615.91156697 pid:28091 pn:Process-2  tid:1996107776 tn:MainThread fn:write8     Wrote 0x01 to register 0x09\n"
     ]
    },
    {
     "name": "stdout",
     "output_type": "stream",
     "text": [
      "('control: ', 2)\n",
      "('control: ', 1)\n"
     ]
    },
    {
     "name": "stderr",
     "output_type": "stream",
     "text": [
      "[DEBUG] time:1496114616.03159094 pid:28091 pn:Process-2  tid:1996107776 tn:MainThread fn:write8     Wrote 0x00 to register 0x06\n",
      "[DEBUG] time:1496114616.03804994 pid:28091 pn:Process-2  tid:1996107776 tn:MainThread fn:write8     Wrote 0x00 to register 0x07\n",
      "[DEBUG] time:1496114616.04412198 pid:28091 pn:Process-2  tid:1996107776 tn:MainThread fn:write8     Wrote 0x4A to register 0x08\n",
      "[DEBUG] time:1496114616.05016589 pid:28091 pn:Process-2  tid:1996107776 tn:MainThread fn:write8     Wrote 0x01 to register 0x09\n"
     ]
    },
    {
     "name": "stdout",
     "output_type": "stream",
     "text": [
      "('control: ', 1)\n"
     ]
    },
    {
     "name": "stderr",
     "output_type": "stream",
     "text": [
      "[DEBUG] time:1496114616.11154294 pid:28091 pn:Process-2  tid:1996107776 tn:MainThread fn:write8     Wrote 0x00 to register 0x06\n",
      "[DEBUG] time:1496114616.11683011 pid:28091 pn:Process-2  tid:1996107776 tn:MainThread fn:write8     Wrote 0x00 to register 0x07\n",
      "[DEBUG] time:1496114616.12256908 pid:28091 pn:Process-2  tid:1996107776 tn:MainThread fn:write8     Wrote 0x4A to register 0x08\n",
      "[DEBUG] time:1496114616.12818289 pid:28091 pn:Process-2  tid:1996107776 tn:MainThread fn:write8     Wrote 0x01 to register 0x09\n",
      "[DEBUG] time:1496114616.13449097 pid:28091 pn:Process-2  tid:1996107776 tn:MainThread fn:write8     Wrote 0x00 to register 0x06\n",
      "[DEBUG] time:1496114616.13992500 pid:28091 pn:Process-2  tid:1996107776 tn:MainThread fn:write8     Wrote 0x00 to register 0x07\n",
      "[DEBUG] time:1496114616.14529109 pid:28091 pn:Process-2  tid:1996107776 tn:MainThread fn:write8     Wrote 0x77 to register 0x08\n",
      "[DEBUG] time:1496114616.15035510 pid:28091 pn:Process-2  tid:1996107776 tn:MainThread fn:write8     Wrote 0x01 to register 0x09\n"
     ]
    },
    {
     "name": "stdout",
     "output_type": "stream",
     "text": [
      "('control: ', 1)\n"
     ]
    },
    {
     "name": "stderr",
     "output_type": "stream",
     "text": [
      "[DEBUG] time:1496114616.21195698 pid:28091 pn:Process-2  tid:1996107776 tn:MainThread fn:write8     Wrote 0x00 to register 0x06\n",
      "[DEBUG] time:1496114616.21709299 pid:28091 pn:Process-2  tid:1996107776 tn:MainThread fn:write8     Wrote 0x00 to register 0x07\n",
      "[DEBUG] time:1496114616.22215390 pid:28091 pn:Process-2  tid:1996107776 tn:MainThread fn:write8     Wrote 0x4A to register 0x08\n",
      "[DEBUG] time:1496114616.22701502 pid:28091 pn:Process-2  tid:1996107776 tn:MainThread fn:write8     Wrote 0x01 to register 0x09\n"
     ]
    },
    {
     "name": "stdout",
     "output_type": "stream",
     "text": [
      "('control: ', 1)\n"
     ]
    },
    {
     "name": "stderr",
     "output_type": "stream",
     "text": [
      "[DEBUG] time:1496114616.28782892 pid:28091 pn:Process-2  tid:1996107776 tn:MainThread fn:write8     Wrote 0x00 to register 0x06\n",
      "[DEBUG] time:1496114616.29248691 pid:28091 pn:Process-2  tid:1996107776 tn:MainThread fn:write8     Wrote 0x00 to register 0x07\n",
      "[DEBUG] time:1496114616.29771590 pid:28091 pn:Process-2  tid:1996107776 tn:MainThread fn:write8     Wrote 0x4A to register 0x08\n",
      "[DEBUG] time:1496114616.30280495 pid:28091 pn:Process-2  tid:1996107776 tn:MainThread fn:write8     Wrote 0x01 to register 0x09\n"
     ]
    },
    {
     "name": "stdout",
     "output_type": "stream",
     "text": [
      "('control: ', 2)\n"
     ]
    },
    {
     "name": "stderr",
     "output_type": "stream",
     "text": [
      "[DEBUG] time:1496114616.36435103 pid:28091 pn:Process-2  tid:1996107776 tn:MainThread fn:write8     Wrote 0x00 to register 0x06\n",
      "[DEBUG] time:1496114616.36900401 pid:28091 pn:Process-2  tid:1996107776 tn:MainThread fn:write8     Wrote 0x00 to register 0x07\n",
      "[DEBUG] time:1496114616.37418795 pid:28091 pn:Process-2  tid:1996107776 tn:MainThread fn:write8     Wrote 0x77 to register 0x08\n",
      "[DEBUG] time:1496114616.37881088 pid:28091 pn:Process-2  tid:1996107776 tn:MainThread fn:write8     Wrote 0x01 to register 0x09\n"
     ]
    },
    {
     "name": "stdout",
     "output_type": "stream",
     "text": [
      "('control: ', 2)\n"
     ]
    },
    {
     "name": "stderr",
     "output_type": "stream",
     "text": [
      "[DEBUG] time:1496114616.43981504 pid:28091 pn:Process-2  tid:1996107776 tn:MainThread fn:write8     Wrote 0x00 to register 0x06\n",
      "[DEBUG] time:1496114616.44502091 pid:28091 pn:Process-2  tid:1996107776 tn:MainThread fn:write8     Wrote 0x00 to register 0x07\n",
      "[DEBUG] time:1496114616.44958997 pid:28091 pn:Process-2  tid:1996107776 tn:MainThread fn:write8     Wrote 0x77 to register 0x08\n",
      "[DEBUG] time:1496114616.45448303 pid:28091 pn:Process-2  tid:1996107776 tn:MainThread fn:write8     Wrote 0x01 to register 0x09\n"
     ]
    },
    {
     "name": "stdout",
     "output_type": "stream",
     "text": [
      "('control: ', 2)\n"
     ]
    },
    {
     "name": "stderr",
     "output_type": "stream",
     "text": [
      "[DEBUG] time:1496114616.51596308 pid:28091 pn:Process-2  tid:1996107776 tn:MainThread fn:write8     Wrote 0x00 to register 0x06\n",
      "[DEBUG] time:1496114616.52058291 pid:28091 pn:Process-2  tid:1996107776 tn:MainThread fn:write8     Wrote 0x00 to register 0x07\n",
      "[DEBUG] time:1496114616.52539611 pid:28091 pn:Process-2  tid:1996107776 tn:MainThread fn:write8     Wrote 0x77 to register 0x08\n",
      "[DEBUG] time:1496114616.53010106 pid:28091 pn:Process-2  tid:1996107776 tn:MainThread fn:write8     Wrote 0x01 to register 0x09\n"
     ]
    },
    {
     "name": "stdout",
     "output_type": "stream",
     "text": [
      "('control: ', 2)\n"
     ]
    },
    {
     "name": "stderr",
     "output_type": "stream",
     "text": [
      "[DEBUG] time:1496114616.59157491 pid:28091 pn:Process-2  tid:1996107776 tn:MainThread fn:write8     Wrote 0x00 to register 0x06\n",
      "[DEBUG] time:1496114616.59672403 pid:28091 pn:Process-2  tid:1996107776 tn:MainThread fn:write8     Wrote 0x00 to register 0x07\n",
      "[DEBUG] time:1496114616.60224009 pid:28091 pn:Process-2  tid:1996107776 tn:MainThread fn:write8     Wrote 0x77 to register 0x08\n",
      "[DEBUG] time:1496114616.60753107 pid:28091 pn:Process-2  tid:1996107776 tn:MainThread fn:write8     Wrote 0x01 to register 0x09\n"
     ]
    },
    {
     "name": "stdout",
     "output_type": "stream",
     "text": [
      "('control: ', 2)\n"
     ]
    },
    {
     "name": "stderr",
     "output_type": "stream",
     "text": [
      "[DEBUG] time:1496114616.66833997 pid:28091 pn:Process-2  tid:1996107776 tn:MainThread fn:write8     Wrote 0x00 to register 0x06\n",
      "[DEBUG] time:1496114616.67343903 pid:28091 pn:Process-2  tid:1996107776 tn:MainThread fn:write8     Wrote 0x00 to register 0x07\n",
      "[DEBUG] time:1496114616.67824197 pid:28091 pn:Process-2  tid:1996107776 tn:MainThread fn:write8     Wrote 0x77 to register 0x08\n",
      "[DEBUG] time:1496114616.68300891 pid:28091 pn:Process-2  tid:1996107776 tn:MainThread fn:write8     Wrote 0x01 to register 0x09\n"
     ]
    },
    {
     "name": "stdout",
     "output_type": "stream",
     "text": [
      "('control: ', 1)\n"
     ]
    },
    {
     "name": "stderr",
     "output_type": "stream",
     "text": [
      "[DEBUG] time:1496114616.74433589 pid:28091 pn:Process-2  tid:1996107776 tn:MainThread fn:write8     Wrote 0x00 to register 0x06\n",
      "[DEBUG] time:1496114616.74941993 pid:28091 pn:Process-2  tid:1996107776 tn:MainThread fn:write8     Wrote 0x00 to register 0x07\n",
      "[DEBUG] time:1496114616.75418210 pid:28091 pn:Process-2  tid:1996107776 tn:MainThread fn:write8     Wrote 0x4A to register 0x08\n",
      "[DEBUG] time:1496114616.75878906 pid:28091 pn:Process-2  tid:1996107776 tn:MainThread fn:write8     Wrote 0x01 to register 0x09\n"
     ]
    },
    {
     "name": "stdout",
     "output_type": "stream",
     "text": [
      "('control: ', 1)\n"
     ]
    },
    {
     "name": "stderr",
     "output_type": "stream",
     "text": [
      "[DEBUG] time:1496114616.82030296 pid:28091 pn:Process-2  tid:1996107776 tn:MainThread fn:write8     Wrote 0x00 to register 0x06\n",
      "[DEBUG] time:1496114616.82550693 pid:28091 pn:Process-2  tid:1996107776 tn:MainThread fn:write8     Wrote 0x00 to register 0x07\n",
      "[DEBUG] time:1496114616.83063602 pid:28091 pn:Process-2  tid:1996107776 tn:MainThread fn:write8     Wrote 0x4A to register 0x08\n",
      "[DEBUG] time:1496114616.83601093 pid:28091 pn:Process-2  tid:1996107776 tn:MainThread fn:write8     Wrote 0x01 to register 0x09\n"
     ]
    },
    {
     "name": "stdout",
     "output_type": "stream",
     "text": [
      "('control: ', 2)\n"
     ]
    },
    {
     "name": "stderr",
     "output_type": "stream",
     "text": [
      "[DEBUG] time:1496114616.89848590 pid:28091 pn:Process-2  tid:1996107776 tn:MainThread fn:write8     Wrote 0x00 to register 0x06\n",
      "[DEBUG] time:1496114616.90309405 pid:28091 pn:Process-2  tid:1996107776 tn:MainThread fn:write8     Wrote 0x00 to register 0x07\n",
      "[DEBUG] time:1496114616.90826797 pid:28091 pn:Process-2  tid:1996107776 tn:MainThread fn:write8     Wrote 0x77 to register 0x08\n",
      "[DEBUG] time:1496114616.91413093 pid:28091 pn:Process-2  tid:1996107776 tn:MainThread fn:write8     Wrote 0x01 to register 0x09\n"
     ]
    },
    {
     "name": "stdout",
     "output_type": "stream",
     "text": [
      "('control: ', 1)\n"
     ]
    },
    {
     "name": "stderr",
     "output_type": "stream",
     "text": [
      "[DEBUG] time:1496114616.97584391 pid:28091 pn:Process-2  tid:1996107776 tn:MainThread fn:write8     Wrote 0x00 to register 0x06\n",
      "[DEBUG] time:1496114616.98044801 pid:28091 pn:Process-2  tid:1996107776 tn:MainThread fn:write8     Wrote 0x00 to register 0x07\n",
      "[DEBUG] time:1496114616.98529792 pid:28091 pn:Process-2  tid:1996107776 tn:MainThread fn:write8     Wrote 0x4A to register 0x08\n",
      "[DEBUG] time:1496114616.99105191 pid:28091 pn:Process-2  tid:1996107776 tn:MainThread fn:write8     Wrote 0x01 to register 0x09\n"
     ]
    },
    {
     "name": "stdout",
     "output_type": "stream",
     "text": [
      "('control: ', 1)\n"
     ]
    },
    {
     "name": "stderr",
     "output_type": "stream",
     "text": [
      "[DEBUG] time:1496114617.05294895 pid:28091 pn:Process-2  tid:1996107776 tn:MainThread fn:write8     Wrote 0x00 to register 0x06\n",
      "[DEBUG] time:1496114617.05763006 pid:28091 pn:Process-2  tid:1996107776 tn:MainThread fn:write8     Wrote 0x00 to register 0x07\n",
      "[DEBUG] time:1496114617.06304407 pid:28091 pn:Process-2  tid:1996107776 tn:MainThread fn:write8     Wrote 0x4A to register 0x08\n",
      "[DEBUG] time:1496114617.06827402 pid:28091 pn:Process-2  tid:1996107776 tn:MainThread fn:write8     Wrote 0x01 to register 0x09\n"
     ]
    },
    {
     "name": "stdout",
     "output_type": "stream",
     "text": [
      "('control: ', 1)\n"
     ]
    },
    {
     "name": "stderr",
     "output_type": "stream",
     "text": [
      "[DEBUG] time:1496114617.13102102 pid:28091 pn:Process-2  tid:1996107776 tn:MainThread fn:write8     Wrote 0x00 to register 0x06\n",
      "[DEBUG] time:1496114617.13629389 pid:28091 pn:Process-2  tid:1996107776 tn:MainThread fn:write8     Wrote 0x00 to register 0x07\n",
      "[DEBUG] time:1496114617.14198399 pid:28091 pn:Process-2  tid:1996107776 tn:MainThread fn:write8     Wrote 0x4A to register 0x08\n",
      "[DEBUG] time:1496114617.14806795 pid:28091 pn:Process-2  tid:1996107776 tn:MainThread fn:write8     Wrote 0x01 to register 0x09\n"
     ]
    },
    {
     "name": "stdout",
     "output_type": "stream",
     "text": [
      "('control: ', 2)\n"
     ]
    },
    {
     "name": "stderr",
     "output_type": "stream",
     "text": [
      "[DEBUG] time:1496114617.21456504 pid:28091 pn:Process-2  tid:1996107776 tn:MainThread fn:write8     Wrote 0x00 to register 0x06\n",
      "[DEBUG] time:1496114617.21931911 pid:28091 pn:Process-2  tid:1996107776 tn:MainThread fn:write8     Wrote 0x00 to register 0x07\n",
      "[DEBUG] time:1496114617.22431803 pid:28091 pn:Process-2  tid:1996107776 tn:MainThread fn:write8     Wrote 0x77 to register 0x08\n",
      "[DEBUG] time:1496114617.23432398 pid:28091 pn:Process-2  tid:1996107776 tn:MainThread fn:write8     Wrote 0x01 to register 0x09\n"
     ]
    },
    {
     "name": "stdout",
     "output_type": "stream",
     "text": [
      "('control: ', 2)\n"
     ]
    },
    {
     "name": "stderr",
     "output_type": "stream",
     "text": [
      "[DEBUG] time:1496114617.29535890 pid:28091 pn:Process-2  tid:1996107776 tn:MainThread fn:write8     Wrote 0x00 to register 0x06\n",
      "[DEBUG] time:1496114617.30505395 pid:28091 pn:Process-2  tid:1996107776 tn:MainThread fn:write8     Wrote 0x00 to register 0x07\n",
      "[DEBUG] time:1496114617.30964708 pid:28091 pn:Process-2  tid:1996107776 tn:MainThread fn:write8     Wrote 0x77 to register 0x08\n",
      "[DEBUG] time:1496114617.31537890 pid:28091 pn:Process-2  tid:1996107776 tn:MainThread fn:write8     Wrote 0x01 to register 0x09\n"
     ]
    },
    {
     "name": "stdout",
     "output_type": "stream",
     "text": [
      "('control: ', 2)\n"
     ]
    },
    {
     "name": "stderr",
     "output_type": "stream",
     "text": [
      "[DEBUG] time:1496114617.38107800 pid:28091 pn:Process-2  tid:1996107776 tn:MainThread fn:write8     Wrote 0x00 to register 0x06\n",
      "[DEBUG] time:1496114617.38622689 pid:28091 pn:Process-2  tid:1996107776 tn:MainThread fn:write8     Wrote 0x00 to register 0x07\n",
      "[DEBUG] time:1496114617.39084411 pid:28091 pn:Process-2  tid:1996107776 tn:MainThread fn:write8     Wrote 0x77 to register 0x08\n",
      "[DEBUG] time:1496114617.39552903 pid:28091 pn:Process-2  tid:1996107776 tn:MainThread fn:write8     Wrote 0x01 to register 0x09\n"
     ]
    },
    {
     "name": "stdout",
     "output_type": "stream",
     "text": [
      "('control: ', 2)\n"
     ]
    },
    {
     "name": "stderr",
     "output_type": "stream",
     "text": [
      "[DEBUG] time:1496114617.45638490 pid:28091 pn:Process-2  tid:1996107776 tn:MainThread fn:write8     Wrote 0x00 to register 0x06\n",
      "[DEBUG] time:1496114617.46105504 pid:28091 pn:Process-2  tid:1996107776 tn:MainThread fn:write8     Wrote 0x00 to register 0x07\n",
      "[DEBUG] time:1496114617.46584010 pid:28091 pn:Process-2  tid:1996107776 tn:MainThread fn:write8     Wrote 0x77 to register 0x08\n",
      "[DEBUG] time:1496114617.47045708 pid:28091 pn:Process-2  tid:1996107776 tn:MainThread fn:write8     Wrote 0x01 to register 0x09\n"
     ]
    },
    {
     "name": "stdout",
     "output_type": "stream",
     "text": [
      "('control: ', 2)\n"
     ]
    },
    {
     "name": "stderr",
     "output_type": "stream",
     "text": [
      "[DEBUG] time:1496114617.53158212 pid:28091 pn:Process-2  tid:1996107776 tn:MainThread fn:write8     Wrote 0x00 to register 0x06\n",
      "[DEBUG] time:1496114617.53631306 pid:28091 pn:Process-2  tid:1996107776 tn:MainThread fn:write8     Wrote 0x00 to register 0x07\n",
      "[DEBUG] time:1496114617.54095793 pid:28091 pn:Process-2  tid:1996107776 tn:MainThread fn:write8     Wrote 0x77 to register 0x08\n",
      "[DEBUG] time:1496114617.54570007 pid:28091 pn:Process-2  tid:1996107776 tn:MainThread fn:write8     Wrote 0x01 to register 0x09\n"
     ]
    },
    {
     "name": "stdout",
     "output_type": "stream",
     "text": [
      "('control: ', 2)\n"
     ]
    },
    {
     "name": "stderr",
     "output_type": "stream",
     "text": [
      "[DEBUG] time:1496114617.61211801 pid:28091 pn:Process-2  tid:1996107776 tn:MainThread fn:write8     Wrote 0x00 to register 0x06\n",
      "[DEBUG] time:1496114617.62027788 pid:28091 pn:Process-2  tid:1996107776 tn:MainThread fn:write8     Wrote 0x00 to register 0x07\n",
      "[DEBUG] time:1496114617.62850809 pid:28091 pn:Process-2  tid:1996107776 tn:MainThread fn:write8     Wrote 0x77 to register 0x08\n",
      "[DEBUG] time:1496114617.63673997 pid:28091 pn:Process-2  tid:1996107776 tn:MainThread fn:write8     Wrote 0x01 to register 0x09\n"
     ]
    },
    {
     "name": "stdout",
     "output_type": "stream",
     "text": [
      "('control: ', 1)\n"
     ]
    },
    {
     "name": "stderr",
     "output_type": "stream",
     "text": [
      "[DEBUG] time:1496114617.70364809 pid:28091 pn:Process-2  tid:1996107776 tn:MainThread fn:write8     Wrote 0x00 to register 0x06\n",
      "[DEBUG] time:1496114617.70883489 pid:28091 pn:Process-2  tid:1996107776 tn:MainThread fn:write8     Wrote 0x00 to register 0x07\n",
      "[DEBUG] time:1496114617.71402502 pid:28091 pn:Process-2  tid:1996107776 tn:MainThread fn:write8     Wrote 0x4A to register 0x08\n",
      "[DEBUG] time:1496114617.71867990 pid:28091 pn:Process-2  tid:1996107776 tn:MainThread fn:write8     Wrote 0x01 to register 0x09\n"
     ]
    },
    {
     "name": "stdout",
     "output_type": "stream",
     "text": [
      "('control: ', 2)\n"
     ]
    },
    {
     "name": "stderr",
     "output_type": "stream",
     "text": [
      "[DEBUG] time:1496114617.78020310 pid:28091 pn:Process-2  tid:1996107776 tn:MainThread fn:write8     Wrote 0x00 to register 0x06\n",
      "[DEBUG] time:1496114617.78493690 pid:28091 pn:Process-2  tid:1996107776 tn:MainThread fn:write8     Wrote 0x00 to register 0x07\n",
      "[DEBUG] time:1496114617.79003406 pid:28091 pn:Process-2  tid:1996107776 tn:MainThread fn:write8     Wrote 0x77 to register 0x08\n",
      "[DEBUG] time:1496114617.79553199 pid:28091 pn:Process-2  tid:1996107776 tn:MainThread fn:write8     Wrote 0x01 to register 0x09\n"
     ]
    },
    {
     "name": "stdout",
     "output_type": "stream",
     "text": [
      "('control: ', 1)\n"
     ]
    },
    {
     "name": "stderr",
     "output_type": "stream",
     "text": [
      "[DEBUG] time:1496114617.85602999 pid:28091 pn:Process-2  tid:1996107776 tn:MainThread fn:write8     Wrote 0x00 to register 0x06\n",
      "[DEBUG] time:1496114617.86064100 pid:28091 pn:Process-2  tid:1996107776 tn:MainThread fn:write8     Wrote 0x00 to register 0x07\n",
      "[DEBUG] time:1496114617.86540389 pid:28091 pn:Process-2  tid:1996107776 tn:MainThread fn:write8     Wrote 0x4A to register 0x08\n",
      "[DEBUG] time:1496114617.87019801 pid:28091 pn:Process-2  tid:1996107776 tn:MainThread fn:write8     Wrote 0x01 to register 0x09\n"
     ]
    },
    {
     "name": "stdout",
     "output_type": "stream",
     "text": [
      "('control: ', 1)\n"
     ]
    },
    {
     "name": "stderr",
     "output_type": "stream",
     "text": [
      "[DEBUG] time:1496114617.93124604 pid:28091 pn:Process-2  tid:1996107776 tn:MainThread fn:write8     Wrote 0x00 to register 0x06\n",
      "[DEBUG] time:1496114617.93598199 pid:28091 pn:Process-2  tid:1996107776 tn:MainThread fn:write8     Wrote 0x00 to register 0x07\n",
      "[DEBUG] time:1496114617.94066501 pid:28091 pn:Process-2  tid:1996107776 tn:MainThread fn:write8     Wrote 0x4A to register 0x08\n",
      "[DEBUG] time:1496114617.94582105 pid:28091 pn:Process-2  tid:1996107776 tn:MainThread fn:write8     Wrote 0x01 to register 0x09\n"
     ]
    },
    {
     "name": "stdout",
     "output_type": "stream",
     "text": [
      "('control: ', 2)\n"
     ]
    },
    {
     "name": "stderr",
     "output_type": "stream",
     "text": [
      "[DEBUG] time:1496114618.00756502 pid:28091 pn:Process-2  tid:1996107776 tn:MainThread fn:write8     Wrote 0x00 to register 0x06\n",
      "[DEBUG] time:1496114618.01215601 pid:28091 pn:Process-2  tid:1996107776 tn:MainThread fn:write8     Wrote 0x00 to register 0x07\n",
      "[DEBUG] time:1496114618.01703310 pid:28091 pn:Process-2  tid:1996107776 tn:MainThread fn:write8     Wrote 0x77 to register 0x08\n",
      "[DEBUG] time:1496114618.02164793 pid:28091 pn:Process-2  tid:1996107776 tn:MainThread fn:write8     Wrote 0x01 to register 0x09\n"
     ]
    },
    {
     "name": "stdout",
     "output_type": "stream",
     "text": [
      "('control: ', 1)\n"
     ]
    },
    {
     "name": "stderr",
     "output_type": "stream",
     "text": [
      "[DEBUG] time:1496114618.08212709 pid:28091 pn:Process-2  tid:1996107776 tn:MainThread fn:write8     Wrote 0x00 to register 0x06\n",
      "[DEBUG] time:1496114618.08686709 pid:28091 pn:Process-2  tid:1996107776 tn:MainThread fn:write8     Wrote 0x00 to register 0x07\n",
      "[DEBUG] time:1496114618.09159899 pid:28091 pn:Process-2  tid:1996107776 tn:MainThread fn:write8     Wrote 0x4A to register 0x08\n",
      "[DEBUG] time:1496114618.09640694 pid:28091 pn:Process-2  tid:1996107776 tn:MainThread fn:write8     Wrote 0x01 to register 0x09\n"
     ]
    },
    {
     "name": "stdout",
     "output_type": "stream",
     "text": [
      "('control: ', 2)\n"
     ]
    },
    {
     "name": "stderr",
     "output_type": "stream",
     "text": [
      "[DEBUG] time:1496114618.15814996 pid:28091 pn:Process-2  tid:1996107776 tn:MainThread fn:write8     Wrote 0x00 to register 0x06\n",
      "[DEBUG] time:1496114618.16280389 pid:28091 pn:Process-2  tid:1996107776 tn:MainThread fn:write8     Wrote 0x00 to register 0x07\n",
      "[DEBUG] time:1496114618.16794896 pid:28091 pn:Process-2  tid:1996107776 tn:MainThread fn:write8     Wrote 0x77 to register 0x08\n",
      "[DEBUG] time:1496114618.17247701 pid:28091 pn:Process-2  tid:1996107776 tn:MainThread fn:write8     Wrote 0x01 to register 0x09\n"
     ]
    },
    {
     "name": "stdout",
     "output_type": "stream",
     "text": [
      "('control: ', 2)\n"
     ]
    },
    {
     "name": "stderr",
     "output_type": "stream",
     "text": [
      "[DEBUG] time:1496114618.23304296 pid:28091 pn:Process-2  tid:1996107776 tn:MainThread fn:write8     Wrote 0x00 to register 0x06\n",
      "[DEBUG] time:1496114618.23779106 pid:28091 pn:Process-2  tid:1996107776 tn:MainThread fn:write8     Wrote 0x00 to register 0x07\n",
      "[DEBUG] time:1496114618.24254608 pid:28091 pn:Process-2  tid:1996107776 tn:MainThread fn:write8     Wrote 0x77 to register 0x08\n",
      "[DEBUG] time:1496114618.24751210 pid:28091 pn:Process-2  tid:1996107776 tn:MainThread fn:write8     Wrote 0x01 to register 0x09\n"
     ]
    },
    {
     "name": "stdout",
     "output_type": "stream",
     "text": [
      "('control: ', 1)\n"
     ]
    },
    {
     "name": "stderr",
     "output_type": "stream",
     "text": [
      "[DEBUG] time:1496114618.30968189 pid:28091 pn:Process-2  tid:1996107776 tn:MainThread fn:write8     Wrote 0x00 to register 0x06\n",
      "[DEBUG] time:1496114618.31487989 pid:28091 pn:Process-2  tid:1996107776 tn:MainThread fn:write8     Wrote 0x00 to register 0x07\n",
      "[DEBUG] time:1496114618.31995201 pid:28091 pn:Process-2  tid:1996107776 tn:MainThread fn:write8     Wrote 0x4A to register 0x08\n",
      "[DEBUG] time:1496114618.32473111 pid:28091 pn:Process-2  tid:1996107776 tn:MainThread fn:write8     Wrote 0x01 to register 0x09\n"
     ]
    },
    {
     "name": "stdout",
     "output_type": "stream",
     "text": [
      "('control: ', 1)\n"
     ]
    },
    {
     "name": "stderr",
     "output_type": "stream",
     "text": [
      "[DEBUG] time:1496114618.38694191 pid:28091 pn:Process-2  tid:1996107776 tn:MainThread fn:write8     Wrote 0x00 to register 0x06\n",
      "[DEBUG] time:1496114618.39202595 pid:28091 pn:Process-2  tid:1996107776 tn:MainThread fn:write8     Wrote 0x00 to register 0x07\n",
      "[DEBUG] time:1496114618.39667201 pid:28091 pn:Process-2  tid:1996107776 tn:MainThread fn:write8     Wrote 0x4A to register 0x08\n",
      "[DEBUG] time:1496114618.40237498 pid:28091 pn:Process-2  tid:1996107776 tn:MainThread fn:write8     Wrote 0x01 to register 0x09\n"
     ]
    },
    {
     "name": "stdout",
     "output_type": "stream",
     "text": [
      "('control: ', 1)\n"
     ]
    },
    {
     "name": "stderr",
     "output_type": "stream",
     "text": [
      "[DEBUG] time:1496114618.46310210 pid:28091 pn:Process-2  tid:1996107776 tn:MainThread fn:write8     Wrote 0x00 to register 0x06\n",
      "[DEBUG] time:1496114618.46783590 pid:28091 pn:Process-2  tid:1996107776 tn:MainThread fn:write8     Wrote 0x00 to register 0x07\n",
      "[DEBUG] time:1496114618.47263598 pid:28091 pn:Process-2  tid:1996107776 tn:MainThread fn:write8     Wrote 0x4A to register 0x08\n",
      "[DEBUG] time:1496114618.47864890 pid:28091 pn:Process-2  tid:1996107776 tn:MainThread fn:write8     Wrote 0x01 to register 0x09\n"
     ]
    },
    {
     "name": "stdout",
     "output_type": "stream",
     "text": [
      "('control: ', 1)\n"
     ]
    },
    {
     "name": "stderr",
     "output_type": "stream",
     "text": [
      "[DEBUG] time:1496114618.53950906 pid:28091 pn:Process-2  tid:1996107776 tn:MainThread fn:write8     Wrote 0x00 to register 0x06\n",
      "[DEBUG] time:1496114618.54419303 pid:28091 pn:Process-2  tid:1996107776 tn:MainThread fn:write8     Wrote 0x00 to register 0x07\n",
      "[DEBUG] time:1496114618.54887605 pid:28091 pn:Process-2  tid:1996107776 tn:MainThread fn:write8     Wrote 0x4A to register 0x08\n",
      "[DEBUG] time:1496114618.55436206 pid:28091 pn:Process-2  tid:1996107776 tn:MainThread fn:write8     Wrote 0x01 to register 0x09\n"
     ]
    },
    {
     "name": "stdout",
     "output_type": "stream",
     "text": [
      "('control: ', 1)\n"
     ]
    },
    {
     "name": "stderr",
     "output_type": "stream",
     "text": [
      "[DEBUG] time:1496114618.61835003 pid:28091 pn:Process-2  tid:1996107776 tn:MainThread fn:write8     Wrote 0x00 to register 0x06\n",
      "[DEBUG] time:1496114618.62341404 pid:28091 pn:Process-2  tid:1996107776 tn:MainThread fn:write8     Wrote 0x00 to register 0x07\n",
      "[DEBUG] time:1496114618.62852097 pid:28091 pn:Process-2  tid:1996107776 tn:MainThread fn:write8     Wrote 0x4A to register 0x08\n",
      "[DEBUG] time:1496114618.63437796 pid:28091 pn:Process-2  tid:1996107776 tn:MainThread fn:write8     Wrote 0x01 to register 0x09\n"
     ]
    },
    {
     "name": "stdout",
     "output_type": "stream",
     "text": [
      "('control: ', 1)\n"
     ]
    },
    {
     "name": "stderr",
     "output_type": "stream",
     "text": [
      "[DEBUG] time:1496114618.69532490 pid:28091 pn:Process-2  tid:1996107776 tn:MainThread fn:write8     Wrote 0x00 to register 0x06\n",
      "[DEBUG] time:1496114618.70110798 pid:28091 pn:Process-2  tid:1996107776 tn:MainThread fn:write8     Wrote 0x00 to register 0x07\n",
      "[DEBUG] time:1496114618.70651793 pid:28091 pn:Process-2  tid:1996107776 tn:MainThread fn:write8     Wrote 0x4A to register 0x08\n",
      "[DEBUG] time:1496114618.71174598 pid:28091 pn:Process-2  tid:1996107776 tn:MainThread fn:write8     Wrote 0x01 to register 0x09\n"
     ]
    },
    {
     "name": "stdout",
     "output_type": "stream",
     "text": [
      "('control: ', 2)\n"
     ]
    },
    {
     "name": "stderr",
     "output_type": "stream",
     "text": [
      "[DEBUG] time:1496114618.77296901 pid:28091 pn:Process-2  tid:1996107776 tn:MainThread fn:write8     Wrote 0x00 to register 0x06\n",
      "[DEBUG] time:1496114618.77792406 pid:28091 pn:Process-2  tid:1996107776 tn:MainThread fn:write8     Wrote 0x00 to register 0x07\n",
      "[DEBUG] time:1496114618.78278995 pid:28091 pn:Process-2  tid:1996107776 tn:MainThread fn:write8     Wrote 0x77 to register 0x08\n",
      "[DEBUG] time:1496114618.78770804 pid:28091 pn:Process-2  tid:1996107776 tn:MainThread fn:write8     Wrote 0x01 to register 0x09\n"
     ]
    },
    {
     "name": "stdout",
     "output_type": "stream",
     "text": [
      "('control: ', 1)\n"
     ]
    },
    {
     "name": "stderr",
     "output_type": "stream",
     "text": [
      "[DEBUG] time:1496114618.84819603 pid:28091 pn:Process-2  tid:1996107776 tn:MainThread fn:write8     Wrote 0x00 to register 0x06\n",
      "[DEBUG] time:1496114618.85292006 pid:28091 pn:Process-2  tid:1996107776 tn:MainThread fn:write8     Wrote 0x00 to register 0x07\n",
      "[DEBUG] time:1496114618.85806394 pid:28091 pn:Process-2  tid:1996107776 tn:MainThread fn:write8     Wrote 0x4A to register 0x08\n",
      "[DEBUG] time:1496114618.86277509 pid:28091 pn:Process-2  tid:1996107776 tn:MainThread fn:write8     Wrote 0x01 to register 0x09\n"
     ]
    },
    {
     "name": "stdout",
     "output_type": "stream",
     "text": [
      "('control: ', 1)\n"
     ]
    },
    {
     "name": "stderr",
     "output_type": "stream",
     "text": [
      "[DEBUG] time:1496114618.92446589 pid:28091 pn:Process-2  tid:1996107776 tn:MainThread fn:write8     Wrote 0x00 to register 0x06\n",
      "[DEBUG] time:1496114618.93013597 pid:28091 pn:Process-2  tid:1996107776 tn:MainThread fn:write8     Wrote 0x00 to register 0x07\n",
      "[DEBUG] time:1496114618.93545008 pid:28091 pn:Process-2  tid:1996107776 tn:MainThread fn:write8     Wrote 0x4A to register 0x08\n",
      "[DEBUG] time:1496114618.94059110 pid:28091 pn:Process-2  tid:1996107776 tn:MainThread fn:write8     Wrote 0x01 to register 0x09\n"
     ]
    },
    {
     "name": "stdout",
     "output_type": "stream",
     "text": [
      "('control: ', 2)\n"
     ]
    },
    {
     "name": "stderr",
     "output_type": "stream",
     "text": [
      "[DEBUG] time:1496114619.00165606 pid:28091 pn:Process-2  tid:1996107776 tn:MainThread fn:write8     Wrote 0x00 to register 0x06\n",
      "[DEBUG] time:1496114619.00679898 pid:28091 pn:Process-2  tid:1996107776 tn:MainThread fn:write8     Wrote 0x00 to register 0x07\n",
      "[DEBUG] time:1496114619.01190305 pid:28091 pn:Process-2  tid:1996107776 tn:MainThread fn:write8     Wrote 0x77 to register 0x08\n",
      "[DEBUG] time:1496114619.01682711 pid:28091 pn:Process-2  tid:1996107776 tn:MainThread fn:write8     Wrote 0x01 to register 0x09\n"
     ]
    },
    {
     "name": "stdout",
     "output_type": "stream",
     "text": [
      "('control: ', 2)\n"
     ]
    },
    {
     "name": "stderr",
     "output_type": "stream",
     "text": [
      "[DEBUG] time:1496114619.07793999 pid:28091 pn:Process-2  tid:1996107776 tn:MainThread fn:write8     Wrote 0x00 to register 0x06\n",
      "[DEBUG] time:1496114619.08344507 pid:28091 pn:Process-2  tid:1996107776 tn:MainThread fn:write8     Wrote 0x00 to register 0x07\n",
      "[DEBUG] time:1496114619.08844304 pid:28091 pn:Process-2  tid:1996107776 tn:MainThread fn:write8     Wrote 0x77 to register 0x08\n",
      "[DEBUG] time:1496114619.09361506 pid:28091 pn:Process-2  tid:1996107776 tn:MainThread fn:write8     Wrote 0x01 to register 0x09\n"
     ]
    },
    {
     "name": "stdout",
     "output_type": "stream",
     "text": [
      "('control: ', 1)\n"
     ]
    },
    {
     "name": "stderr",
     "output_type": "stream",
     "text": [
      "[DEBUG] time:1496114619.15457606 pid:28091 pn:Process-2  tid:1996107776 tn:MainThread fn:write8     Wrote 0x00 to register 0x06\n",
      "[DEBUG] time:1496114619.15952611 pid:28091 pn:Process-2  tid:1996107776 tn:MainThread fn:write8     Wrote 0x00 to register 0x07\n",
      "[DEBUG] time:1496114619.16513491 pid:28091 pn:Process-2  tid:1996107776 tn:MainThread fn:write8     Wrote 0x4A to register 0x08\n",
      "[DEBUG] time:1496114619.17003489 pid:28091 pn:Process-2  tid:1996107776 tn:MainThread fn:write8     Wrote 0x01 to register 0x09\n"
     ]
    },
    {
     "name": "stdout",
     "output_type": "stream",
     "text": [
      "('control: ', 2)\n"
     ]
    },
    {
     "name": "stderr",
     "output_type": "stream",
     "text": [
      "[DEBUG] time:1496114619.23214889 pid:28091 pn:Process-2  tid:1996107776 tn:MainThread fn:write8     Wrote 0x00 to register 0x06\n",
      "[DEBUG] time:1496114619.23719096 pid:28091 pn:Process-2  tid:1996107776 tn:MainThread fn:write8     Wrote 0x00 to register 0x07\n",
      "[DEBUG] time:1496114619.24220610 pid:28091 pn:Process-2  tid:1996107776 tn:MainThread fn:write8     Wrote 0x77 to register 0x08\n",
      "[DEBUG] time:1496114619.24724197 pid:28091 pn:Process-2  tid:1996107776 tn:MainThread fn:write8     Wrote 0x01 to register 0x09\n"
     ]
    },
    {
     "name": "stdout",
     "output_type": "stream",
     "text": [
      "('control: ', 1)\n"
     ]
    },
    {
     "name": "stderr",
     "output_type": "stream",
     "text": [
      "[DEBUG] time:1496114619.30815196 pid:28091 pn:Process-2  tid:1996107776 tn:MainThread fn:write8     Wrote 0x00 to register 0x06\n",
      "[DEBUG] time:1496114619.31317091 pid:28091 pn:Process-2  tid:1996107776 tn:MainThread fn:write8     Wrote 0x00 to register 0x07\n",
      "[DEBUG] time:1496114619.31814289 pid:28091 pn:Process-2  tid:1996107776 tn:MainThread fn:write8     Wrote 0x4A to register 0x08\n",
      "[DEBUG] time:1496114619.32330298 pid:28091 pn:Process-2  tid:1996107776 tn:MainThread fn:write8     Wrote 0x01 to register 0x09\n"
     ]
    },
    {
     "name": "stdout",
     "output_type": "stream",
     "text": [
      "('control: ', 2)\n"
     ]
    },
    {
     "name": "stderr",
     "output_type": "stream",
     "text": [
      "[DEBUG] time:1496114619.38499498 pid:28091 pn:Process-2  tid:1996107776 tn:MainThread fn:write8     Wrote 0x00 to register 0x06\n",
      "[DEBUG] time:1496114619.38981700 pid:28091 pn:Process-2  tid:1996107776 tn:MainThread fn:write8     Wrote 0x00 to register 0x07\n",
      "[DEBUG] time:1496114619.39495611 pid:28091 pn:Process-2  tid:1996107776 tn:MainThread fn:write8     Wrote 0x77 to register 0x08\n",
      "[DEBUG] time:1496114619.39940095 pid:28091 pn:Process-2  tid:1996107776 tn:MainThread fn:write8     Wrote 0x01 to register 0x09\n"
     ]
    },
    {
     "name": "stdout",
     "output_type": "stream",
     "text": [
      "('control: ', 2)\n"
     ]
    },
    {
     "name": "stderr",
     "output_type": "stream",
     "text": [
      "[DEBUG] time:1496114619.46014690 pid:28091 pn:Process-2  tid:1996107776 tn:MainThread fn:write8     Wrote 0x00 to register 0x06\n",
      "[DEBUG] time:1496114619.46601391 pid:28091 pn:Process-2  tid:1996107776 tn:MainThread fn:write8     Wrote 0x00 to register 0x07\n",
      "[DEBUG] time:1496114619.47109890 pid:28091 pn:Process-2  tid:1996107776 tn:MainThread fn:write8     Wrote 0x77 to register 0x08\n",
      "[DEBUG] time:1496114619.47632909 pid:28091 pn:Process-2  tid:1996107776 tn:MainThread fn:write8     Wrote 0x01 to register 0x09\n"
     ]
    },
    {
     "name": "stdout",
     "output_type": "stream",
     "text": [
      "('control: ', 1)\n"
     ]
    },
    {
     "name": "stderr",
     "output_type": "stream",
     "text": [
      "[DEBUG] time:1496114619.53717208 pid:28091 pn:Process-2  tid:1996107776 tn:MainThread fn:write8     Wrote 0x00 to register 0x06\n",
      "[DEBUG] time:1496114619.54277706 pid:28091 pn:Process-2  tid:1996107776 tn:MainThread fn:write8     Wrote 0x00 to register 0x07\n",
      "[DEBUG] time:1496114619.54809499 pid:28091 pn:Process-2  tid:1996107776 tn:MainThread fn:write8     Wrote 0x4A to register 0x08\n",
      "[DEBUG] time:1496114619.55287695 pid:28091 pn:Process-2  tid:1996107776 tn:MainThread fn:write8     Wrote 0x01 to register 0x09\n"
     ]
    },
    {
     "name": "stdout",
     "output_type": "stream",
     "text": [
      "('control: ', 2)\n"
     ]
    },
    {
     "name": "stderr",
     "output_type": "stream",
     "text": [
      "[DEBUG] time:1496114619.61507893 pid:28091 pn:Process-2  tid:1996107776 tn:MainThread fn:write8     Wrote 0x00 to register 0x06\n",
      "[DEBUG] time:1496114619.62005401 pid:28091 pn:Process-2  tid:1996107776 tn:MainThread fn:write8     Wrote 0x00 to register 0x07\n",
      "[DEBUG] time:1496114619.62500191 pid:28091 pn:Process-2  tid:1996107776 tn:MainThread fn:write8     Wrote 0x77 to register 0x08\n",
      "[DEBUG] time:1496114619.63031697 pid:28091 pn:Process-2  tid:1996107776 tn:MainThread fn:write8     Wrote 0x01 to register 0x09\n"
     ]
    },
    {
     "name": "stdout",
     "output_type": "stream",
     "text": [
      "('control: ', 2)\n"
     ]
    },
    {
     "name": "stderr",
     "output_type": "stream",
     "text": [
      "[DEBUG] time:1496114619.69271493 pid:28091 pn:Process-2  tid:1996107776 tn:MainThread fn:write8     Wrote 0x00 to register 0x06\n",
      "[DEBUG] time:1496114619.69771004 pid:28091 pn:Process-2  tid:1996107776 tn:MainThread fn:write8     Wrote 0x00 to register 0x07\n",
      "[DEBUG] time:1496114619.70245004 pid:28091 pn:Process-2  tid:1996107776 tn:MainThread fn:write8     Wrote 0x77 to register 0x08\n",
      "[DEBUG] time:1496114619.70813107 pid:28091 pn:Process-2  tid:1996107776 tn:MainThread fn:write8     Wrote 0x01 to register 0x09\n"
     ]
    },
    {
     "name": "stdout",
     "output_type": "stream",
     "text": [
      "('control: ', 2)\n"
     ]
    },
    {
     "name": "stderr",
     "output_type": "stream",
     "text": [
      "[DEBUG] time:1496114619.76903200 pid:28091 pn:Process-2  tid:1996107776 tn:MainThread fn:write8     Wrote 0x00 to register 0x06\n",
      "[DEBUG] time:1496114619.77412796 pid:28091 pn:Process-2  tid:1996107776 tn:MainThread fn:write8     Wrote 0x00 to register 0x07\n",
      "[DEBUG] time:1496114619.77968788 pid:28091 pn:Process-2  tid:1996107776 tn:MainThread fn:write8     Wrote 0x77 to register 0x08\n",
      "[DEBUG] time:1496114619.78505898 pid:28091 pn:Process-2  tid:1996107776 tn:MainThread fn:write8     Wrote 0x01 to register 0x09\n"
     ]
    },
    {
     "name": "stdout",
     "output_type": "stream",
     "text": [
      "('control: ', 2)\n"
     ]
    },
    {
     "name": "stderr",
     "output_type": "stream",
     "text": [
      "[DEBUG] time:1496114619.85117197 pid:28091 pn:Process-2  tid:1996107776 tn:MainThread fn:write8     Wrote 0x00 to register 0x06\n",
      "[DEBUG] time:1496114619.85684490 pid:28091 pn:Process-2  tid:1996107776 tn:MainThread fn:write8     Wrote 0x00 to register 0x07\n",
      "[DEBUG] time:1496114619.86197996 pid:28091 pn:Process-2  tid:1996107776 tn:MainThread fn:write8     Wrote 0x77 to register 0x08\n",
      "[DEBUG] time:1496114619.86791205 pid:28091 pn:Process-2  tid:1996107776 tn:MainThread fn:write8     Wrote 0x01 to register 0x09\n"
     ]
    },
    {
     "name": "stdout",
     "output_type": "stream",
     "text": [
      "('control: ', 2)\n"
     ]
    },
    {
     "name": "stderr",
     "output_type": "stream",
     "text": [
      "[DEBUG] time:1496114619.92903209 pid:28091 pn:Process-2  tid:1996107776 tn:MainThread fn:write8     Wrote 0x00 to register 0x06\n",
      "[DEBUG] time:1496114619.93407202 pid:28091 pn:Process-2  tid:1996107776 tn:MainThread fn:write8     Wrote 0x00 to register 0x07\n",
      "[DEBUG] time:1496114619.93914604 pid:28091 pn:Process-2  tid:1996107776 tn:MainThread fn:write8     Wrote 0x77 to register 0x08\n",
      "[DEBUG] time:1496114619.95063996 pid:28091 pn:Process-2  tid:1996107776 tn:MainThread fn:write8     Wrote 0x01 to register 0x09\n"
     ]
    },
    {
     "name": "stdout",
     "output_type": "stream",
     "text": [
      "('control: ', 2)\n"
     ]
    },
    {
     "name": "stderr",
     "output_type": "stream",
     "text": [
      "[DEBUG] time:1496114620.01274800 pid:28091 pn:Process-2  tid:1996107776 tn:MainThread fn:write8     Wrote 0x00 to register 0x06\n",
      "[DEBUG] time:1496114620.01784992 pid:28091 pn:Process-2  tid:1996107776 tn:MainThread fn:write8     Wrote 0x00 to register 0x07\n",
      "[DEBUG] time:1496114620.02825499 pid:28091 pn:Process-2  tid:1996107776 tn:MainThread fn:write8     Wrote 0x77 to register 0x08\n",
      "[DEBUG] time:1496114620.03296804 pid:28091 pn:Process-2  tid:1996107776 tn:MainThread fn:write8     Wrote 0x01 to register 0x09\n"
     ]
    },
    {
     "name": "stdout",
     "output_type": "stream",
     "text": [
      "('control: ', 1)\n"
     ]
    },
    {
     "name": "stderr",
     "output_type": "stream",
     "text": [
      "[DEBUG] time:1496114620.09589696 pid:28091 pn:Process-2  tid:1996107776 tn:MainThread fn:write8     Wrote 0x00 to register 0x06\n",
      "[DEBUG] time:1496114620.10228205 pid:28091 pn:Process-2  tid:1996107776 tn:MainThread fn:write8     Wrote 0x00 to register 0x07\n",
      "[DEBUG] time:1496114620.10729599 pid:28091 pn:Process-2  tid:1996107776 tn:MainThread fn:write8     Wrote 0x4A to register 0x08\n",
      "[DEBUG] time:1496114620.11254311 pid:28091 pn:Process-2  tid:1996107776 tn:MainThread fn:write8     Wrote 0x01 to register 0x09\n",
      "[DEBUG] time:1496114620.11834693 pid:28091 pn:Process-2  tid:1996107776 tn:MainThread fn:write8     Wrote 0x00 to register 0x06\n",
      "[DEBUG] time:1496114620.12360001 pid:28091 pn:Process-2  tid:1996107776 tn:MainThread fn:write8     Wrote 0x00 to register 0x07\n",
      "[DEBUG] time:1496114620.12891603 pid:28091 pn:Process-2  tid:1996107776 tn:MainThread fn:write8     Wrote 0x77 to register 0x08\n",
      "[DEBUG] time:1496114620.13416290 pid:28091 pn:Process-2  tid:1996107776 tn:MainThread fn:write8     Wrote 0x01 to register 0x09\n"
     ]
    },
    {
     "name": "stdout",
     "output_type": "stream",
     "text": [
      "('control: ', 2)\n"
     ]
    },
    {
     "name": "stderr",
     "output_type": "stream",
     "text": [
      "[DEBUG] time:1496114620.19543290 pid:28091 pn:Process-2  tid:1996107776 tn:MainThread fn:write8     Wrote 0x00 to register 0x06\n",
      "[DEBUG] time:1496114620.19957495 pid:28091 pn:Process-2  tid:1996107776 tn:MainThread fn:write8     Wrote 0x00 to register 0x07\n",
      "[DEBUG] time:1496114620.20397806 pid:28091 pn:Process-2  tid:1996107776 tn:MainThread fn:write8     Wrote 0x77 to register 0x08\n",
      "[DEBUG] time:1496114620.20850396 pid:28091 pn:Process-2  tid:1996107776 tn:MainThread fn:write8     Wrote 0x01 to register 0x09\n"
     ]
    },
    {
     "name": "stdout",
     "output_type": "stream",
     "text": [
      "('control: ', 2)\n"
     ]
    },
    {
     "name": "stderr",
     "output_type": "stream",
     "text": [
      "[DEBUG] time:1496114620.26951909 pid:28091 pn:Process-2  tid:1996107776 tn:MainThread fn:write8     Wrote 0x00 to register 0x06\n",
      "[DEBUG] time:1496114620.27371407 pid:28091 pn:Process-2  tid:1996107776 tn:MainThread fn:write8     Wrote 0x00 to register 0x07\n",
      "[DEBUG] time:1496114620.27802896 pid:28091 pn:Process-2  tid:1996107776 tn:MainThread fn:write8     Wrote 0x77 to register 0x08\n",
      "[DEBUG] time:1496114620.28396606 pid:28091 pn:Process-2  tid:1996107776 tn:MainThread fn:write8     Wrote 0x01 to register 0x09\n"
     ]
    },
    {
     "name": "stdout",
     "output_type": "stream",
     "text": [
      "('control: ', 1)\n"
     ]
    },
    {
     "name": "stderr",
     "output_type": "stream",
     "text": [
      "[DEBUG] time:1496114620.35190010 pid:28091 pn:Process-2  tid:1996107776 tn:MainThread fn:write8     Wrote 0x00 to register 0x06\n",
      "[DEBUG] time:1496114620.35605311 pid:28091 pn:Process-2  tid:1996107776 tn:MainThread fn:write8     Wrote 0x00 to register 0x07\n",
      "[DEBUG] time:1496114620.36030197 pid:28091 pn:Process-2  tid:1996107776 tn:MainThread fn:write8     Wrote 0x4A to register 0x08\n",
      "[DEBUG] time:1496114620.36468291 pid:28091 pn:Process-2  tid:1996107776 tn:MainThread fn:write8     Wrote 0x01 to register 0x09\n"
     ]
    },
    {
     "name": "stdout",
     "output_type": "stream",
     "text": [
      "('control: ', 2)\n"
     ]
    },
    {
     "name": "stderr",
     "output_type": "stream",
     "text": [
      "[DEBUG] time:1496114620.42787695 pid:28091 pn:Process-2  tid:1996107776 tn:MainThread fn:write8     Wrote 0x00 to register 0x06\n",
      "[DEBUG] time:1496114620.43285203 pid:28091 pn:Process-2  tid:1996107776 tn:MainThread fn:write8     Wrote 0x00 to register 0x07\n",
      "[DEBUG] time:1496114620.43874097 pid:28091 pn:Process-2  tid:1996107776 tn:MainThread fn:write8     Wrote 0x77 to register 0x08\n",
      "[DEBUG] time:1496114620.44316101 pid:28091 pn:Process-2  tid:1996107776 tn:MainThread fn:write8     Wrote 0x01 to register 0x09\n"
     ]
    },
    {
     "name": "stdout",
     "output_type": "stream",
     "text": [
      "('control: ', 2)\n"
     ]
    },
    {
     "name": "stderr",
     "output_type": "stream",
     "text": [
      "[DEBUG] time:1496114620.50472307 pid:28091 pn:Process-2  tid:1996107776 tn:MainThread fn:write8     Wrote 0x00 to register 0x06\n",
      "[DEBUG] time:1496114620.51034188 pid:28091 pn:Process-2  tid:1996107776 tn:MainThread fn:write8     Wrote 0x00 to register 0x07\n",
      "[DEBUG] time:1496114620.51457405 pid:28091 pn:Process-2  tid:1996107776 tn:MainThread fn:write8     Wrote 0x77 to register 0x08\n",
      "[DEBUG] time:1496114620.51875710 pid:28091 pn:Process-2  tid:1996107776 tn:MainThread fn:write8     Wrote 0x01 to register 0x09\n"
     ]
    },
    {
     "name": "stdout",
     "output_type": "stream",
     "text": [
      "('control: ', 2)\n"
     ]
    },
    {
     "name": "stderr",
     "output_type": "stream",
     "text": [
      "[DEBUG] time:1496114620.57917905 pid:28091 pn:Process-2  tid:1996107776 tn:MainThread fn:write8     Wrote 0x00 to register 0x06\n",
      "[DEBUG] time:1496114620.58489203 pid:28091 pn:Process-2  tid:1996107776 tn:MainThread fn:write8     Wrote 0x00 to register 0x07\n",
      "[DEBUG] time:1496114620.58901596 pid:28091 pn:Process-2  tid:1996107776 tn:MainThread fn:write8     Wrote 0x77 to register 0x08\n",
      "[DEBUG] time:1496114620.59325099 pid:28091 pn:Process-2  tid:1996107776 tn:MainThread fn:write8     Wrote 0x01 to register 0x09\n"
     ]
    },
    {
     "name": "stdout",
     "output_type": "stream",
     "text": [
      "('control: ', 1)\n"
     ]
    },
    {
     "name": "stderr",
     "output_type": "stream",
     "text": [
      "[DEBUG] time:1496114620.65326095 pid:28091 pn:Process-2  tid:1996107776 tn:MainThread fn:write8     Wrote 0x00 to register 0x06\n",
      "[DEBUG] time:1496114620.65833211 pid:28091 pn:Process-2  tid:1996107776 tn:MainThread fn:write8     Wrote 0x00 to register 0x07\n",
      "[DEBUG] time:1496114620.66243410 pid:28091 pn:Process-2  tid:1996107776 tn:MainThread fn:write8     Wrote 0x4A to register 0x08\n",
      "[DEBUG] time:1496114620.66827106 pid:28091 pn:Process-2  tid:1996107776 tn:MainThread fn:write8     Wrote 0x01 to register 0x09\n"
     ]
    },
    {
     "name": "stdout",
     "output_type": "stream",
     "text": [
      "('control: ', 2)\n"
     ]
    },
    {
     "name": "stderr",
     "output_type": "stream",
     "text": [
      "[DEBUG] time:1496114620.72858191 pid:28091 pn:Process-2  tid:1996107776 tn:MainThread fn:write8     Wrote 0x00 to register 0x06\n",
      "[DEBUG] time:1496114620.73272204 pid:28091 pn:Process-2  tid:1996107776 tn:MainThread fn:write8     Wrote 0x00 to register 0x07\n",
      "[DEBUG] time:1496114620.73714209 pid:28091 pn:Process-2  tid:1996107776 tn:MainThread fn:write8     Wrote 0x77 to register 0x08\n",
      "[DEBUG] time:1496114620.74262691 pid:28091 pn:Process-2  tid:1996107776 tn:MainThread fn:write8     Wrote 0x01 to register 0x09\n"
     ]
    },
    {
     "name": "stdout",
     "output_type": "stream",
     "text": [
      "('control: ', 1)\n"
     ]
    },
    {
     "name": "stderr",
     "output_type": "stream",
     "text": [
      "[DEBUG] time:1496114620.80412412 pid:28091 pn:Process-2  tid:1996107776 tn:MainThread fn:write8     Wrote 0x00 to register 0x06\n",
      "[DEBUG] time:1496114620.80830002 pid:28091 pn:Process-2  tid:1996107776 tn:MainThread fn:write8     Wrote 0x00 to register 0x07\n",
      "[DEBUG] time:1496114620.81246209 pid:28091 pn:Process-2  tid:1996107776 tn:MainThread fn:write8     Wrote 0x4A to register 0x08\n",
      "[DEBUG] time:1496114620.81750107 pid:28091 pn:Process-2  tid:1996107776 tn:MainThread fn:write8     Wrote 0x01 to register 0x09\n"
     ]
    },
    {
     "name": "stdout",
     "output_type": "stream",
     "text": [
      "('control: ', 1)\n"
     ]
    },
    {
     "name": "stderr",
     "output_type": "stream",
     "text": [
      "[DEBUG] time:1496114620.87930107 pid:28091 pn:Process-2  tid:1996107776 tn:MainThread fn:write8     Wrote 0x00 to register 0x06\n",
      "[DEBUG] time:1496114620.88445091 pid:28091 pn:Process-2  tid:1996107776 tn:MainThread fn:write8     Wrote 0x00 to register 0x07\n",
      "[DEBUG] time:1496114620.88949394 pid:28091 pn:Process-2  tid:1996107776 tn:MainThread fn:write8     Wrote 0x4A to register 0x08\n",
      "[DEBUG] time:1496114620.89470196 pid:28091 pn:Process-2  tid:1996107776 tn:MainThread fn:write8     Wrote 0x01 to register 0x09\n"
     ]
    },
    {
     "name": "stdout",
     "output_type": "stream",
     "text": [
      "('control: ', 2)\n"
     ]
    },
    {
     "name": "stderr",
     "output_type": "stream",
     "text": [
      "[DEBUG] time:1496114620.95725107 pid:28091 pn:Process-2  tid:1996107776 tn:MainThread fn:write8     Wrote 0x00 to register 0x06\n",
      "[DEBUG] time:1496114620.96191907 pid:28091 pn:Process-2  tid:1996107776 tn:MainThread fn:write8     Wrote 0x00 to register 0x07\n",
      "[DEBUG] time:1496114620.96710706 pid:28091 pn:Process-2  tid:1996107776 tn:MainThread fn:write8     Wrote 0x77 to register 0x08\n",
      "[DEBUG] time:1496114620.97253394 pid:28091 pn:Process-2  tid:1996107776 tn:MainThread fn:write8     Wrote 0x01 to register 0x09\n"
     ]
    },
    {
     "name": "stdout",
     "output_type": "stream",
     "text": [
      "('control: ', 1)\n"
     ]
    },
    {
     "name": "stderr",
     "output_type": "stream",
     "text": [
      "[DEBUG] time:1496114621.03506303 pid:28091 pn:Process-2  tid:1996107776 tn:MainThread fn:write8     Wrote 0x00 to register 0x06\n",
      "[DEBUG] time:1496114621.03975105 pid:28091 pn:Process-2  tid:1996107776 tn:MainThread fn:write8     Wrote 0x00 to register 0x07\n",
      "[DEBUG] time:1496114621.04491901 pid:28091 pn:Process-2  tid:1996107776 tn:MainThread fn:write8     Wrote 0x4A to register 0x08\n",
      "[DEBUG] time:1496114621.05004811 pid:28091 pn:Process-2  tid:1996107776 tn:MainThread fn:write8     Wrote 0x01 to register 0x09\n"
     ]
    },
    {
     "name": "stdout",
     "output_type": "stream",
     "text": [
      "('control: ', 1)\n"
     ]
    },
    {
     "name": "stderr",
     "output_type": "stream",
     "text": [
      "[DEBUG] time:1496114621.11210608 pid:28091 pn:Process-2  tid:1996107776 tn:MainThread fn:write8     Wrote 0x00 to register 0x06\n",
      "[DEBUG] time:1496114621.11686707 pid:28091 pn:Process-2  tid:1996107776 tn:MainThread fn:write8     Wrote 0x00 to register 0x07\n",
      "[DEBUG] time:1496114621.12156296 pid:28091 pn:Process-2  tid:1996107776 tn:MainThread fn:write8     Wrote 0x4A to register 0x08\n",
      "[DEBUG] time:1496114621.12719607 pid:28091 pn:Process-2  tid:1996107776 tn:MainThread fn:write8     Wrote 0x01 to register 0x09\n"
     ]
    },
    {
     "name": "stdout",
     "output_type": "stream",
     "text": [
      "('control: ', 1)\n"
     ]
    },
    {
     "name": "stderr",
     "output_type": "stream",
     "text": [
      "[DEBUG] time:1496114621.18888593 pid:28091 pn:Process-2  tid:1996107776 tn:MainThread fn:write8     Wrote 0x00 to register 0x06\n",
      "[DEBUG] time:1496114621.19399405 pid:28091 pn:Process-2  tid:1996107776 tn:MainThread fn:write8     Wrote 0x00 to register 0x07\n",
      "[DEBUG] time:1496114621.19812703 pid:28091 pn:Process-2  tid:1996107776 tn:MainThread fn:write8     Wrote 0x4A to register 0x08\n",
      "[DEBUG] time:1496114621.20404911 pid:28091 pn:Process-2  tid:1996107776 tn:MainThread fn:write8     Wrote 0x01 to register 0x09\n"
     ]
    },
    {
     "name": "stdout",
     "output_type": "stream",
     "text": [
      "('control: ', 1)\n"
     ]
    },
    {
     "name": "stderr",
     "output_type": "stream",
     "text": [
      "[DEBUG] time:1496114621.26565504 pid:28091 pn:Process-2  tid:1996107776 tn:MainThread fn:write8     Wrote 0x00 to register 0x06\n",
      "[DEBUG] time:1496114621.27039504 pid:28091 pn:Process-2  tid:1996107776 tn:MainThread fn:write8     Wrote 0x00 to register 0x07\n",
      "[DEBUG] time:1496114621.27457309 pid:28091 pn:Process-2  tid:1996107776 tn:MainThread fn:write8     Wrote 0x4A to register 0x08\n",
      "[DEBUG] time:1496114621.28049111 pid:28091 pn:Process-2  tid:1996107776 tn:MainThread fn:write8     Wrote 0x01 to register 0x09\n"
     ]
    },
    {
     "name": "stdout",
     "output_type": "stream",
     "text": [
      "('control: ', 1)\n"
     ]
    },
    {
     "name": "stderr",
     "output_type": "stream",
     "text": [
      "[DEBUG] time:1496114621.34333801 pid:28091 pn:Process-2  tid:1996107776 tn:MainThread fn:write8     Wrote 0x00 to register 0x06\n",
      "[DEBUG] time:1496114621.34843397 pid:28091 pn:Process-2  tid:1996107776 tn:MainThread fn:write8     Wrote 0x00 to register 0x07\n",
      "[DEBUG] time:1496114621.35393405 pid:28091 pn:Process-2  tid:1996107776 tn:MainThread fn:write8     Wrote 0x4A to register 0x08\n",
      "[DEBUG] time:1496114621.35918403 pid:28091 pn:Process-2  tid:1996107776 tn:MainThread fn:write8     Wrote 0x01 to register 0x09\n"
     ]
    },
    {
     "name": "stdout",
     "output_type": "stream",
     "text": [
      "('control: ', 1)\n"
     ]
    },
    {
     "name": "stderr",
     "output_type": "stream",
     "text": [
      "[DEBUG] time:1496114621.42073798 pid:28091 pn:Process-2  tid:1996107776 tn:MainThread fn:write8     Wrote 0x00 to register 0x06\n",
      "[DEBUG] time:1496114621.42599797 pid:28091 pn:Process-2  tid:1996107776 tn:MainThread fn:write8     Wrote 0x00 to register 0x07\n",
      "[DEBUG] time:1496114621.43072200 pid:28091 pn:Process-2  tid:1996107776 tn:MainThread fn:write8     Wrote 0x4A to register 0x08\n",
      "[DEBUG] time:1496114621.43561912 pid:28091 pn:Process-2  tid:1996107776 tn:MainThread fn:write8     Wrote 0x01 to register 0x09\n"
     ]
    },
    {
     "name": "stdout",
     "output_type": "stream",
     "text": [
      "('control: ', 1)\n"
     ]
    },
    {
     "name": "stderr",
     "output_type": "stream",
     "text": [
      "[DEBUG] time:1496114621.49802804 pid:28091 pn:Process-2  tid:1996107776 tn:MainThread fn:write8     Wrote 0x00 to register 0x06\n",
      "[DEBUG] time:1496114621.50346208 pid:28091 pn:Process-2  tid:1996107776 tn:MainThread fn:write8     Wrote 0x00 to register 0x07\n",
      "[DEBUG] time:1496114621.50909090 pid:28091 pn:Process-2  tid:1996107776 tn:MainThread fn:write8     Wrote 0x4A to register 0x08\n",
      "[DEBUG] time:1496114621.51412106 pid:28091 pn:Process-2  tid:1996107776 tn:MainThread fn:write8     Wrote 0x01 to register 0x09\n"
     ]
    },
    {
     "name": "stdout",
     "output_type": "stream",
     "text": [
      "('control: ', 1)\n"
     ]
    },
    {
     "name": "stderr",
     "output_type": "stream",
     "text": [
      "[DEBUG] time:1496114621.57545805 pid:28091 pn:Process-2  tid:1996107776 tn:MainThread fn:write8     Wrote 0x00 to register 0x06\n",
      "[DEBUG] time:1496114621.58103395 pid:28091 pn:Process-2  tid:1996107776 tn:MainThread fn:write8     Wrote 0x00 to register 0x07\n",
      "[DEBUG] time:1496114621.58639693 pid:28091 pn:Process-2  tid:1996107776 tn:MainThread fn:write8     Wrote 0x4A to register 0x08\n",
      "[DEBUG] time:1496114621.59197593 pid:28091 pn:Process-2  tid:1996107776 tn:MainThread fn:write8     Wrote 0x01 to register 0x09\n"
     ]
    },
    {
     "name": "stdout",
     "output_type": "stream",
     "text": [
      "('control: ', 1)\n"
     ]
    },
    {
     "name": "stderr",
     "output_type": "stream",
     "text": [
      "[DEBUG] time:1496114621.65938997 pid:28091 pn:Process-2  tid:1996107776 tn:MainThread fn:write8     Wrote 0x00 to register 0x06\n",
      "[DEBUG] time:1496114621.66529012 pid:28091 pn:Process-2  tid:1996107776 tn:MainThread fn:write8     Wrote 0x00 to register 0x07\n",
      "[DEBUG] time:1496114621.67106509 pid:28091 pn:Process-2  tid:1996107776 tn:MainThread fn:write8     Wrote 0x4A to register 0x08\n",
      "[DEBUG] time:1496114621.67765093 pid:28091 pn:Process-2  tid:1996107776 tn:MainThread fn:write8     Wrote 0x01 to register 0x09\n",
      "[DEBUG] time:1496114621.68415594 pid:28091 pn:Process-2  tid:1996107776 tn:MainThread fn:write8     Wrote 0x00 to register 0x06\n",
      "[DEBUG] time:1496114621.68897009 pid:28091 pn:Process-2  tid:1996107776 tn:MainThread fn:write8     Wrote 0x00 to register 0x07\n",
      "[DEBUG] time:1496114621.69387102 pid:28091 pn:Process-2  tid:1996107776 tn:MainThread fn:write8     Wrote 0x77 to register 0x08\n",
      "[DEBUG] time:1496114621.69939590 pid:28091 pn:Process-2  tid:1996107776 tn:MainThread fn:write8     Wrote 0x01 to register 0x09\n"
     ]
    },
    {
     "name": "stdout",
     "output_type": "stream",
     "text": [
      "('control: ', 1)\n"
     ]
    },
    {
     "name": "stderr",
     "output_type": "stream",
     "text": [
      "[DEBUG] time:1496114621.76383305 pid:28091 pn:Process-2  tid:1996107776 tn:MainThread fn:write8     Wrote 0x00 to register 0x06\n",
      "[DEBUG] time:1496114621.76898599 pid:28091 pn:Process-2  tid:1996107776 tn:MainThread fn:write8     Wrote 0x00 to register 0x07\n",
      "[DEBUG] time:1496114621.77466893 pid:28091 pn:Process-2  tid:1996107776 tn:MainThread fn:write8     Wrote 0x4A to register 0x08\n",
      "[DEBUG] time:1496114621.77946711 pid:28091 pn:Process-2  tid:1996107776 tn:MainThread fn:write8     Wrote 0x01 to register 0x09\n"
     ]
    },
    {
     "name": "stdout",
     "output_type": "stream",
     "text": [
      "('control: ', 1)\n"
     ]
    },
    {
     "name": "stderr",
     "output_type": "stream",
     "text": [
      "[DEBUG] time:1496114621.84163904 pid:28091 pn:Process-2  tid:1996107776 tn:MainThread fn:write8     Wrote 0x00 to register 0x06\n",
      "[DEBUG] time:1496114621.84690189 pid:28091 pn:Process-2  tid:1996107776 tn:MainThread fn:write8     Wrote 0x00 to register 0x07\n",
      "[DEBUG] time:1496114621.85174108 pid:28091 pn:Process-2  tid:1996107776 tn:MainThread fn:write8     Wrote 0x4A to register 0x08\n",
      "[DEBUG] time:1496114621.85747290 pid:28091 pn:Process-2  tid:1996107776 tn:MainThread fn:write8     Wrote 0x01 to register 0x09\n"
     ]
    },
    {
     "name": "stdout",
     "output_type": "stream",
     "text": [
      "('control: ', 2)\n"
     ]
    },
    {
     "name": "stderr",
     "output_type": "stream",
     "text": [
      "[DEBUG] time:1496114621.91892695 pid:28091 pn:Process-2  tid:1996107776 tn:MainThread fn:write8     Wrote 0x00 to register 0x06\n",
      "[DEBUG] time:1496114621.92415309 pid:28091 pn:Process-2  tid:1996107776 tn:MainThread fn:write8     Wrote 0x00 to register 0x07\n",
      "[DEBUG] time:1496114621.92949390 pid:28091 pn:Process-2  tid:1996107776 tn:MainThread fn:write8     Wrote 0x77 to register 0x08\n",
      "[DEBUG] time:1496114621.93491602 pid:28091 pn:Process-2  tid:1996107776 tn:MainThread fn:write8     Wrote 0x01 to register 0x09\n"
     ]
    },
    {
     "name": "stdout",
     "output_type": "stream",
     "text": [
      "('control: ', 1)\n"
     ]
    },
    {
     "name": "stderr",
     "output_type": "stream",
     "text": [
      "[DEBUG] time:1496114621.99680805 pid:28091 pn:Process-2  tid:1996107776 tn:MainThread fn:write8     Wrote 0x00 to register 0x06\n",
      "[DEBUG] time:1496114622.00216103 pid:28091 pn:Process-2  tid:1996107776 tn:MainThread fn:write8     Wrote 0x00 to register 0x07\n",
      "[DEBUG] time:1496114622.00775504 pid:28091 pn:Process-2  tid:1996107776 tn:MainThread fn:write8     Wrote 0x4A to register 0x08\n",
      "[DEBUG] time:1496114622.01241398 pid:28091 pn:Process-2  tid:1996107776 tn:MainThread fn:write8     Wrote 0x01 to register 0x09\n"
     ]
    },
    {
     "name": "stdout",
     "output_type": "stream",
     "text": [
      "('control: ', 1)\n"
     ]
    },
    {
     "name": "stderr",
     "output_type": "stream",
     "text": [
      "[DEBUG] time:1496114622.07472491 pid:28091 pn:Process-2  tid:1996107776 tn:MainThread fn:write8     Wrote 0x00 to register 0x06\n",
      "[DEBUG] time:1496114622.07985306 pid:28091 pn:Process-2  tid:1996107776 tn:MainThread fn:write8     Wrote 0x00 to register 0x07\n",
      "[DEBUG] time:1496114622.08527994 pid:28091 pn:Process-2  tid:1996107776 tn:MainThread fn:write8     Wrote 0x4A to register 0x08\n",
      "[DEBUG] time:1496114622.09034610 pid:28091 pn:Process-2  tid:1996107776 tn:MainThread fn:write8     Wrote 0x01 to register 0x09\n"
     ]
    },
    {
     "name": "stdout",
     "output_type": "stream",
     "text": [
      "('control: ', 1)\n"
     ]
    },
    {
     "name": "stderr",
     "output_type": "stream",
     "text": [
      "[DEBUG] time:1496114622.15172195 pid:28091 pn:Process-2  tid:1996107776 tn:MainThread fn:write8     Wrote 0x00 to register 0x06\n",
      "[DEBUG] time:1496114622.15649796 pid:28091 pn:Process-2  tid:1996107776 tn:MainThread fn:write8     Wrote 0x00 to register 0x07\n",
      "[DEBUG] time:1496114622.16156912 pid:28091 pn:Process-2  tid:1996107776 tn:MainThread fn:write8     Wrote 0x4A to register 0x08\n",
      "[DEBUG] time:1496114622.16754293 pid:28091 pn:Process-2  tid:1996107776 tn:MainThread fn:write8     Wrote 0x01 to register 0x09\n"
     ]
    },
    {
     "name": "stdout",
     "output_type": "stream",
     "text": [
      "('control: ', 1)\n"
     ]
    },
    {
     "name": "stderr",
     "output_type": "stream",
     "text": [
      "[DEBUG] time:1496114622.22870111 pid:28091 pn:Process-2  tid:1996107776 tn:MainThread fn:write8     Wrote 0x00 to register 0x06\n",
      "[DEBUG] time:1496114622.23338294 pid:28091 pn:Process-2  tid:1996107776 tn:MainThread fn:write8     Wrote 0x00 to register 0x07\n",
      "[DEBUG] time:1496114622.23871589 pid:28091 pn:Process-2  tid:1996107776 tn:MainThread fn:write8     Wrote 0x4A to register 0x08\n",
      "[DEBUG] time:1496114622.24345589 pid:28091 pn:Process-2  tid:1996107776 tn:MainThread fn:write8     Wrote 0x01 to register 0x09\n"
     ]
    },
    {
     "name": "stdout",
     "output_type": "stream",
     "text": [
      "('control: ', 2)\n"
     ]
    },
    {
     "name": "stderr",
     "output_type": "stream",
     "text": [
      "[DEBUG] time:1496114622.30438495 pid:28091 pn:Process-2  tid:1996107776 tn:MainThread fn:write8     Wrote 0x00 to register 0x06\n",
      "[DEBUG] time:1496114622.30994892 pid:28091 pn:Process-2  tid:1996107776 tn:MainThread fn:write8     Wrote 0x00 to register 0x07\n",
      "[DEBUG] time:1496114622.31476307 pid:28091 pn:Process-2  tid:1996107776 tn:MainThread fn:write8     Wrote 0x77 to register 0x08\n",
      "[DEBUG] time:1496114622.31994390 pid:28091 pn:Process-2  tid:1996107776 tn:MainThread fn:write8     Wrote 0x01 to register 0x09\n"
     ]
    },
    {
     "name": "stdout",
     "output_type": "stream",
     "text": [
      "('control: ', 1)\n"
     ]
    },
    {
     "name": "stderr",
     "output_type": "stream",
     "text": [
      "[DEBUG] time:1496114622.38250089 pid:28091 pn:Process-2  tid:1996107776 tn:MainThread fn:write8     Wrote 0x00 to register 0x06\n",
      "[DEBUG] time:1496114622.38776493 pid:28091 pn:Process-2  tid:1996107776 tn:MainThread fn:write8     Wrote 0x00 to register 0x07\n",
      "[DEBUG] time:1496114622.39310098 pid:28091 pn:Process-2  tid:1996107776 tn:MainThread fn:write8     Wrote 0x4A to register 0x08\n",
      "[DEBUG] time:1496114622.39862108 pid:28091 pn:Process-2  tid:1996107776 tn:MainThread fn:write8     Wrote 0x01 to register 0x09\n"
     ]
    },
    {
     "name": "stdout",
     "output_type": "stream",
     "text": [
      "('control: ', 1)\n"
     ]
    },
    {
     "name": "stderr",
     "output_type": "stream",
     "text": [
      "[DEBUG] time:1496114622.46155691 pid:28091 pn:Process-2  tid:1996107776 tn:MainThread fn:write8     Wrote 0x00 to register 0x06\n",
      "[DEBUG] time:1496114622.46682191 pid:28091 pn:Process-2  tid:1996107776 tn:MainThread fn:write8     Wrote 0x00 to register 0x07\n",
      "[DEBUG] time:1496114622.47215605 pid:28091 pn:Process-2  tid:1996107776 tn:MainThread fn:write8     Wrote 0x4A to register 0x08\n",
      "[DEBUG] time:1496114622.47774005 pid:28091 pn:Process-2  tid:1996107776 tn:MainThread fn:write8     Wrote 0x01 to register 0x09\n"
     ]
    },
    {
     "name": "stdout",
     "output_type": "stream",
     "text": [
      "('control: ', 1)\n"
     ]
    },
    {
     "name": "stderr",
     "output_type": "stream",
     "text": [
      "[DEBUG] time:1496114622.54484296 pid:28091 pn:Process-2  tid:1996107776 tn:MainThread fn:write8     Wrote 0x00 to register 0x06\n",
      "[DEBUG] time:1496114622.55804110 pid:28091 pn:Process-2  tid:1996107776 tn:MainThread fn:write8     Wrote 0x00 to register 0x07\n",
      "[DEBUG] time:1496114622.57124090 pid:28091 pn:Process-2  tid:1996107776 tn:MainThread fn:write8     Wrote 0x4A to register 0x08\n",
      "[DEBUG] time:1496114622.58010006 pid:28091 pn:Process-2  tid:1996107776 tn:MainThread fn:write8     Wrote 0x01 to register 0x09\n"
     ]
    },
    {
     "name": "stdout",
     "output_type": "stream",
     "text": [
      "('control: ', 1)\n"
     ]
    },
    {
     "name": "stderr",
     "output_type": "stream",
     "text": [
      "[DEBUG] time:1496114622.65147209 pid:28091 pn:Process-2  tid:1996107776 tn:MainThread fn:write8     Wrote 0x00 to register 0x06\n",
      "[DEBUG] time:1496114622.66107202 pid:28091 pn:Process-2  tid:1996107776 tn:MainThread fn:write8     Wrote 0x00 to register 0x07\n",
      "[DEBUG] time:1496114622.66819096 pid:28091 pn:Process-2  tid:1996107776 tn:MainThread fn:write8     Wrote 0x4A to register 0x08\n",
      "[DEBUG] time:1496114622.67451692 pid:28091 pn:Process-2  tid:1996107776 tn:MainThread fn:write8     Wrote 0x01 to register 0x09\n"
     ]
    },
    {
     "name": "stdout",
     "output_type": "stream",
     "text": [
      "('control: ', 1)\n"
     ]
    },
    {
     "name": "stderr",
     "output_type": "stream",
     "text": [
      "[DEBUG] time:1496114622.73826408 pid:28091 pn:Process-2  tid:1996107776 tn:MainThread fn:write8     Wrote 0x00 to register 0x06\n",
      "[DEBUG] time:1496114622.74239206 pid:28091 pn:Process-2  tid:1996107776 tn:MainThread fn:write8     Wrote 0x00 to register 0x07\n",
      "[DEBUG] time:1496114622.74668908 pid:28091 pn:Process-2  tid:1996107776 tn:MainThread fn:write8     Wrote 0x4A to register 0x08\n",
      "[DEBUG] time:1496114622.75256109 pid:28091 pn:Process-2  tid:1996107776 tn:MainThread fn:write8     Wrote 0x01 to register 0x09\n"
     ]
    },
    {
     "name": "stdout",
     "output_type": "stream",
     "text": [
      "('control: ', 2)\n"
     ]
    },
    {
     "name": "stderr",
     "output_type": "stream",
     "text": [
      "[DEBUG] time:1496114622.81460190 pid:28091 pn:Process-2  tid:1996107776 tn:MainThread fn:write8     Wrote 0x00 to register 0x06\n",
      "[DEBUG] time:1496114622.81873202 pid:28091 pn:Process-2  tid:1996107776 tn:MainThread fn:write8     Wrote 0x00 to register 0x07\n",
      "[DEBUG] time:1496114622.82291794 pid:28091 pn:Process-2  tid:1996107776 tn:MainThread fn:write8     Wrote 0x77 to register 0x08\n",
      "[DEBUG] time:1496114622.82751703 pid:28091 pn:Process-2  tid:1996107776 tn:MainThread fn:write8     Wrote 0x01 to register 0x09\n"
     ]
    },
    {
     "name": "stdout",
     "output_type": "stream",
     "text": [
      "('control: ', 2)\n"
     ]
    },
    {
     "name": "stderr",
     "output_type": "stream",
     "text": [
      "[DEBUG] time:1496114622.88959408 pid:28091 pn:Process-2  tid:1996107776 tn:MainThread fn:write8     Wrote 0x00 to register 0x06\n",
      "[DEBUG] time:1496114622.89383006 pid:28091 pn:Process-2  tid:1996107776 tn:MainThread fn:write8     Wrote 0x00 to register 0x07\n",
      "[DEBUG] time:1496114622.89811492 pid:28091 pn:Process-2  tid:1996107776 tn:MainThread fn:write8     Wrote 0x77 to register 0x08\n",
      "[DEBUG] time:1496114622.90242791 pid:28091 pn:Process-2  tid:1996107776 tn:MainThread fn:write8     Wrote 0x01 to register 0x09\n"
     ]
    },
    {
     "name": "stdout",
     "output_type": "stream",
     "text": [
      "('control: ', 2)\n"
     ]
    },
    {
     "name": "stderr",
     "output_type": "stream",
     "text": [
      "[DEBUG] time:1496114622.96350288 pid:28091 pn:Process-2  tid:1996107776 tn:MainThread fn:write8     Wrote 0x00 to register 0x06\n",
      "[DEBUG] time:1496114622.96767592 pid:28091 pn:Process-2  tid:1996107776 tn:MainThread fn:write8     Wrote 0x00 to register 0x07\n",
      "[DEBUG] time:1496114622.97204995 pid:28091 pn:Process-2  tid:1996107776 tn:MainThread fn:write8     Wrote 0x77 to register 0x08\n",
      "[DEBUG] time:1496114622.97635508 pid:28091 pn:Process-2  tid:1996107776 tn:MainThread fn:write8     Wrote 0x01 to register 0x09\n"
     ]
    },
    {
     "name": "stdout",
     "output_type": "stream",
     "text": [
      "('control: ', 2)\n"
     ]
    },
    {
     "name": "stderr",
     "output_type": "stream",
     "text": [
      "[DEBUG] time:1496114623.03720188 pid:28091 pn:Process-2  tid:1996107776 tn:MainThread fn:write8     Wrote 0x00 to register 0x06\n",
      "[DEBUG] time:1496114623.04137897 pid:28091 pn:Process-2  tid:1996107776 tn:MainThread fn:write8     Wrote 0x00 to register 0x07\n",
      "[DEBUG] time:1496114623.04574609 pid:28091 pn:Process-2  tid:1996107776 tn:MainThread fn:write8     Wrote 0x4A to register 0x08\n",
      "[DEBUG] time:1496114623.05153394 pid:28091 pn:Process-2  tid:1996107776 tn:MainThread fn:write8     Wrote 0x01 to register 0x09\n"
     ]
    },
    {
     "name": "stdout",
     "output_type": "stream",
     "text": [
      "('control: ', 1)\n"
     ]
    },
    {
     "name": "stderr",
     "output_type": "stream",
     "text": [
      "[DEBUG] time:1496114623.11336589 pid:28091 pn:Process-2  tid:1996107776 tn:MainThread fn:write8     Wrote 0x00 to register 0x06\n",
      "[DEBUG] time:1496114623.11752796 pid:28091 pn:Process-2  tid:1996107776 tn:MainThread fn:write8     Wrote 0x00 to register 0x07\n",
      "[DEBUG] time:1496114623.12179804 pid:28091 pn:Process-2  tid:1996107776 tn:MainThread fn:write8     Wrote 0x4A to register 0x08\n",
      "[DEBUG] time:1496114623.12638497 pid:28091 pn:Process-2  tid:1996107776 tn:MainThread fn:write8     Wrote 0x01 to register 0x09\n"
     ]
    },
    {
     "name": "stdout",
     "output_type": "stream",
     "text": [
      "('control: ', 1)\n"
     ]
    },
    {
     "name": "stderr",
     "output_type": "stream",
     "text": [
      "[DEBUG] time:1496114623.18775797 pid:28091 pn:Process-2  tid:1996107776 tn:MainThread fn:write8     Wrote 0x00 to register 0x06\n",
      "[DEBUG] time:1496114623.19192600 pid:28091 pn:Process-2  tid:1996107776 tn:MainThread fn:write8     Wrote 0x00 to register 0x07\n",
      "[DEBUG] time:1496114623.19630289 pid:28091 pn:Process-2  tid:1996107776 tn:MainThread fn:write8     Wrote 0x4A to register 0x08\n",
      "[DEBUG] time:1496114623.20055008 pid:28091 pn:Process-2  tid:1996107776 tn:MainThread fn:write8     Wrote 0x01 to register 0x09\n"
     ]
    },
    {
     "name": "stdout",
     "output_type": "stream",
     "text": [
      "('control: ', 1)\n"
     ]
    },
    {
     "name": "stderr",
     "output_type": "stream",
     "text": [
      "[DEBUG] time:1496114623.26204109 pid:28091 pn:Process-2  tid:1996107776 tn:MainThread fn:write8     Wrote 0x00 to register 0x06\n",
      "[DEBUG] time:1496114623.26638794 pid:28091 pn:Process-2  tid:1996107776 tn:MainThread fn:write8     Wrote 0x00 to register 0x07\n",
      "[DEBUG] time:1496114623.27069902 pid:28091 pn:Process-2  tid:1996107776 tn:MainThread fn:write8     Wrote 0x4A to register 0x08\n",
      "[DEBUG] time:1496114623.27509999 pid:28091 pn:Process-2  tid:1996107776 tn:MainThread fn:write8     Wrote 0x01 to register 0x09\n"
     ]
    },
    {
     "name": "stdout",
     "output_type": "stream",
     "text": [
      "('control: ', 1)\n"
     ]
    },
    {
     "name": "stderr",
     "output_type": "stream",
     "text": [
      "[DEBUG] time:1496114623.33630610 pid:28091 pn:Process-2  tid:1996107776 tn:MainThread fn:write8     Wrote 0x00 to register 0x06\n",
      "[DEBUG] time:1496114623.34054089 pid:28091 pn:Process-2  tid:1996107776 tn:MainThread fn:write8     Wrote 0x00 to register 0x07\n",
      "[DEBUG] time:1496114623.34483600 pid:28091 pn:Process-2  tid:1996107776 tn:MainThread fn:write8     Wrote 0x4A to register 0x08\n",
      "[DEBUG] time:1496114623.34927201 pid:28091 pn:Process-2  tid:1996107776 tn:MainThread fn:write8     Wrote 0x01 to register 0x09\n"
     ]
    },
    {
     "name": "stdout",
     "output_type": "stream",
     "text": [
      "('control: ', 1)\n"
     ]
    },
    {
     "name": "stderr",
     "output_type": "stream",
     "text": [
      "[DEBUG] time:1496114623.41010094 pid:28091 pn:Process-2  tid:1996107776 tn:MainThread fn:write8     Wrote 0x00 to register 0x06\n",
      "[DEBUG] time:1496114623.41513300 pid:28091 pn:Process-2  tid:1996107776 tn:MainThread fn:write8     Wrote 0x00 to register 0x07\n",
      "[DEBUG] time:1496114623.41930199 pid:28091 pn:Process-2  tid:1996107776 tn:MainThread fn:write8     Wrote 0x4A to register 0x08\n",
      "[DEBUG] time:1496114623.42383909 pid:28091 pn:Process-2  tid:1996107776 tn:MainThread fn:write8     Wrote 0x01 to register 0x09\n"
     ]
    },
    {
     "name": "stdout",
     "output_type": "stream",
     "text": [
      "('control: ', 1)\n"
     ]
    },
    {
     "name": "stderr",
     "output_type": "stream",
     "text": [
      "[DEBUG] time:1496114623.48673201 pid:28091 pn:Process-2  tid:1996107776 tn:MainThread fn:write8     Wrote 0x00 to register 0x06\n",
      "[DEBUG] time:1496114623.49090910 pid:28091 pn:Process-2  tid:1996107776 tn:MainThread fn:write8     Wrote 0x00 to register 0x07\n",
      "[DEBUG] time:1496114623.49668694 pid:28091 pn:Process-2  tid:1996107776 tn:MainThread fn:write8     Wrote 0x4A to register 0x08\n",
      "[DEBUG] time:1496114623.50211906 pid:28091 pn:Process-2  tid:1996107776 tn:MainThread fn:write8     Wrote 0x01 to register 0x09\n"
     ]
    },
    {
     "name": "stdout",
     "output_type": "stream",
     "text": [
      "('control: ', 2)\n"
     ]
    },
    {
     "name": "stderr",
     "output_type": "stream",
     "text": [
      "[DEBUG] time:1496114623.56473994 pid:28091 pn:Process-2  tid:1996107776 tn:MainThread fn:write8     Wrote 0x00 to register 0x06\n",
      "[DEBUG] time:1496114623.56936502 pid:28091 pn:Process-2  tid:1996107776 tn:MainThread fn:write8     Wrote 0x00 to register 0x07\n",
      "[DEBUG] time:1496114623.57428098 pid:28091 pn:Process-2  tid:1996107776 tn:MainThread fn:write8     Wrote 0x77 to register 0x08\n",
      "[DEBUG] time:1496114623.57932401 pid:28091 pn:Process-2  tid:1996107776 tn:MainThread fn:write8     Wrote 0x01 to register 0x09\n"
     ]
    },
    {
     "name": "stdout",
     "output_type": "stream",
     "text": [
      "('control: ', 1)\n"
     ]
    },
    {
     "name": "stderr",
     "output_type": "stream",
     "text": [
      "[DEBUG] time:1496114623.63986397 pid:28091 pn:Process-2  tid:1996107776 tn:MainThread fn:write8     Wrote 0x00 to register 0x06\n",
      "[DEBUG] time:1496114623.64460492 pid:28091 pn:Process-2  tid:1996107776 tn:MainThread fn:write8     Wrote 0x00 to register 0x07\n",
      "[DEBUG] time:1496114623.64928603 pid:28091 pn:Process-2  tid:1996107776 tn:MainThread fn:write8     Wrote 0x4A to register 0x08\n",
      "[DEBUG] time:1496114623.65497589 pid:28091 pn:Process-2  tid:1996107776 tn:MainThread fn:write8     Wrote 0x01 to register 0x09\n"
     ]
    },
    {
     "name": "stdout",
     "output_type": "stream",
     "text": [
      "('control: ', 2)\n"
     ]
    },
    {
     "name": "stderr",
     "output_type": "stream",
     "text": [
      "[DEBUG] time:1496114623.71729207 pid:28091 pn:Process-2  tid:1996107776 tn:MainThread fn:write8     Wrote 0x00 to register 0x06\n",
      "[DEBUG] time:1496114623.72241902 pid:28091 pn:Process-2  tid:1996107776 tn:MainThread fn:write8     Wrote 0x00 to register 0x07\n",
      "[DEBUG] time:1496114623.72768807 pid:28091 pn:Process-2  tid:1996107776 tn:MainThread fn:write8     Wrote 0x77 to register 0x08\n",
      "[DEBUG] time:1496114623.73273706 pid:28091 pn:Process-2  tid:1996107776 tn:MainThread fn:write8     Wrote 0x01 to register 0x09\n"
     ]
    },
    {
     "name": "stdout",
     "output_type": "stream",
     "text": [
      "('control: ', 2)\n"
     ]
    },
    {
     "name": "stderr",
     "output_type": "stream",
     "text": [
      "[DEBUG] time:1496114623.79425311 pid:28091 pn:Process-2  tid:1996107776 tn:MainThread fn:write8     Wrote 0x00 to register 0x06\n",
      "[DEBUG] time:1496114623.79930806 pid:28091 pn:Process-2  tid:1996107776 tn:MainThread fn:write8     Wrote 0x00 to register 0x07\n",
      "[DEBUG] time:1496114623.80413008 pid:28091 pn:Process-2  tid:1996107776 tn:MainThread fn:write8     Wrote 0x77 to register 0x08\n",
      "[DEBUG] time:1496114623.80981112 pid:28091 pn:Process-2  tid:1996107776 tn:MainThread fn:write8     Wrote 0x01 to register 0x09\n"
     ]
    },
    {
     "name": "stdout",
     "output_type": "stream",
     "text": [
      "('control: ', 2)\n"
     ]
    },
    {
     "name": "stderr",
     "output_type": "stream",
     "text": [
      "[DEBUG] time:1496114623.87139297 pid:28091 pn:Process-2  tid:1996107776 tn:MainThread fn:write8     Wrote 0x00 to register 0x06\n",
      "[DEBUG] time:1496114623.87611103 pid:28091 pn:Process-2  tid:1996107776 tn:MainThread fn:write8     Wrote 0x00 to register 0x07\n",
      "[DEBUG] time:1496114623.88094211 pid:28091 pn:Process-2  tid:1996107776 tn:MainThread fn:write8     Wrote 0x77 to register 0x08\n",
      "[DEBUG] time:1496114623.88608694 pid:28091 pn:Process-2  tid:1996107776 tn:MainThread fn:write8     Wrote 0x01 to register 0x09\n"
     ]
    },
    {
     "name": "stdout",
     "output_type": "stream",
     "text": [
      "('control: ', 1)\n"
     ]
    },
    {
     "name": "stderr",
     "output_type": "stream",
     "text": [
      "[DEBUG] time:1496114623.94711304 pid:28091 pn:Process-2  tid:1996107776 tn:MainThread fn:write8     Wrote 0x00 to register 0x06\n",
      "[DEBUG] time:1496114623.95217991 pid:28091 pn:Process-2  tid:1996107776 tn:MainThread fn:write8     Wrote 0x00 to register 0x07\n",
      "[DEBUG] time:1496114623.95747399 pid:28091 pn:Process-2  tid:1996107776 tn:MainThread fn:write8     Wrote 0x4A to register 0x08\n",
      "[DEBUG] time:1496114623.96301603 pid:28091 pn:Process-2  tid:1996107776 tn:MainThread fn:write8     Wrote 0x01 to register 0x09\n",
      "[DEBUG] time:1496114624.02020192 pid:28091 pn:Process-2  tid:1996107776 tn:MainThread fn:write8     Wrote 0x00 to register 0x06\n",
      "[DEBUG] time:1496114624.02521706 pid:28091 pn:Process-2  tid:1996107776 tn:MainThread fn:write8     Wrote 0x00 to register 0x07\n",
      "[DEBUG] time:1496114624.03035593 pid:28091 pn:Process-2  tid:1996107776 tn:MainThread fn:write8     Wrote 0x77 to register 0x08\n",
      "[DEBUG] time:1496114624.03515792 pid:28091 pn:Process-2  tid:1996107776 tn:MainThread fn:write8     Wrote 0x01 to register 0x09\n"
     ]
    },
    {
     "name": "stdout",
     "output_type": "stream",
     "text": [
      "end do_stop\n",
      "end do_control\n",
      "end do_prediction\n",
      "executer end\n"
     ]
    }
   ],
   "source": [
    "# coding: utf-8\n",
    "# ラジコン自走コード\n",
    "# pip install futures\n",
    "\n",
    "import time\n",
    "from concurrent import futures\n",
    "import os\n",
    "from multiprocessing import Manager\n",
    "import thread\n",
    "import threading\n",
    "import logging\n",
    "from __future__ import division\n",
    "import Adafruit_PCA9685\n",
    "import smbus\n",
    "import numpy as np\n",
    "import LidarLiteV3\n",
    "import tensorflow as tf\n",
    "\n",
    "\n",
    "# ログ設定\n",
    "logging.basicConfig(level=logging.DEBUG,\n",
    "                    format='[%(levelname)s] time:%(created).8f pid:%(process)d pn:%(processName)-10s tid:%(thread)d tn:%(threadName)-10s fn:%(funcName)-10s %(message)s',\n",
    ")\n",
    "\n",
    "LIDAR_INTERVAL = 0.05\n",
    "\n",
    "'''\n",
    "ステアリング制御クラス\n",
    "'''\n",
    "class SteeringControl():\n",
    "    def __init__(self, calibration=0):\n",
    "        self.CALIBRATION = calibration\n",
    "\n",
    "        self.pwm = Adafruit_PCA9685.PCA9685()\n",
    "        self.pwm.set_pwm_freq(60)\n",
    "\n",
    "        self.HANDLE_NUTRAL = 375 + self.CALIBRATION\n",
    "        #self.HANDLE_MAX_RIGHT = 150\n",
    "        #self.HANDLE_MAX_LEFT = 600\n",
    "\n",
    "        self.MAX_HANDLE_ANGLE = 45\n",
    "        self.HANDLE_RIGHT = self.HANDLE_NUTRAL + self.MAX_HANDLE_ANGLE\n",
    "        self.HANDLE_LEFT = self.HANDLE_NUTRAL - self.MAX_HANDLE_ANGLE\n",
    "\n",
    "        self.channel = 0\n",
    "        return\n",
    "\n",
    "    def right(self):\n",
    "        self.pwm.set_pwm(self.channel, 0, self.HANDLE_RIGHT)\n",
    "    def forward(self):\n",
    "        self.pwm.set_pwm(self.channel, 0, self.HANDLE_NUTRAL)\n",
    "    def left(self):\n",
    "        self.pwm.set_pwm(self.channel, 0, self.HANDLE_LEFT)\n",
    "    def stop(self):\n",
    "        self.pwm.set_pwm(self.channel, 0, self.HANDLE_NUTRAL)\n",
    "\n",
    "\n",
    "'''\n",
    "モーター制御クラス\n",
    "'''\n",
    "class MotorControl():\n",
    "    def __init__(self):\n",
    "        ## DRV8830 Default I2C slave address\n",
    "        self.MOTOR1_ADDRESS  = 0x64\n",
    "        ''' DRV8830 Register Addresses '''\n",
    "        ## sample rate driver\n",
    "        self.CONTROL = 0x00\n",
    "        ## Value motor.\n",
    "        self.FORWARD = 0x02\n",
    "        self.BACK = 0x01\n",
    "        self.STOP = 0x00\n",
    "\n",
    "        self.MAX_SPEED = 101\n",
    "\n",
    "        ## smbus\n",
    "        self.bus = smbus.SMBus(1)\n",
    "\n",
    "    def map(self, x, in_min, in_max, out_min, out_max):\n",
    "        return (x - in_min) * (out_max - out_min) // (in_max - in_min) + out_min\n",
    "\n",
    "    def drive(self, speed=101):\n",
    "        if speed < 0:\n",
    "            return\n",
    "        if speed > self.MAX_SPEED:\n",
    "            return\n",
    "        s = self.map(speed, 1, 100, 1, 58)\n",
    "        sval = self.FORWARD | ((s+5)<<2) #スピードを設定して送信するデータを1Byte作成\n",
    "        self.bus.write_i2c_block_data(self.MOTOR1_ADDRESS,self.CONTROL,[sval]) #生成したデータを送信\n",
    "\n",
    "    def back(self, speed=101):\n",
    "        if speed < 0:\n",
    "            return\n",
    "        if speed > self.MAX_SPEED:\n",
    "            return\n",
    "        s = self.map(speed, 1, 100, 1, 58)\n",
    "        sval = self.BACK | ((s+5)<<2) #スピードを設定して送信するデータを1Byte作成\n",
    "        self.bus.write_i2c_block_data(self.MOTOR1_ADDRESS,self.CONTROL,[sval]) #生成したデータを送信\n",
    "\n",
    "    def stop(self):\n",
    "        speed = 0\n",
    "        s = self.map(speed, 1, 100, 1, 58)\n",
    "        sval = self.FORWARD | ((s+5)<<2) #スピードを設定して送信するデータを1Byte作成\n",
    "        self.bus.write_i2c_block_data(self.MOTOR1_ADDRESS,self.CONTROL,[sval]) #生成したデータを送信\n",
    "\n",
    "\n",
    "'''\n",
    "ここはプロセスで実行される\n",
    "SHARED_VARIABLE['CONTROL_READY']=True であるうちは実行を続ける\n",
    "'''\n",
    "def do_control():\n",
    "    logging.debug(\"enter\")\n",
    "    SHARED_VARIABLE['CONTROL_READY']=True\n",
    "\n",
    "    STOP=0\n",
    "    LEFT=1\n",
    "    FORWARD=2\n",
    "    RIGHT=3\n",
    "\n",
    "    calibration = +0\n",
    "    steering_control = SteeringControl(calibration=calibration)\n",
    "    motor_control = MotorControl()\n",
    "    # タイヤをまっすぐにする\n",
    "    steering_control.forward()\n",
    "\n",
    "    ####################\n",
    "    # ループ実行\n",
    "    ####################\n",
    "    while SHARED_VARIABLE['CONTROL_READY']:\n",
    "        print(\"control: \", SHARED_VARIABLE['PREDICTION_VALUE'])\n",
    "        if SHARED_VARIABLE['PREDICTION_VALUE'] == STOP:\n",
    "            motor_control.stop()\n",
    "            steering_control.forward()\n",
    "        if SHARED_VARIABLE['PREDICTION_VALUE'] == LEFT:\n",
    "            steering_control.left()\n",
    "            motor_control.drive()\n",
    "        if SHARED_VARIABLE['PREDICTION_VALUE'] == FORWARD:\n",
    "            steering_control.forward()\n",
    "            motor_control.drive()\n",
    "        if SHARED_VARIABLE['PREDICTION_VALUE'] == RIGHT:\n",
    "            steering_control.right()\n",
    "            motor_control.drive()\n",
    "\n",
    "        time.sleep(LIDAR_INTERVAL)\n",
    "\n",
    "    motor_control.stop()\n",
    "    steering_control.forward()\n",
    "    return\n",
    "\n",
    "\n",
    "\n",
    "def load_graph(frozen_graph_filename):\n",
    "    # We load the protobuf file from the disk and parse it to retrieve the \n",
    "    # unserialized graph_def\n",
    "    with tf.gfile.GFile(frozen_graph_filename, \"rb\") as f:\n",
    "        graph_def = tf.GraphDef()\n",
    "        graph_def.ParseFromString(f.read())\n",
    "\n",
    "    # Then, we can use again a convenient built-in function to import a graph_def into the \n",
    "    # current default Graph\n",
    "    with tf.Graph().as_default() as graph:\n",
    "        tf.import_graph_def(\n",
    "            graph_def, \n",
    "            input_map=None, \n",
    "            return_elements=None, \n",
    "            name=\"prefix\", \n",
    "            op_dict=None, \n",
    "            producer_op_list=None\n",
    "        )\n",
    "    return graph\n",
    "\n",
    "\n",
    "'''\n",
    "ここはプロセスで実行される\n",
    "SHARED_VARIABLE['PREDICTION_READY']=True であるうちは実行を続ける\n",
    "'''\n",
    "def do_prediction():\n",
    "    logging.debug(\"enter\")\n",
    "    SHARED_VARIABLE['PREDICTION_READY']=True\n",
    "    tf.reset_default_graph()\n",
    "\n",
    "    ########################################\n",
    "    # AI準備\n",
    "    ########################################\n",
    "    try:\n",
    "\n",
    "        # Lidar準備\n",
    "        lidar1 = LidarLiteV3.Connect(0x52)\n",
    "        lidar2 = LidarLiteV3.Connect(0x54)\n",
    "        lidar3 = LidarLiteV3.Connect(0x56)\n",
    "        \n",
    "        # AIモデルファイル名とディレクトリ\n",
    "        FROZEN_MODEL_NAME=\"car_lidar_queue_20000.pb\"\n",
    "        MODEL_DIR = \"../model_car_lidar_queue\"\n",
    "\n",
    "        # AIモデル読み込み\n",
    "        graph = load_graph(MODEL_DIR+\"/\"+FROZEN_MODEL_NAME)\n",
    "        graph_def = graph.as_graph_def()\n",
    "        # AI入出力ノード取得\n",
    "        input_x = graph.get_tensor_by_name('prefix/queue/dequeue_op:0')\n",
    "        output_y= graph.get_tensor_by_name('prefix/neural_network_model/output_y:0')\n",
    "\n",
    "        n_classes=4 # 出力数(STOP,LEFT,FORWARD,RIGHTの4種類)\n",
    "        start_time, start_clock = time.time(), time.clock()\n",
    "\n",
    "        '''\n",
    "        AI予測実行\n",
    "        sensor:[[100,200,100]] # [[LEFT45,FRONT,RIGHT45]], int型[1,3]配列\n",
    "        max_index:N # 0:STOP,1:LEFT,2:FORWARD,3:RIGHT int型\n",
    "        '''\n",
    "        with tf.Session(graph=graph) as sess:\n",
    "            ####################\n",
    "            # ループ実行\n",
    "            ####################\n",
    "            while SHARED_VARIABLE['PREDICTION_READY']:\n",
    "                distance1 = lidar1.getDistance()\n",
    "                distance2 = lidar2.getDistance()\n",
    "                distance3 = lidar3.getDistance()\n",
    "\n",
    "                _output_y = sess.run(output_y,feed_dict={input_x:[[distance1,distance2,distance3]]})\n",
    "                max_index = np.argmax(_output_y) # max_value's index no\n",
    "                SHARED_VARIABLE['PREDICTION_VALUE'] = max_index\n",
    "\n",
    "                time.sleep(LIDAR_INTERVAL)\n",
    "\n",
    "    except Exception as e:\n",
    "        print(str(e))\n",
    "        if not SHARED_VARIABLE['PREDICTION_READY']:\n",
    "            print('error! PREDICTION_READY is False')\n",
    "    finally:\n",
    "        return\n",
    "\n",
    "\n",
    "\n",
    "\n",
    "\n",
    "'''\n",
    "ここはプロセスで実行される\n",
    "'''\n",
    "def do_stop():\n",
    "    tag='STOP'\n",
    "\n",
    "    ####################\n",
    "    # ループ実行\n",
    "    ####################\n",
    "    start_time = time.time()\n",
    "    RUNNING_SEC = 30\n",
    "    time.sleep(RUNNING_SEC)\n",
    "    SHARED_VARIABLE['CONTROL_READY']=False\n",
    "    SHARED_VARIABLE['PREDICTION_READY']=False\n",
    "    SHARED_VARIABLE['IF_READY']=False\n",
    "\n",
    "    return\n",
    "\n",
    "'''\n",
    "process pattern\n",
    "'''\n",
    "SHARED_VARIABLE=Manager().dict()\n",
    "SHARED_VARIABLE['CONTROL_READY']=False\n",
    "SHARED_VARIABLE['PREDICTION_READY']=False\n",
    "SHARED_VARIABLE['IF_READY']=False\n",
    "SHARED_VARIABLE['CONTROL_VALUE']=0\n",
    "SHARED_VARIABLE['PREDICTION_VALUE']=0\n",
    "\n",
    "'''\n",
    "プロセスによる実行関数の振り分け定義\n",
    "'''\n",
    "PROCESS_LIST=['do_control','do_prediction','do_stop']\n",
    "def do_process(target):\n",
    "\n",
    "    if target == 'do_control':\n",
    "        do_control()\n",
    "        return \"end do_control\"\n",
    "    if target == 'do_prediction':\n",
    "        do_prediction()\n",
    "        return \"end do_prediction\"\n",
    "    if target == 'do_stop':\n",
    "        do_stop()\n",
    "        return \"end do_stop\"\n",
    "\n",
    "'''\n",
    "メイン処理を行う部分\n",
    "・メインスレッド（ここ）\n",
    "・スレッド1(concurrent.futures)\n",
    "・スレッド2(concurrent.futures)\n",
    "・制御スレッド(concurrent.futures)\n",
    "'''\n",
    "def do_main():\n",
    "    try:\n",
    "        with futures.ProcessPoolExecutor(max_workers=len(PROCESS_LIST)) as executer:\n",
    "            mappings = {executer.submit(do_process, pname): pname for pname in PROCESS_LIST}\n",
    "            for i in futures.as_completed(mappings):\n",
    "                target = mappings[i]\n",
    "                result = i.result()\n",
    "                print(result)\n",
    "\n",
    "    except Exception as e:\n",
    "        print('error! executer failed.')\n",
    "        print(str(e))\n",
    "    finally:\n",
    "        print(\"executer end\")\n",
    "\n",
    "    return\n",
    "\n",
    "do_main()\n"
   ]
  },
  {
   "cell_type": "code",
   "execution_count": null,
   "metadata": {
    "collapsed": true
   },
   "outputs": [],
   "source": []
  }
 ],
 "metadata": {
  "kernelspec": {
   "display_name": "Python 2",
   "language": "python",
   "name": "python2"
  },
  "language_info": {
   "codemirror_mode": {
    "name": "ipython",
    "version": 2
   },
   "file_extension": ".py",
   "mimetype": "text/x-python",
   "name": "python",
   "nbconvert_exporter": "python",
   "pygments_lexer": "ipython2",
   "version": "2.7.12"
  }
 },
 "nbformat": 4,
 "nbformat_minor": 2
}
