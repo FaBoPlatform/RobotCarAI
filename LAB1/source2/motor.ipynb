{
 "cells": [
  {
   "cell_type": "code",
   "execution_count": 4,
   "metadata": {},
   "outputs": [
    {
     "name": "stdout",
     "output_type": "stream",
     "text": [
      "start\n",
      "66\n",
      "end\n"
     ]
    }
   ],
   "source": [
    "#!/usr/bin/python\n",
    "# coding: utf-8 \n",
    "import smbus\n",
    "import sys\n",
    "\n",
    "## DRV8830 Default I2C slave address\n",
    "MOTOR1_ADDRESS  = 0x64\n",
    "''' DRV8830 Register Addresses '''\n",
    "## sample rate driver\n",
    "CONTROL = 0x00\n",
    "## Value motor.\n",
    "FORWARD = 0x02\n",
    "BACK = 0x01\n",
    "STOP = 0x00\n",
    "\n",
    "print(\"start\")\n",
    "\n",
    "## smbus\n",
    "bus = smbus.SMBus(1)\n",
    "\n",
    "def map(x, in_min, in_max, out_min, out_max):\n",
    "    return (x - in_min) * (out_max - out_min) // (in_max - in_min) + out_min\n",
    "    \n",
    "speed = 20\n",
    "s = map(speed, 1, 100, 1, 58)\n",
    "sval = FORWARD | ((s+5)<<2) #スピードを設定して送信するデータを1Byte作成\n",
    "bus.write_i2c_block_data(MOTOR1_ADDRESS,CONTROL,[sval]) #生成したデータを送信\n",
    "print(sval)\n",
    "\n",
    "print(\"end\")\n"
   ]
  },
  {
   "cell_type": "code",
   "execution_count": null,
   "metadata": {
    "collapsed": true
   },
   "outputs": [],
   "source": []
  }
 ],
 "metadata": {
  "kernelspec": {
   "display_name": "Python 2",
   "language": "python",
   "name": "python2"
  },
  "language_info": {
   "codemirror_mode": {
    "name": "ipython",
    "version": 2
   },
   "file_extension": ".py",
   "mimetype": "text/x-python",
   "name": "python",
   "nbconvert_exporter": "python",
   "pygments_lexer": "ipython2",
   "version": "2.7.12"
  }
 },
 "nbformat": 4,
 "nbformat_minor": 2
}
