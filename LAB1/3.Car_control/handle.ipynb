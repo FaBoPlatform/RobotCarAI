{
 "cells": [
  {
   "cell_type": "code",
   "execution_count": null,
   "metadata": {},
   "outputs": [],
   "source": [
    "#!/usr/bin/python\n",
    "# coding: utf-8 \n",
    "\n",
    "from __future__ import division\n",
    "import time\n",
    "import MotorShield\n",
    "\n",
    "print(\"start\")\n",
    "\n",
    "CALIBRATION = 0 # フロントタイヤがまっすぐになりそうな角度に調整\n",
    "HANDLE_NEUTRAL = 310 + CALIBRATION # フロントタイヤがまっすぐの時のサーボ位置\n",
    "\n",
    "HANDLE_MAX_ANGLE = 45 # フロントタイヤの左右最大角のサーボ位置\n",
    "HANDLE_RIGHT = HANDLE_NEUTRAL + HANDLE_MAX_ANGLE\n",
    "HANDLE_LEFT = HANDLE_NEUTRAL - HANDLE_MAX_ANGLE\n",
    "\n",
    "car = MotorShield.RobotCar()\n",
    "car.handle_forward(HANDLE_NEUTRAL)\n",
    "\n",
    "def main():\n",
    "    try:\n",
    "        while True:\n",
    "            # 人力確認\n",
    "            #value = car.get_handle_angle()\n",
    "            #print(value)\n",
    "            #ANGLE = float(raw_input('Enter angle: '))\n",
    "            #HANDLE_ANGLE = ANGLE\n",
    "            #car.handle_angle(HANDLE_ANGLE)\n",
    "\n",
    "            # 右、中央、左のみの操作\n",
    "            car.handle_right()\n",
    "            time.sleep(1)\n",
    "            car.handle_forward()\n",
    "            time.sleep(1)\n",
    "            car.handle_left()\n",
    "            time.sleep(1)\n",
    "            car.handle_forward()\n",
    "            time.sleep(1)\n",
    "            # 値指定の操作\n",
    "            car.handle_angle(HANDLE_RIGHT)\n",
    "            time.sleep(1)\n",
    "            car.handle_angle(HANDLE_NEUTRAL)\n",
    "            time.sleep(1)\n",
    "            car.handle_angle(HANDLE_LEFT)\n",
    "            time.sleep(1)\n",
    "            car.handle_angle(HANDLE_NEUTRAL)\n",
    "            time.sleep(2)\n",
    "\n",
    "\n",
    "    except KeyboardInterrupt:\n",
    "        pass\n",
    "\n",
    "main()\n",
    "\n",
    "car.handle_forward()\n",
    "print(\"END\")\n"
   ]
  },
  {
   "cell_type": "code",
   "execution_count": null,
   "metadata": {
    "collapsed": true
   },
   "outputs": [],
   "source": []
  }
 ],
 "metadata": {
  "kernelspec": {
   "display_name": "Python 2",
   "language": "python",
   "name": "python2"
  },
  "language_info": {
   "codemirror_mode": {
    "name": "ipython",
    "version": 2
   },
   "file_extension": ".py",
   "mimetype": "text/x-python",
   "name": "python",
   "nbconvert_exporter": "python",
   "pygments_lexer": "ipython2",
   "version": "2.7.12"
  }
 },
 "nbformat": 4,
 "nbformat_minor": 2
}
