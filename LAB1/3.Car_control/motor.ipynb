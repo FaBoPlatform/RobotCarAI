{
 "cells": [
  {
   "cell_type": "code",
   "execution_count": 1,
   "metadata": {},
   "outputs": [
    {
     "name": "stdout",
     "output_type": "stream",
     "text": [
      "start\n",
      "end\n"
     ]
    }
   ],
   "source": [
    "#!/usr/bin/python\n",
    "# coding: utf-8 \n",
    "import time\n",
    "import MotorShield\n",
    "\n",
    "print(\"start\")\n",
    "\n",
    "car = MotorShield.RobotCar()\n",
    "car.motor_forward(100)\n",
    "time.sleep(1)\n",
    "car.motor_back(100)\n",
    "time.sleep(1)\n",
    "car.motor_forward(100)\n",
    "time.sleep(1)\n",
    "car.motor_stop()\n",
    "\n",
    "print(\"end\")\n"
   ]
  },
  {
   "cell_type": "code",
   "execution_count": null,
   "metadata": {
    "collapsed": true
   },
   "outputs": [],
   "source": []
  }
 ],
 "metadata": {
  "kernelspec": {
   "display_name": "Python 2",
   "language": "python",
   "name": "python2"
  },
  "language_info": {
   "codemirror_mode": {
    "name": "ipython",
    "version": 2
   },
   "file_extension": ".py",
   "mimetype": "text/x-python",
   "name": "python",
   "nbconvert_exporter": "python",
   "pygments_lexer": "ipython2",
   "version": "2.7.12"
  }
 },
 "nbformat": 4,
 "nbformat_minor": 2
}
